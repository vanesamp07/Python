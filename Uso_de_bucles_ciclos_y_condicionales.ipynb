{
  "nbformat": 4,
  "nbformat_minor": 0,
  "metadata": {
    "colab": {
      "provenance": [],
      "authorship_tag": "ABX9TyM3s1ZYFm2u+/261eyKfBri",
      "include_colab_link": true
    },
    "kernelspec": {
      "name": "python3",
      "display_name": "Python 3"
    },
    "language_info": {
      "name": "python"
    }
  },
  "cells": [
    {
      "cell_type": "markdown",
      "metadata": {
        "id": "view-in-github",
        "colab_type": "text"
      },
      "source": [
        "<a href=\"https://colab.research.google.com/github/vanesamp07/Python/blob/main/Uso_de_bucles_ciclos_y_condicionales.ipynb\" target=\"_parent\"><img src=\"https://colab.research.google.com/assets/colab-badge.svg\" alt=\"Open In Colab\"/></a>"
      ]
    },
    {
      "cell_type": "markdown",
      "source": [
        "Inicialmente, le pedimos al usuario ingresar los dos primeros numeros interos mediante un int(entero) y un input"
      ],
      "metadata": {
        "id": "ap442S9W2FN8"
      }
    },
    {
      "cell_type": "code",
      "source": [
        "numero1 = int(input(\"Ingrese el primer numero entero: \"))"
      ],
      "metadata": {
        "colab": {
          "base_uri": "https://localhost:8080/"
        },
        "id": "mjpanuDzzanv",
        "outputId": "1f3f22c6-88ca-437b-fcf7-9299573951b0"
      },
      "execution_count": null,
      "outputs": [
        {
          "name": "stdout",
          "output_type": "stream",
          "text": [
            "Ingrese el primer numero entero: 9\n"
          ]
        }
      ]
    },
    {
      "cell_type": "code",
      "source": [
        "numero2 = int(input(\"Ingrese el segundo numero entero: \"))"
      ],
      "metadata": {
        "colab": {
          "base_uri": "https://localhost:8080/"
        },
        "id": "vaym62jozfJs",
        "outputId": "7caa1073-5b95-4b14-8d96-5205db3bd1a7"
      },
      "execution_count": null,
      "outputs": [
        {
          "name": "stdout",
          "output_type": "stream",
          "text": [
            "Ingrese el segundo numero entero: 39\n"
          ]
        }
      ]
    },
    {
      "cell_type": "markdown",
      "source": [
        "Revisamos que el primer numero entero sea menor que el segundo"
      ],
      "metadata": {
        "id": "GjMfI4Tm2Yh2"
      }
    },
    {
      "cell_type": "code",
      "source": [
        "if numero1 > numero2:\n",
        "    numero1, numero2 = numero2, numero1"
      ],
      "metadata": {
        "id": "kG3sKOIW1gfX"
      },
      "execution_count": null,
      "outputs": []
    },
    {
      "cell_type": "markdown",
      "source": [
        "Realizamos la suma utilizando ciclo for y range"
      ],
      "metadata": {
        "id": "okGL_uBC2eF6"
      }
    },
    {
      "cell_type": "code",
      "source": [
        "suma_pares = sum(numero for numero in range(numero1, numero2 + 1) if numero % 2 == 0)"
      ],
      "metadata": {
        "id": "CQDmRF6z138a"
      },
      "execution_count": null,
      "outputs": []
    },
    {
      "cell_type": "markdown",
      "source": [
        "Imprimimos el resultado de la suma de los pares entre ambos numeros ingresados"
      ],
      "metadata": {
        "id": "VR_ZYdj82kEp"
      }
    },
    {
      "cell_type": "code",
      "source": [
        "print(\"La suma de todos los números pares entre\", numero1, \"y\", numero2, \"es:\", suma_pares)\n"
      ],
      "metadata": {
        "colab": {
          "base_uri": "https://localhost:8080/"
        },
        "id": "qmgiBI8J15-E",
        "outputId": "4924601a-076d-44ce-abeb-e4841259a263"
      },
      "execution_count": null,
      "outputs": [
        {
          "output_type": "stream",
          "name": "stdout",
          "text": [
            "La suma de todos los números pares entre 9 y 39 es: 360\n"
          ]
        }
      ]
    },
    {
      "cell_type": "markdown",
      "source": [
        "Declaramos la variable figura y le pedimos al usuario ingresar la figura geometica"
      ],
      "metadata": {
        "id": "YYXRwG3b3vjE"
      }
    },
    {
      "cell_type": "code",
      "source": [
        "figura = str(input(\"Introduzca la figura geometrica: \"))"
      ],
      "metadata": {
        "colab": {
          "base_uri": "https://localhost:8080/"
        },
        "id": "6ug-dYFN3ZQJ",
        "outputId": "96ded7ef-3879-4ae6-b5d7-8f26f0d74349"
      },
      "execution_count": null,
      "outputs": [
        {
          "name": "stdout",
          "output_type": "stream",
          "text": [
            "Introduzca la figura geometrica: triangulo\n"
          ]
        }
      ]
    },
    {
      "cell_type": "markdown",
      "source": [
        "Le preguntamos al usuario las medidas correspondientes a la base y la altura del triangulo"
      ],
      "metadata": {
        "id": "tBZM374Q4Jys"
      }
    },
    {
      "cell_type": "code",
      "source": [
        "base = float(input(\"Introduzca la base del triangulo: \"))"
      ],
      "metadata": {
        "id": "RREzqdPG3qNx",
        "colab": {
          "base_uri": "https://localhost:8080/"
        },
        "outputId": "93d0c507-b485-4f98-b1bb-3c90b67de49d"
      },
      "execution_count": null,
      "outputs": [
        {
          "name": "stdout",
          "output_type": "stream",
          "text": [
            "Introduzca la base del triangulo: 31.3\n"
          ]
        }
      ]
    },
    {
      "cell_type": "code",
      "source": [
        "altura = float(input(\"Introduza la altura del triangulo:\"))"
      ],
      "metadata": {
        "colab": {
          "base_uri": "https://localhost:8080/"
        },
        "id": "-qj0zG_y3-NO",
        "outputId": "3cb0334b-f1b1-4bc1-e6ee-3b965dd01ebc"
      },
      "execution_count": null,
      "outputs": [
        {
          "name": "stdout",
          "output_type": "stream",
          "text": [
            "Introduza la altura del triangulo:22.9\n"
          ]
        }
      ]
    },
    {
      "cell_type": "markdown",
      "source": [
        "Ingresamos la formula para calcular el area"
      ],
      "metadata": {
        "id": "K7TWyOI-_X5B"
      }
    },
    {
      "cell_type": "code",
      "source": [
        "area = (base * altura) / 2"
      ],
      "metadata": {
        "id": "49gBzP7R4HaS"
      },
      "execution_count": null,
      "outputs": []
    },
    {
      "cell_type": "markdown",
      "source": [
        "Imprimimos el resultado"
      ],
      "metadata": {
        "id": "u5RXzBah_fOr"
      }
    },
    {
      "cell_type": "code",
      "source": [
        "print(f\"El area del triangulo es igual a: {area}\")"
      ],
      "metadata": {
        "colab": {
          "base_uri": "https://localhost:8080/"
        },
        "id": "Q7RiJBQO4aKO",
        "outputId": "6e6220a5-958a-425f-fa48-ab7a508d8343"
      },
      "execution_count": null,
      "outputs": [
        {
          "output_type": "stream",
          "name": "stdout",
          "text": [
            "El area del triangulo es igual a: 358.385\n"
          ]
        }
      ]
    },
    {
      "cell_type": "markdown",
      "source": [
        "Importamos la libreria, generamos el numero aleatorio, utilizamos el bucle while y los condicionales if, elif y else para generar las instrucciones al usuario y adivinar el numero generado"
      ],
      "metadata": {
        "id": "APIx-32OAxdi"
      }
    },
    {
      "cell_type": "code",
      "source": [
        "import random\n",
        "\n",
        "numero_aleatorio = random.randint(1, 100)\n",
        "print(\"He generado un número entre 1 y 100. Intenta adivinarlo\")\n",
        "\n",
        "while True:\n",
        "    try:\n",
        "        adivinanza = int(input(\"Introduce tu adivinanza: \"))\n",
        "\n",
        "        if adivinanza < 1 or adivinanza > 100:\n",
        "            print(\"Por favor, introduce un número entre 1 y 100.\")\n",
        "            continue\n",
        "\n",
        "        if adivinanza < numero_aleatorio:\n",
        "            print(\"El número es mayor. Intenta de nuevo.\")\n",
        "        elif adivinanza > numero_aleatorio:\n",
        "            print(\"El número es menor. Intenta de nuevo.\")\n",
        "        else:\n",
        "            print(\"¡Correcto! Has adivinado el número.\")\n",
        "            break\n",
        "    except ValueError:\n",
        "        print(\"Por favor, introduce un número entero válido.\")\n"
      ],
      "metadata": {
        "colab": {
          "base_uri": "https://localhost:8080/"
        },
        "id": "0OOjuBBY4fSj",
        "outputId": "0dcf315f-4c55-4119-f2f5-2975d342844d"
      },
      "execution_count": null,
      "outputs": [
        {
          "output_type": "stream",
          "name": "stdout",
          "text": [
            "He generado un número entre 1 y 100. ¡Intenta adivinarlo!\n",
            "Introduce tu adivinanza: 22\n",
            "El número es mayor. Intenta de nuevo.\n",
            "Introduce tu adivinanza: 30\n",
            "El número es mayor. Intenta de nuevo.\n",
            "Introduce tu adivinanza: 40\n",
            "El número es mayor. Intenta de nuevo.\n",
            "Introduce tu adivinanza: 50\n",
            "El número es menor. Intenta de nuevo.\n",
            "Introduce tu adivinanza: 43\n",
            "El número es mayor. Intenta de nuevo.\n",
            "Introduce tu adivinanza: 44\n",
            "El número es mayor. Intenta de nuevo.\n",
            "Introduce tu adivinanza: 45\n",
            "El número es mayor. Intenta de nuevo.\n",
            "Introduce tu adivinanza: 46\n",
            "El número es mayor. Intenta de nuevo.\n",
            "Introduce tu adivinanza: 47\n",
            "¡Correcto! Has adivinado el número.\n"
          ]
        }
      ]
    },
    {
      "cell_type": "code",
      "source": [
        "import time\n",
        "import os\n",
        "\n",
        "velocidad = int(input(\"Ingresa la velocidad del pollo en metros por segundo: \"))\n",
        "\n",
        "distancia_total = 100\n",
        "\n",
        "tiempo_total = distancia_total / velocidad\n",
        "\n",
        "for segundo in range(int(tiempo_total)):\n",
        "    os.system('cls' if os.name == 'nt' else 'clear')\n",
        "\n",
        "    distancia_recorrida = velocidad * (segundo + 1)\n",
        "\n",
        "    print(\" \" * distancia_recorrida + \"🐥\")\n",
        "\n",
        "    time.sleep(1)\n",
        "\n",
        "print(\"¡El pollo ha llegado a la meta!\")\n"
      ],
      "metadata": {
        "colab": {
          "base_uri": "https://localhost:8080/"
        },
        "id": "f4Lu6bvNASXU",
        "outputId": "0a41bab4-8c77-4291-b93c-7e35d687cc26"
      },
      "execution_count": null,
      "outputs": [
        {
          "output_type": "stream",
          "name": "stdout",
          "text": [
            "Ingresa la velocidad del pollo en metros por segundo: 60\n",
            "                                                            🐥\n",
            "¡El pollo ha llegado a la meta!\n"
          ]
        }
      ]
    },
    {
      "cell_type": "code",
      "source": [],
      "metadata": {
        "id": "3I7F4J8BCF2k"
      },
      "execution_count": null,
      "outputs": []
    }
  ]
}
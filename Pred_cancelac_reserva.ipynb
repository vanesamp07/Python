{
  "cells": [
    {
      "cell_type": "markdown",
      "metadata": {
        "id": "view-in-github",
        "colab_type": "text"
      },
      "source": [
        "<a href=\"https://colab.research.google.com/github/vanesamp07/Python/blob/main/Pred_cancelac_reserva.ipynb\" target=\"_parent\"><img src=\"https://colab.research.google.com/assets/colab-badge.svg\" alt=\"Open In Colab\"/></a>"
      ]
    },
    {
      "cell_type": "code",
      "execution_count": null,
      "id": "ce9df9e0-36ba-40af-be5f-914fdc9d02ed",
      "metadata": {
        "id": "ce9df9e0-36ba-40af-be5f-914fdc9d02ed",
        "outputId": "757e3ad2-826b-4648-f199-c5d42cba00a0"
      },
      "outputs": [
        {
          "name": "stdout",
          "output_type": "stream",
          "text": [
            "Requirement already satisfied: tensorflow in c:\\users\\usuario\\.ms-ad\\lib\\site-packages (2.19.0)\n",
            "Requirement already satisfied: absl-py>=1.0.0 in c:\\users\\usuario\\.ms-ad\\lib\\site-packages (from tensorflow) (2.3.1)\n",
            "Requirement already satisfied: astunparse>=1.6.0 in c:\\users\\usuario\\.ms-ad\\lib\\site-packages (from tensorflow) (1.6.3)\n",
            "Requirement already satisfied: flatbuffers>=24.3.25 in c:\\users\\usuario\\.ms-ad\\lib\\site-packages (from tensorflow) (25.2.10)\n",
            "Requirement already satisfied: gast!=0.5.0,!=0.5.1,!=0.5.2,>=0.2.1 in c:\\users\\usuario\\.ms-ad\\lib\\site-packages (from tensorflow) (0.6.0)\n",
            "Requirement already satisfied: google-pasta>=0.1.1 in c:\\users\\usuario\\.ms-ad\\lib\\site-packages (from tensorflow) (0.2.0)\n",
            "Requirement already satisfied: libclang>=13.0.0 in c:\\users\\usuario\\.ms-ad\\lib\\site-packages (from tensorflow) (18.1.1)\n",
            "Requirement already satisfied: opt-einsum>=2.3.2 in c:\\users\\usuario\\.ms-ad\\lib\\site-packages (from tensorflow) (3.4.0)\n",
            "Requirement already satisfied: packaging in c:\\users\\usuario\\.ms-ad\\lib\\site-packages (from tensorflow) (23.1)\n",
            "Requirement already satisfied: protobuf!=4.21.0,!=4.21.1,!=4.21.2,!=4.21.3,!=4.21.4,!=4.21.5,<6.0.0dev,>=3.20.3 in c:\\users\\usuario\\.ms-ad\\lib\\site-packages (from tensorflow) (3.20.3)\n",
            "Requirement already satisfied: requests<3,>=2.21.0 in c:\\users\\usuario\\.ms-ad\\lib\\site-packages (from tensorflow) (2.31.0)\n",
            "Requirement already satisfied: setuptools in c:\\users\\usuario\\.ms-ad\\lib\\site-packages (from tensorflow) (68.2.2)\n",
            "Requirement already satisfied: six>=1.12.0 in c:\\users\\usuario\\.ms-ad\\lib\\site-packages (from tensorflow) (1.16.0)\n",
            "Requirement already satisfied: termcolor>=1.1.0 in c:\\users\\usuario\\.ms-ad\\lib\\site-packages (from tensorflow) (3.1.0)\n",
            "Requirement already satisfied: typing-extensions>=3.6.6 in c:\\users\\usuario\\.ms-ad\\lib\\site-packages (from tensorflow) (4.9.0)\n",
            "Requirement already satisfied: wrapt>=1.11.0 in c:\\users\\usuario\\.ms-ad\\lib\\site-packages (from tensorflow) (1.14.1)\n",
            "Requirement already satisfied: grpcio<2.0,>=1.24.3 in c:\\users\\usuario\\.ms-ad\\lib\\site-packages (from tensorflow) (1.74.0)\n",
            "Requirement already satisfied: tensorboard~=2.19.0 in c:\\users\\usuario\\.ms-ad\\lib\\site-packages (from tensorflow) (2.19.0)\n",
            "Requirement already satisfied: keras>=3.5.0 in c:\\users\\usuario\\.ms-ad\\lib\\site-packages (from tensorflow) (3.11.1)\n",
            "Requirement already satisfied: numpy<2.2.0,>=1.26.0 in c:\\users\\usuario\\.ms-ad\\lib\\site-packages (from tensorflow) (1.26.4)\n",
            "Requirement already satisfied: h5py>=3.11.0 in c:\\users\\usuario\\.ms-ad\\lib\\site-packages (from tensorflow) (3.14.0)\n",
            "Requirement already satisfied: ml-dtypes<1.0.0,>=0.5.1 in c:\\users\\usuario\\.ms-ad\\lib\\site-packages (from tensorflow) (0.5.3)\n",
            "Requirement already satisfied: tensorflow-io-gcs-filesystem>=0.23.1 in c:\\users\\usuario\\.ms-ad\\lib\\site-packages (from tensorflow) (0.31.0)\n",
            "Requirement already satisfied: wheel<1.0,>=0.23.0 in c:\\users\\usuario\\.ms-ad\\lib\\site-packages (from astunparse>=1.6.0->tensorflow) (0.41.2)\n",
            "Requirement already satisfied: rich in c:\\users\\usuario\\.ms-ad\\lib\\site-packages (from keras>=3.5.0->tensorflow) (13.3.5)\n",
            "Requirement already satisfied: namex in c:\\users\\usuario\\.ms-ad\\lib\\site-packages (from keras>=3.5.0->tensorflow) (0.1.0)\n",
            "Requirement already satisfied: optree in c:\\users\\usuario\\.ms-ad\\lib\\site-packages (from keras>=3.5.0->tensorflow) (0.17.0)\n",
            "Requirement already satisfied: charset-normalizer<4,>=2 in c:\\users\\usuario\\.ms-ad\\lib\\site-packages (from requests<3,>=2.21.0->tensorflow) (2.0.4)\n",
            "Requirement already satisfied: idna<4,>=2.5 in c:\\users\\usuario\\.ms-ad\\lib\\site-packages (from requests<3,>=2.21.0->tensorflow) (3.4)\n",
            "Requirement already satisfied: urllib3<3,>=1.21.1 in c:\\users\\usuario\\.ms-ad\\lib\\site-packages (from requests<3,>=2.21.0->tensorflow) (2.0.7)\n",
            "Requirement already satisfied: certifi>=2017.4.17 in c:\\users\\usuario\\.ms-ad\\lib\\site-packages (from requests<3,>=2.21.0->tensorflow) (2025.6.15)\n",
            "Requirement already satisfied: markdown>=2.6.8 in c:\\users\\usuario\\.ms-ad\\lib\\site-packages (from tensorboard~=2.19.0->tensorflow) (3.4.1)\n",
            "Requirement already satisfied: tensorboard-data-server<0.8.0,>=0.7.0 in c:\\users\\usuario\\.ms-ad\\lib\\site-packages (from tensorboard~=2.19.0->tensorflow) (0.7.2)\n",
            "Requirement already satisfied: werkzeug>=1.0.1 in c:\\users\\usuario\\.ms-ad\\lib\\site-packages (from tensorboard~=2.19.0->tensorflow) (2.2.3)\n",
            "Requirement already satisfied: MarkupSafe>=2.1.1 in c:\\users\\usuario\\.ms-ad\\lib\\site-packages (from werkzeug>=1.0.1->tensorboard~=2.19.0->tensorflow) (2.1.3)\n",
            "Requirement already satisfied: markdown-it-py<3.0.0,>=2.2.0 in c:\\users\\usuario\\.ms-ad\\lib\\site-packages (from rich->keras>=3.5.0->tensorflow) (2.2.0)\n",
            "Requirement already satisfied: pygments<3.0.0,>=2.13.0 in c:\\users\\usuario\\.ms-ad\\lib\\site-packages (from rich->keras>=3.5.0->tensorflow) (2.15.1)\n",
            "Requirement already satisfied: mdurl~=0.1 in c:\\users\\usuario\\.ms-ad\\lib\\site-packages (from markdown-it-py<3.0.0,>=2.2.0->rich->keras>=3.5.0->tensorflow) (0.1.0)\n"
          ]
        }
      ],
      "source": [
        "!pip install tensorflow"
      ]
    },
    {
      "cell_type": "code",
      "execution_count": null,
      "id": "c6aa09d5-b72a-4bfb-8cac-45bd86a3d528",
      "metadata": {
        "id": "c6aa09d5-b72a-4bfb-8cac-45bd86a3d528",
        "outputId": "c99a9475-ab06-4bba-f1e5-cc46f478bcc7"
      },
      "outputs": [
        {
          "name": "stdout",
          "output_type": "stream",
          "text": [
            "Requirement already satisfied: scikeras in c:\\users\\usuario\\.ms-ad\\lib\\site-packages (0.13.0)\n",
            "Requirement already satisfied: keras>=3.2.0 in c:\\users\\usuario\\.ms-ad\\lib\\site-packages (from scikeras) (3.11.1)\n",
            "Requirement already satisfied: scikit-learn>=1.4.2 in c:\\users\\usuario\\.ms-ad\\lib\\site-packages (from scikeras) (1.7.1)\n",
            "Requirement already satisfied: absl-py in c:\\users\\usuario\\.ms-ad\\lib\\site-packages (from keras>=3.2.0->scikeras) (2.3.1)\n",
            "Requirement already satisfied: numpy in c:\\users\\usuario\\.ms-ad\\lib\\site-packages (from keras>=3.2.0->scikeras) (1.26.4)\n",
            "Requirement already satisfied: rich in c:\\users\\usuario\\.ms-ad\\lib\\site-packages (from keras>=3.2.0->scikeras) (13.3.5)\n",
            "Requirement already satisfied: namex in c:\\users\\usuario\\.ms-ad\\lib\\site-packages (from keras>=3.2.0->scikeras) (0.1.0)\n",
            "Requirement already satisfied: h5py in c:\\users\\usuario\\.ms-ad\\lib\\site-packages (from keras>=3.2.0->scikeras) (3.14.0)\n",
            "Requirement already satisfied: optree in c:\\users\\usuario\\.ms-ad\\lib\\site-packages (from keras>=3.2.0->scikeras) (0.17.0)\n",
            "Requirement already satisfied: ml-dtypes in c:\\users\\usuario\\.ms-ad\\lib\\site-packages (from keras>=3.2.0->scikeras) (0.5.3)\n",
            "Requirement already satisfied: packaging in c:\\users\\usuario\\.ms-ad\\lib\\site-packages (from keras>=3.2.0->scikeras) (23.1)\n",
            "Requirement already satisfied: scipy>=1.8.0 in c:\\users\\usuario\\.ms-ad\\lib\\site-packages (from scikit-learn>=1.4.2->scikeras) (1.11.4)\n",
            "Requirement already satisfied: joblib>=1.2.0 in c:\\users\\usuario\\.ms-ad\\lib\\site-packages (from scikit-learn>=1.4.2->scikeras) (1.2.0)\n",
            "Requirement already satisfied: threadpoolctl>=3.1.0 in c:\\users\\usuario\\.ms-ad\\lib\\site-packages (from scikit-learn>=1.4.2->scikeras) (3.6.0)\n",
            "Requirement already satisfied: typing-extensions>=4.6.0 in c:\\users\\usuario\\.ms-ad\\lib\\site-packages (from optree->keras>=3.2.0->scikeras) (4.9.0)\n",
            "Requirement already satisfied: markdown-it-py<3.0.0,>=2.2.0 in c:\\users\\usuario\\.ms-ad\\lib\\site-packages (from rich->keras>=3.2.0->scikeras) (2.2.0)\n",
            "Requirement already satisfied: pygments<3.0.0,>=2.13.0 in c:\\users\\usuario\\.ms-ad\\lib\\site-packages (from rich->keras>=3.2.0->scikeras) (2.15.1)\n",
            "Requirement already satisfied: mdurl~=0.1 in c:\\users\\usuario\\.ms-ad\\lib\\site-packages (from markdown-it-py<3.0.0,>=2.2.0->rich->keras>=3.2.0->scikeras) (0.1.0)\n"
          ]
        }
      ],
      "source": [
        "!pip install scikeras"
      ]
    },
    {
      "cell_type": "code",
      "execution_count": null,
      "id": "8b981420-3f23-4940-b112-08ca37398b6d",
      "metadata": {
        "id": "8b981420-3f23-4940-b112-08ca37398b6d"
      },
      "outputs": [],
      "source": [
        "#Analisis de datos\n",
        "import pandas as pd #Calculos númericos\n",
        "import numpy as np #Manipulación de datos de DF\n",
        "import matplotlib.pyplot as plt #Graficas\n",
        "import seaborn as sns #Graficos\n",
        "\n",
        "#Machine learning\n",
        "from sklearn.feature_selection import SequentialFeatureSelector\n",
        "from sklearn.model_selection import train_test_split #División de datos en entrenamiento y prueba\n",
        "from sklearn.preprocessing import StandardScaler #Estandarización\n",
        "from sklearn.preprocessing import MinMaxScaler #Normalización\n",
        "\n",
        "from sklearn.model_selection import train_test_split\n",
        "\n",
        "#Redes neuronales\n",
        "import tensorflow as tf\n",
        "from tensorflow import keras\n",
        "from tensorflow.keras.layers import Dense\n",
        "import pandas as pd\n",
        "import numpy as np\n",
        "import matplotlib.pyplot as plt\n",
        "from sklearn.datasets import fetch_openml\n",
        "from sklearn.metrics import classification_report\n",
        "from sklearn.model_selection import train_test_split\n",
        "from sklearn.preprocessing import LabelEncoder, OneHotEncoder, MinMaxScaler\n",
        "from sklearn.model_selection import GridSearchCV\n",
        "from scikeras.wrappers import KerasClassifier #metodo para invocar nuestra función que construye la red\n",
        "\n",
        "from keras.optimizers import SGD, Adagrad, Adadelta\n",
        "from keras.models import Sequential\n",
        "from keras.initializers import HeNormal, GlorotNormal\n",
        "from keras.regularizers import l1, l2, l1_l2\n",
        "from keras.constraints import MaxNorm\n",
        "\n",
        "from keras.layers import Dropout"
      ]
    },
    {
      "cell_type": "markdown",
      "id": "f44cc839-0c64-42cd-ada8-d73e88f20266",
      "metadata": {
        "id": "f44cc839-0c64-42cd-ada8-d73e88f20266"
      },
      "source": [
        "### <font color = 'green'> PREDICIÓN DE CANCELACIÓN DE RESERVA"
      ]
    },
    {
      "cell_type": "markdown",
      "id": "de308431-5f9d-4871-ad54-f121269c7124",
      "metadata": {
        "id": "de308431-5f9d-4871-ad54-f121269c7124"
      },
      "source": [
        "##### <font color = 'blue'> PREPROCESAMIENTO DE DATOS"
      ]
    },
    {
      "cell_type": "code",
      "execution_count": null,
      "id": "578ae976-986d-43d4-b1a6-2035c085efaf",
      "metadata": {
        "id": "578ae976-986d-43d4-b1a6-2035c085efaf"
      },
      "outputs": [],
      "source": [
        "df = pd.read_csv(\"hotel_bookings.csv\")"
      ]
    },
    {
      "cell_type": "code",
      "execution_count": null,
      "id": "48cf440e-6427-4826-ba33-bf158ee16d41",
      "metadata": {
        "id": "48cf440e-6427-4826-ba33-bf158ee16d41",
        "outputId": "6fdb45f3-28f6-4afa-df53-5a1b3de36095"
      },
      "outputs": [
        {
          "data": {
            "text/html": [
              "<div>\n",
              "<style scoped>\n",
              "    .dataframe tbody tr th:only-of-type {\n",
              "        vertical-align: middle;\n",
              "    }\n",
              "\n",
              "    .dataframe tbody tr th {\n",
              "        vertical-align: top;\n",
              "    }\n",
              "\n",
              "    .dataframe thead th {\n",
              "        text-align: right;\n",
              "    }\n",
              "</style>\n",
              "<table border=\"1\" class=\"dataframe\">\n",
              "  <thead>\n",
              "    <tr style=\"text-align: right;\">\n",
              "      <th></th>\n",
              "      <th>index</th>\n",
              "      <th>hotel</th>\n",
              "      <th>is_canceled</th>\n",
              "      <th>lead_time</th>\n",
              "      <th>arrival_date_year</th>\n",
              "      <th>arrival_date_month</th>\n",
              "      <th>arrival_date_week_number</th>\n",
              "      <th>arrival_date_day_of_month</th>\n",
              "      <th>stays_in_weekend_nights</th>\n",
              "      <th>stays_in_week_nights</th>\n",
              "      <th>...</th>\n",
              "      <th>deposit_type</th>\n",
              "      <th>agent</th>\n",
              "      <th>company</th>\n",
              "      <th>days_in_waiting_list</th>\n",
              "      <th>customer_type</th>\n",
              "      <th>adr</th>\n",
              "      <th>required_car_parking_spaces</th>\n",
              "      <th>total_of_special_requests</th>\n",
              "      <th>reservation_status</th>\n",
              "      <th>reservation_status_date</th>\n",
              "    </tr>\n",
              "  </thead>\n",
              "  <tbody>\n",
              "    <tr>\n",
              "      <th>0</th>\n",
              "      <td>0</td>\n",
              "      <td>Resort Hotel</td>\n",
              "      <td>0</td>\n",
              "      <td>342</td>\n",
              "      <td>2015</td>\n",
              "      <td>July</td>\n",
              "      <td>27</td>\n",
              "      <td>1</td>\n",
              "      <td>0</td>\n",
              "      <td>0</td>\n",
              "      <td>...</td>\n",
              "      <td>No Deposit</td>\n",
              "      <td>NaN</td>\n",
              "      <td>NaN</td>\n",
              "      <td>0</td>\n",
              "      <td>Transient</td>\n",
              "      <td>0.0</td>\n",
              "      <td>0</td>\n",
              "      <td>0</td>\n",
              "      <td>Check-Out</td>\n",
              "      <td>01-07-15</td>\n",
              "    </tr>\n",
              "    <tr>\n",
              "      <th>1</th>\n",
              "      <td>1</td>\n",
              "      <td>Resort Hotel</td>\n",
              "      <td>0</td>\n",
              "      <td>737</td>\n",
              "      <td>2015</td>\n",
              "      <td>July</td>\n",
              "      <td>27</td>\n",
              "      <td>1</td>\n",
              "      <td>0</td>\n",
              "      <td>0</td>\n",
              "      <td>...</td>\n",
              "      <td>No Deposit</td>\n",
              "      <td>NaN</td>\n",
              "      <td>NaN</td>\n",
              "      <td>0</td>\n",
              "      <td>Transient</td>\n",
              "      <td>0.0</td>\n",
              "      <td>0</td>\n",
              "      <td>0</td>\n",
              "      <td>Check-Out</td>\n",
              "      <td>01-07-15</td>\n",
              "    </tr>\n",
              "    <tr>\n",
              "      <th>2</th>\n",
              "      <td>2</td>\n",
              "      <td>Resort Hotel</td>\n",
              "      <td>0</td>\n",
              "      <td>7</td>\n",
              "      <td>2015</td>\n",
              "      <td>July</td>\n",
              "      <td>27</td>\n",
              "      <td>1</td>\n",
              "      <td>0</td>\n",
              "      <td>1</td>\n",
              "      <td>...</td>\n",
              "      <td>No Deposit</td>\n",
              "      <td>NaN</td>\n",
              "      <td>NaN</td>\n",
              "      <td>0</td>\n",
              "      <td>Transient</td>\n",
              "      <td>75.0</td>\n",
              "      <td>0</td>\n",
              "      <td>0</td>\n",
              "      <td>Check-Out</td>\n",
              "      <td>02-07-15</td>\n",
              "    </tr>\n",
              "    <tr>\n",
              "      <th>3</th>\n",
              "      <td>3</td>\n",
              "      <td>Resort Hotel</td>\n",
              "      <td>0</td>\n",
              "      <td>13</td>\n",
              "      <td>2015</td>\n",
              "      <td>July</td>\n",
              "      <td>27</td>\n",
              "      <td>1</td>\n",
              "      <td>0</td>\n",
              "      <td>1</td>\n",
              "      <td>...</td>\n",
              "      <td>No Deposit</td>\n",
              "      <td>304.0</td>\n",
              "      <td>NaN</td>\n",
              "      <td>0</td>\n",
              "      <td>Transient</td>\n",
              "      <td>75.0</td>\n",
              "      <td>0</td>\n",
              "      <td>0</td>\n",
              "      <td>Check-Out</td>\n",
              "      <td>02-07-15</td>\n",
              "    </tr>\n",
              "    <tr>\n",
              "      <th>4</th>\n",
              "      <td>4</td>\n",
              "      <td>Resort Hotel</td>\n",
              "      <td>0</td>\n",
              "      <td>14</td>\n",
              "      <td>2015</td>\n",
              "      <td>July</td>\n",
              "      <td>27</td>\n",
              "      <td>1</td>\n",
              "      <td>0</td>\n",
              "      <td>2</td>\n",
              "      <td>...</td>\n",
              "      <td>No Deposit</td>\n",
              "      <td>240.0</td>\n",
              "      <td>NaN</td>\n",
              "      <td>0</td>\n",
              "      <td>Transient</td>\n",
              "      <td>98.0</td>\n",
              "      <td>0</td>\n",
              "      <td>1</td>\n",
              "      <td>Check-Out</td>\n",
              "      <td>03-07-15</td>\n",
              "    </tr>\n",
              "  </tbody>\n",
              "</table>\n",
              "<p>5 rows × 33 columns</p>\n",
              "</div>"
            ],
            "text/plain": [
              "   index         hotel  is_canceled  lead_time  arrival_date_year  \\\n",
              "0      0  Resort Hotel            0        342               2015   \n",
              "1      1  Resort Hotel            0        737               2015   \n",
              "2      2  Resort Hotel            0          7               2015   \n",
              "3      3  Resort Hotel            0         13               2015   \n",
              "4      4  Resort Hotel            0         14               2015   \n",
              "\n",
              "  arrival_date_month  arrival_date_week_number  arrival_date_day_of_month  \\\n",
              "0               July                        27                          1   \n",
              "1               July                        27                          1   \n",
              "2               July                        27                          1   \n",
              "3               July                        27                          1   \n",
              "4               July                        27                          1   \n",
              "\n",
              "   stays_in_weekend_nights  stays_in_week_nights  ...  deposit_type  agent  \\\n",
              "0                        0                     0  ...    No Deposit    NaN   \n",
              "1                        0                     0  ...    No Deposit    NaN   \n",
              "2                        0                     1  ...    No Deposit    NaN   \n",
              "3                        0                     1  ...    No Deposit  304.0   \n",
              "4                        0                     2  ...    No Deposit  240.0   \n",
              "\n",
              "   company days_in_waiting_list customer_type   adr  \\\n",
              "0      NaN                    0     Transient   0.0   \n",
              "1      NaN                    0     Transient   0.0   \n",
              "2      NaN                    0     Transient  75.0   \n",
              "3      NaN                    0     Transient  75.0   \n",
              "4      NaN                    0     Transient  98.0   \n",
              "\n",
              "  required_car_parking_spaces  total_of_special_requests  reservation_status  \\\n",
              "0                           0                          0           Check-Out   \n",
              "1                           0                          0           Check-Out   \n",
              "2                           0                          0           Check-Out   \n",
              "3                           0                          0           Check-Out   \n",
              "4                           0                          1           Check-Out   \n",
              "\n",
              "   reservation_status_date  \n",
              "0                 01-07-15  \n",
              "1                 01-07-15  \n",
              "2                 02-07-15  \n",
              "3                 02-07-15  \n",
              "4                 03-07-15  \n",
              "\n",
              "[5 rows x 33 columns]"
            ]
          },
          "execution_count": 5,
          "metadata": {},
          "output_type": "execute_result"
        }
      ],
      "source": [
        "df.head()"
      ]
    },
    {
      "cell_type": "code",
      "execution_count": null,
      "id": "e0c8c35c-6fde-4539-afb1-f2311b9a162e",
      "metadata": {
        "id": "e0c8c35c-6fde-4539-afb1-f2311b9a162e",
        "outputId": "7aebe07f-3a03-4d96-dd05-84df2fdcd4ab"
      },
      "outputs": [
        {
          "data": {
            "text/html": [
              "<div>\n",
              "<style scoped>\n",
              "    .dataframe tbody tr th:only-of-type {\n",
              "        vertical-align: middle;\n",
              "    }\n",
              "\n",
              "    .dataframe tbody tr th {\n",
              "        vertical-align: top;\n",
              "    }\n",
              "\n",
              "    .dataframe thead th {\n",
              "        text-align: right;\n",
              "    }\n",
              "</style>\n",
              "<table border=\"1\" class=\"dataframe\">\n",
              "  <thead>\n",
              "    <tr style=\"text-align: right;\">\n",
              "      <th></th>\n",
              "      <th>index</th>\n",
              "      <th>hotel</th>\n",
              "      <th>is_canceled</th>\n",
              "      <th>lead_time</th>\n",
              "      <th>arrival_date_year</th>\n",
              "      <th>arrival_date_month</th>\n",
              "      <th>arrival_date_week_number</th>\n",
              "      <th>arrival_date_day_of_month</th>\n",
              "      <th>stays_in_weekend_nights</th>\n",
              "      <th>stays_in_week_nights</th>\n",
              "      <th>...</th>\n",
              "      <th>deposit_type</th>\n",
              "      <th>agent</th>\n",
              "      <th>company</th>\n",
              "      <th>days_in_waiting_list</th>\n",
              "      <th>customer_type</th>\n",
              "      <th>adr</th>\n",
              "      <th>required_car_parking_spaces</th>\n",
              "      <th>total_of_special_requests</th>\n",
              "      <th>reservation_status</th>\n",
              "      <th>reservation_status_date</th>\n",
              "    </tr>\n",
              "  </thead>\n",
              "  <tbody>\n",
              "    <tr>\n",
              "      <th>119385</th>\n",
              "      <td>119385</td>\n",
              "      <td>City Hotel</td>\n",
              "      <td>0</td>\n",
              "      <td>23</td>\n",
              "      <td>2017</td>\n",
              "      <td>August</td>\n",
              "      <td>35</td>\n",
              "      <td>30</td>\n",
              "      <td>2</td>\n",
              "      <td>5</td>\n",
              "      <td>...</td>\n",
              "      <td>No Deposit</td>\n",
              "      <td>394.0</td>\n",
              "      <td>NaN</td>\n",
              "      <td>0</td>\n",
              "      <td>Transient</td>\n",
              "      <td>96.14</td>\n",
              "      <td>0</td>\n",
              "      <td>0</td>\n",
              "      <td>Check-Out</td>\n",
              "      <td>06-09-17</td>\n",
              "    </tr>\n",
              "    <tr>\n",
              "      <th>119386</th>\n",
              "      <td>119386</td>\n",
              "      <td>City Hotel</td>\n",
              "      <td>0</td>\n",
              "      <td>102</td>\n",
              "      <td>2017</td>\n",
              "      <td>August</td>\n",
              "      <td>35</td>\n",
              "      <td>31</td>\n",
              "      <td>2</td>\n",
              "      <td>5</td>\n",
              "      <td>...</td>\n",
              "      <td>No Deposit</td>\n",
              "      <td>9.0</td>\n",
              "      <td>NaN</td>\n",
              "      <td>0</td>\n",
              "      <td>Transient</td>\n",
              "      <td>225.43</td>\n",
              "      <td>0</td>\n",
              "      <td>2</td>\n",
              "      <td>Check-Out</td>\n",
              "      <td>07-09-17</td>\n",
              "    </tr>\n",
              "    <tr>\n",
              "      <th>119387</th>\n",
              "      <td>119387</td>\n",
              "      <td>City Hotel</td>\n",
              "      <td>0</td>\n",
              "      <td>34</td>\n",
              "      <td>2017</td>\n",
              "      <td>August</td>\n",
              "      <td>35</td>\n",
              "      <td>31</td>\n",
              "      <td>2</td>\n",
              "      <td>5</td>\n",
              "      <td>...</td>\n",
              "      <td>No Deposit</td>\n",
              "      <td>9.0</td>\n",
              "      <td>NaN</td>\n",
              "      <td>0</td>\n",
              "      <td>Transient</td>\n",
              "      <td>157.71</td>\n",
              "      <td>0</td>\n",
              "      <td>4</td>\n",
              "      <td>Check-Out</td>\n",
              "      <td>07-09-17</td>\n",
              "    </tr>\n",
              "    <tr>\n",
              "      <th>119388</th>\n",
              "      <td>119388</td>\n",
              "      <td>City Hotel</td>\n",
              "      <td>0</td>\n",
              "      <td>109</td>\n",
              "      <td>2017</td>\n",
              "      <td>August</td>\n",
              "      <td>35</td>\n",
              "      <td>31</td>\n",
              "      <td>2</td>\n",
              "      <td>5</td>\n",
              "      <td>...</td>\n",
              "      <td>No Deposit</td>\n",
              "      <td>89.0</td>\n",
              "      <td>NaN</td>\n",
              "      <td>0</td>\n",
              "      <td>Transient</td>\n",
              "      <td>104.40</td>\n",
              "      <td>0</td>\n",
              "      <td>0</td>\n",
              "      <td>Check-Out</td>\n",
              "      <td>07-09-17</td>\n",
              "    </tr>\n",
              "    <tr>\n",
              "      <th>119389</th>\n",
              "      <td>119389</td>\n",
              "      <td>City Hotel</td>\n",
              "      <td>0</td>\n",
              "      <td>205</td>\n",
              "      <td>2017</td>\n",
              "      <td>August</td>\n",
              "      <td>35</td>\n",
              "      <td>29</td>\n",
              "      <td>2</td>\n",
              "      <td>7</td>\n",
              "      <td>...</td>\n",
              "      <td>No Deposit</td>\n",
              "      <td>9.0</td>\n",
              "      <td>NaN</td>\n",
              "      <td>0</td>\n",
              "      <td>Transient</td>\n",
              "      <td>151.20</td>\n",
              "      <td>0</td>\n",
              "      <td>2</td>\n",
              "      <td>Check-Out</td>\n",
              "      <td>07-09-17</td>\n",
              "    </tr>\n",
              "  </tbody>\n",
              "</table>\n",
              "<p>5 rows × 33 columns</p>\n",
              "</div>"
            ],
            "text/plain": [
              "         index       hotel  is_canceled  lead_time  arrival_date_year  \\\n",
              "119385  119385  City Hotel            0         23               2017   \n",
              "119386  119386  City Hotel            0        102               2017   \n",
              "119387  119387  City Hotel            0         34               2017   \n",
              "119388  119388  City Hotel            0        109               2017   \n",
              "119389  119389  City Hotel            0        205               2017   \n",
              "\n",
              "       arrival_date_month  arrival_date_week_number  \\\n",
              "119385             August                        35   \n",
              "119386             August                        35   \n",
              "119387             August                        35   \n",
              "119388             August                        35   \n",
              "119389             August                        35   \n",
              "\n",
              "        arrival_date_day_of_month  stays_in_weekend_nights  \\\n",
              "119385                         30                        2   \n",
              "119386                         31                        2   \n",
              "119387                         31                        2   \n",
              "119388                         31                        2   \n",
              "119389                         29                        2   \n",
              "\n",
              "        stays_in_week_nights  ...  deposit_type  agent  company  \\\n",
              "119385                     5  ...    No Deposit  394.0      NaN   \n",
              "119386                     5  ...    No Deposit    9.0      NaN   \n",
              "119387                     5  ...    No Deposit    9.0      NaN   \n",
              "119388                     5  ...    No Deposit   89.0      NaN   \n",
              "119389                     7  ...    No Deposit    9.0      NaN   \n",
              "\n",
              "       days_in_waiting_list customer_type     adr required_car_parking_spaces  \\\n",
              "119385                    0     Transient   96.14                           0   \n",
              "119386                    0     Transient  225.43                           0   \n",
              "119387                    0     Transient  157.71                           0   \n",
              "119388                    0     Transient  104.40                           0   \n",
              "119389                    0     Transient  151.20                           0   \n",
              "\n",
              "        total_of_special_requests  reservation_status  reservation_status_date  \n",
              "119385                          0           Check-Out                 06-09-17  \n",
              "119386                          2           Check-Out                 07-09-17  \n",
              "119387                          4           Check-Out                 07-09-17  \n",
              "119388                          0           Check-Out                 07-09-17  \n",
              "119389                          2           Check-Out                 07-09-17  \n",
              "\n",
              "[5 rows x 33 columns]"
            ]
          },
          "execution_count": 6,
          "metadata": {},
          "output_type": "execute_result"
        }
      ],
      "source": [
        "df.tail()"
      ]
    },
    {
      "cell_type": "code",
      "execution_count": null,
      "id": "9e0058e6-84f1-4164-9325-600b8c02a4fc",
      "metadata": {
        "id": "9e0058e6-84f1-4164-9325-600b8c02a4fc",
        "outputId": "aba55ba8-a0f1-47ee-cba1-578629622b3d"
      },
      "outputs": [
        {
          "data": {
            "text/plain": [
              "Index(['index', 'hotel', 'is_canceled', 'lead_time', 'arrival_date_year',\n",
              "       'arrival_date_month', 'arrival_date_week_number',\n",
              "       'arrival_date_day_of_month', 'stays_in_weekend_nights',\n",
              "       'stays_in_week_nights', 'adults', 'children', 'babies', 'meal',\n",
              "       'country', 'market_segment', 'distribution_channel',\n",
              "       'is_repeated_guest', 'previous_cancellations',\n",
              "       'previous_bookings_not_canceled', 'reserved_room_type',\n",
              "       'assigned_room_type', 'booking_changes', 'deposit_type', 'agent',\n",
              "       'company', 'days_in_waiting_list', 'customer_type', 'adr',\n",
              "       'required_car_parking_spaces', 'total_of_special_requests',\n",
              "       'reservation_status', 'reservation_status_date'],\n",
              "      dtype='object')"
            ]
          },
          "execution_count": 7,
          "metadata": {},
          "output_type": "execute_result"
        }
      ],
      "source": [
        "df.columns"
      ]
    },
    {
      "cell_type": "markdown",
      "id": "430066f1-70a6-4fb4-9f93-1f4c8cc430d5",
      "metadata": {
        "id": "430066f1-70a6-4fb4-9f93-1f4c8cc430d5"
      },
      "source": [
        "#### <font color = \"green\"> TARGET (Y) = is_canceled"
      ]
    },
    {
      "cell_type": "code",
      "execution_count": null,
      "id": "093a7203-41d6-4169-8fdc-432d851498e8",
      "metadata": {
        "id": "093a7203-41d6-4169-8fdc-432d851498e8",
        "outputId": "7c52bb3b-4220-4df1-b623-ae0462224109"
      },
      "outputs": [
        {
          "data": {
            "text/plain": [
              "pandas.core.frame.DataFrame"
            ]
          },
          "execution_count": 8,
          "metadata": {},
          "output_type": "execute_result"
        }
      ],
      "source": [
        "type(df)"
      ]
    },
    {
      "cell_type": "code",
      "execution_count": null,
      "id": "4bcbb46c-e84b-4b53-ab8c-3f7af3aebb37",
      "metadata": {
        "id": "4bcbb46c-e84b-4b53-ab8c-3f7af3aebb37"
      },
      "outputs": [],
      "source": [
        "df1 = df.copy()"
      ]
    },
    {
      "cell_type": "code",
      "execution_count": null,
      "id": "960d3df4-f6bd-4a5c-a985-05f92c6aa7e3",
      "metadata": {
        "id": "960d3df4-f6bd-4a5c-a985-05f92c6aa7e3",
        "outputId": "aee44a7b-b6c4-428e-94ce-03f79b939d87"
      },
      "outputs": [
        {
          "data": {
            "text/html": [
              "<div>\n",
              "<style scoped>\n",
              "    .dataframe tbody tr th:only-of-type {\n",
              "        vertical-align: middle;\n",
              "    }\n",
              "\n",
              "    .dataframe tbody tr th {\n",
              "        vertical-align: top;\n",
              "    }\n",
              "\n",
              "    .dataframe thead th {\n",
              "        text-align: right;\n",
              "    }\n",
              "</style>\n",
              "<table border=\"1\" class=\"dataframe\">\n",
              "  <thead>\n",
              "    <tr style=\"text-align: right;\">\n",
              "      <th></th>\n",
              "      <th>index</th>\n",
              "      <th>is_canceled</th>\n",
              "      <th>lead_time</th>\n",
              "      <th>arrival_date_year</th>\n",
              "      <th>arrival_date_week_number</th>\n",
              "      <th>arrival_date_day_of_month</th>\n",
              "      <th>stays_in_weekend_nights</th>\n",
              "      <th>stays_in_week_nights</th>\n",
              "      <th>adults</th>\n",
              "      <th>children</th>\n",
              "      <th>...</th>\n",
              "      <th>is_repeated_guest</th>\n",
              "      <th>previous_cancellations</th>\n",
              "      <th>previous_bookings_not_canceled</th>\n",
              "      <th>booking_changes</th>\n",
              "      <th>agent</th>\n",
              "      <th>company</th>\n",
              "      <th>days_in_waiting_list</th>\n",
              "      <th>adr</th>\n",
              "      <th>required_car_parking_spaces</th>\n",
              "      <th>total_of_special_requests</th>\n",
              "    </tr>\n",
              "  </thead>\n",
              "  <tbody>\n",
              "    <tr>\n",
              "      <th>count</th>\n",
              "      <td>119390.000000</td>\n",
              "      <td>119390.000000</td>\n",
              "      <td>119390.000000</td>\n",
              "      <td>119390.000000</td>\n",
              "      <td>119390.000000</td>\n",
              "      <td>119390.000000</td>\n",
              "      <td>119390.000000</td>\n",
              "      <td>119390.000000</td>\n",
              "      <td>119390.000000</td>\n",
              "      <td>119386.000000</td>\n",
              "      <td>...</td>\n",
              "      <td>119390.000000</td>\n",
              "      <td>119390.000000</td>\n",
              "      <td>119390.000000</td>\n",
              "      <td>119390.000000</td>\n",
              "      <td>103050.000000</td>\n",
              "      <td>6797.000000</td>\n",
              "      <td>119390.000000</td>\n",
              "      <td>119390.000000</td>\n",
              "      <td>119390.000000</td>\n",
              "      <td>119390.000000</td>\n",
              "    </tr>\n",
              "    <tr>\n",
              "      <th>mean</th>\n",
              "      <td>59694.500000</td>\n",
              "      <td>0.370416</td>\n",
              "      <td>104.011416</td>\n",
              "      <td>2016.156554</td>\n",
              "      <td>27.165173</td>\n",
              "      <td>15.798241</td>\n",
              "      <td>0.927599</td>\n",
              "      <td>2.500302</td>\n",
              "      <td>1.856403</td>\n",
              "      <td>0.103890</td>\n",
              "      <td>...</td>\n",
              "      <td>0.031912</td>\n",
              "      <td>0.087118</td>\n",
              "      <td>0.137097</td>\n",
              "      <td>0.221124</td>\n",
              "      <td>86.693382</td>\n",
              "      <td>189.266735</td>\n",
              "      <td>2.321149</td>\n",
              "      <td>101.831122</td>\n",
              "      <td>0.062518</td>\n",
              "      <td>0.571363</td>\n",
              "    </tr>\n",
              "    <tr>\n",
              "      <th>std</th>\n",
              "      <td>34465.068657</td>\n",
              "      <td>0.482918</td>\n",
              "      <td>106.863097</td>\n",
              "      <td>0.707476</td>\n",
              "      <td>13.605138</td>\n",
              "      <td>8.780829</td>\n",
              "      <td>0.998613</td>\n",
              "      <td>1.908286</td>\n",
              "      <td>0.579261</td>\n",
              "      <td>0.398561</td>\n",
              "      <td>...</td>\n",
              "      <td>0.175767</td>\n",
              "      <td>0.844336</td>\n",
              "      <td>1.497437</td>\n",
              "      <td>0.652306</td>\n",
              "      <td>110.774548</td>\n",
              "      <td>131.655015</td>\n",
              "      <td>17.594721</td>\n",
              "      <td>50.535790</td>\n",
              "      <td>0.245291</td>\n",
              "      <td>0.792798</td>\n",
              "    </tr>\n",
              "    <tr>\n",
              "      <th>min</th>\n",
              "      <td>0.000000</td>\n",
              "      <td>0.000000</td>\n",
              "      <td>0.000000</td>\n",
              "      <td>2015.000000</td>\n",
              "      <td>1.000000</td>\n",
              "      <td>1.000000</td>\n",
              "      <td>0.000000</td>\n",
              "      <td>0.000000</td>\n",
              "      <td>0.000000</td>\n",
              "      <td>0.000000</td>\n",
              "      <td>...</td>\n",
              "      <td>0.000000</td>\n",
              "      <td>0.000000</td>\n",
              "      <td>0.000000</td>\n",
              "      <td>0.000000</td>\n",
              "      <td>1.000000</td>\n",
              "      <td>6.000000</td>\n",
              "      <td>0.000000</td>\n",
              "      <td>-6.380000</td>\n",
              "      <td>0.000000</td>\n",
              "      <td>0.000000</td>\n",
              "    </tr>\n",
              "    <tr>\n",
              "      <th>25%</th>\n",
              "      <td>29847.250000</td>\n",
              "      <td>0.000000</td>\n",
              "      <td>18.000000</td>\n",
              "      <td>2016.000000</td>\n",
              "      <td>16.000000</td>\n",
              "      <td>8.000000</td>\n",
              "      <td>0.000000</td>\n",
              "      <td>1.000000</td>\n",
              "      <td>2.000000</td>\n",
              "      <td>0.000000</td>\n",
              "      <td>...</td>\n",
              "      <td>0.000000</td>\n",
              "      <td>0.000000</td>\n",
              "      <td>0.000000</td>\n",
              "      <td>0.000000</td>\n",
              "      <td>9.000000</td>\n",
              "      <td>62.000000</td>\n",
              "      <td>0.000000</td>\n",
              "      <td>69.290000</td>\n",
              "      <td>0.000000</td>\n",
              "      <td>0.000000</td>\n",
              "    </tr>\n",
              "    <tr>\n",
              "      <th>50%</th>\n",
              "      <td>59694.500000</td>\n",
              "      <td>0.000000</td>\n",
              "      <td>69.000000</td>\n",
              "      <td>2016.000000</td>\n",
              "      <td>28.000000</td>\n",
              "      <td>16.000000</td>\n",
              "      <td>1.000000</td>\n",
              "      <td>2.000000</td>\n",
              "      <td>2.000000</td>\n",
              "      <td>0.000000</td>\n",
              "      <td>...</td>\n",
              "      <td>0.000000</td>\n",
              "      <td>0.000000</td>\n",
              "      <td>0.000000</td>\n",
              "      <td>0.000000</td>\n",
              "      <td>14.000000</td>\n",
              "      <td>179.000000</td>\n",
              "      <td>0.000000</td>\n",
              "      <td>94.575000</td>\n",
              "      <td>0.000000</td>\n",
              "      <td>0.000000</td>\n",
              "    </tr>\n",
              "    <tr>\n",
              "      <th>75%</th>\n",
              "      <td>89541.750000</td>\n",
              "      <td>1.000000</td>\n",
              "      <td>160.000000</td>\n",
              "      <td>2017.000000</td>\n",
              "      <td>38.000000</td>\n",
              "      <td>23.000000</td>\n",
              "      <td>2.000000</td>\n",
              "      <td>3.000000</td>\n",
              "      <td>2.000000</td>\n",
              "      <td>0.000000</td>\n",
              "      <td>...</td>\n",
              "      <td>0.000000</td>\n",
              "      <td>0.000000</td>\n",
              "      <td>0.000000</td>\n",
              "      <td>0.000000</td>\n",
              "      <td>229.000000</td>\n",
              "      <td>270.000000</td>\n",
              "      <td>0.000000</td>\n",
              "      <td>126.000000</td>\n",
              "      <td>0.000000</td>\n",
              "      <td>1.000000</td>\n",
              "    </tr>\n",
              "    <tr>\n",
              "      <th>max</th>\n",
              "      <td>119389.000000</td>\n",
              "      <td>1.000000</td>\n",
              "      <td>737.000000</td>\n",
              "      <td>2017.000000</td>\n",
              "      <td>53.000000</td>\n",
              "      <td>31.000000</td>\n",
              "      <td>19.000000</td>\n",
              "      <td>50.000000</td>\n",
              "      <td>55.000000</td>\n",
              "      <td>10.000000</td>\n",
              "      <td>...</td>\n",
              "      <td>1.000000</td>\n",
              "      <td>26.000000</td>\n",
              "      <td>72.000000</td>\n",
              "      <td>21.000000</td>\n",
              "      <td>535.000000</td>\n",
              "      <td>543.000000</td>\n",
              "      <td>391.000000</td>\n",
              "      <td>5400.000000</td>\n",
              "      <td>8.000000</td>\n",
              "      <td>5.000000</td>\n",
              "    </tr>\n",
              "  </tbody>\n",
              "</table>\n",
              "<p>8 rows × 21 columns</p>\n",
              "</div>"
            ],
            "text/plain": [
              "               index    is_canceled      lead_time  arrival_date_year  \\\n",
              "count  119390.000000  119390.000000  119390.000000      119390.000000   \n",
              "mean    59694.500000       0.370416     104.011416        2016.156554   \n",
              "std     34465.068657       0.482918     106.863097           0.707476   \n",
              "min         0.000000       0.000000       0.000000        2015.000000   \n",
              "25%     29847.250000       0.000000      18.000000        2016.000000   \n",
              "50%     59694.500000       0.000000      69.000000        2016.000000   \n",
              "75%     89541.750000       1.000000     160.000000        2017.000000   \n",
              "max    119389.000000       1.000000     737.000000        2017.000000   \n",
              "\n",
              "       arrival_date_week_number  arrival_date_day_of_month  \\\n",
              "count             119390.000000              119390.000000   \n",
              "mean                  27.165173                  15.798241   \n",
              "std                   13.605138                   8.780829   \n",
              "min                    1.000000                   1.000000   \n",
              "25%                   16.000000                   8.000000   \n",
              "50%                   28.000000                  16.000000   \n",
              "75%                   38.000000                  23.000000   \n",
              "max                   53.000000                  31.000000   \n",
              "\n",
              "       stays_in_weekend_nights  stays_in_week_nights         adults  \\\n",
              "count            119390.000000         119390.000000  119390.000000   \n",
              "mean                  0.927599              2.500302       1.856403   \n",
              "std                   0.998613              1.908286       0.579261   \n",
              "min                   0.000000              0.000000       0.000000   \n",
              "25%                   0.000000              1.000000       2.000000   \n",
              "50%                   1.000000              2.000000       2.000000   \n",
              "75%                   2.000000              3.000000       2.000000   \n",
              "max                  19.000000             50.000000      55.000000   \n",
              "\n",
              "            children  ...  is_repeated_guest  previous_cancellations  \\\n",
              "count  119386.000000  ...      119390.000000           119390.000000   \n",
              "mean        0.103890  ...           0.031912                0.087118   \n",
              "std         0.398561  ...           0.175767                0.844336   \n",
              "min         0.000000  ...           0.000000                0.000000   \n",
              "25%         0.000000  ...           0.000000                0.000000   \n",
              "50%         0.000000  ...           0.000000                0.000000   \n",
              "75%         0.000000  ...           0.000000                0.000000   \n",
              "max        10.000000  ...           1.000000               26.000000   \n",
              "\n",
              "       previous_bookings_not_canceled  booking_changes          agent  \\\n",
              "count                   119390.000000    119390.000000  103050.000000   \n",
              "mean                         0.137097         0.221124      86.693382   \n",
              "std                          1.497437         0.652306     110.774548   \n",
              "min                          0.000000         0.000000       1.000000   \n",
              "25%                          0.000000         0.000000       9.000000   \n",
              "50%                          0.000000         0.000000      14.000000   \n",
              "75%                          0.000000         0.000000     229.000000   \n",
              "max                         72.000000        21.000000     535.000000   \n",
              "\n",
              "           company  days_in_waiting_list            adr  \\\n",
              "count  6797.000000         119390.000000  119390.000000   \n",
              "mean    189.266735              2.321149     101.831122   \n",
              "std     131.655015             17.594721      50.535790   \n",
              "min       6.000000              0.000000      -6.380000   \n",
              "25%      62.000000              0.000000      69.290000   \n",
              "50%     179.000000              0.000000      94.575000   \n",
              "75%     270.000000              0.000000     126.000000   \n",
              "max     543.000000            391.000000    5400.000000   \n",
              "\n",
              "       required_car_parking_spaces  total_of_special_requests  \n",
              "count                119390.000000              119390.000000  \n",
              "mean                      0.062518                   0.571363  \n",
              "std                       0.245291                   0.792798  \n",
              "min                       0.000000                   0.000000  \n",
              "25%                       0.000000                   0.000000  \n",
              "50%                       0.000000                   0.000000  \n",
              "75%                       0.000000                   1.000000  \n",
              "max                       8.000000                   5.000000  \n",
              "\n",
              "[8 rows x 21 columns]"
            ]
          },
          "execution_count": 10,
          "metadata": {},
          "output_type": "execute_result"
        }
      ],
      "source": [
        "df.describe()"
      ]
    },
    {
      "cell_type": "code",
      "execution_count": null,
      "id": "6b63ecbe-a692-4178-a3ab-bc8b69a8417a",
      "metadata": {
        "id": "6b63ecbe-a692-4178-a3ab-bc8b69a8417a",
        "outputId": "d4a00c37-e956-4df6-de2d-e2c2b12f318b"
      },
      "outputs": [
        {
          "data": {
            "text/plain": [
              "(119390, 33)"
            ]
          },
          "execution_count": 11,
          "metadata": {},
          "output_type": "execute_result"
        }
      ],
      "source": [
        "df.shape"
      ]
    },
    {
      "cell_type": "code",
      "execution_count": null,
      "id": "0115072c-c38d-47d6-a405-681a62c0e78b",
      "metadata": {
        "id": "0115072c-c38d-47d6-a405-681a62c0e78b",
        "outputId": "e805da55-af69-44a7-c195-f8555371edd1"
      },
      "outputs": [
        {
          "name": "stdout",
          "output_type": "stream",
          "text": [
            "<class 'pandas.core.frame.DataFrame'>\n",
            "RangeIndex: 119390 entries, 0 to 119389\n",
            "Data columns (total 33 columns):\n",
            " #   Column                          Non-Null Count   Dtype  \n",
            "---  ------                          --------------   -----  \n",
            " 0   index                           119390 non-null  int64  \n",
            " 1   hotel                           119390 non-null  object \n",
            " 2   is_canceled                     119390 non-null  int64  \n",
            " 3   lead_time                       119390 non-null  int64  \n",
            " 4   arrival_date_year               119390 non-null  int64  \n",
            " 5   arrival_date_month              119390 non-null  object \n",
            " 6   arrival_date_week_number        119390 non-null  int64  \n",
            " 7   arrival_date_day_of_month       119390 non-null  int64  \n",
            " 8   stays_in_weekend_nights         119390 non-null  int64  \n",
            " 9   stays_in_week_nights            119390 non-null  int64  \n",
            " 10  adults                          119390 non-null  int64  \n",
            " 11  children                        119386 non-null  float64\n",
            " 12  babies                          119390 non-null  int64  \n",
            " 13  meal                            119390 non-null  object \n",
            " 14  country                         118902 non-null  object \n",
            " 15  market_segment                  119390 non-null  object \n",
            " 16  distribution_channel            119390 non-null  object \n",
            " 17  is_repeated_guest               119390 non-null  int64  \n",
            " 18  previous_cancellations          119390 non-null  int64  \n",
            " 19  previous_bookings_not_canceled  119390 non-null  int64  \n",
            " 20  reserved_room_type              119390 non-null  object \n",
            " 21  assigned_room_type              119390 non-null  object \n",
            " 22  booking_changes                 119390 non-null  int64  \n",
            " 23  deposit_type                    119390 non-null  object \n",
            " 24  agent                           103050 non-null  float64\n",
            " 25  company                         6797 non-null    float64\n",
            " 26  days_in_waiting_list            119390 non-null  int64  \n",
            " 27  customer_type                   119390 non-null  object \n",
            " 28  adr                             119390 non-null  float64\n",
            " 29  required_car_parking_spaces     119390 non-null  int64  \n",
            " 30  total_of_special_requests       119390 non-null  int64  \n",
            " 31  reservation_status              119390 non-null  object \n",
            " 32  reservation_status_date         119390 non-null  object \n",
            "dtypes: float64(4), int64(17), object(12)\n",
            "memory usage: 30.1+ MB\n"
          ]
        }
      ],
      "source": [
        "df.info()"
      ]
    },
    {
      "cell_type": "code",
      "execution_count": null,
      "id": "d9ceba9a-271f-4ad9-b58a-41cd835785fc",
      "metadata": {
        "id": "d9ceba9a-271f-4ad9-b58a-41cd835785fc",
        "outputId": "2ce6e122-9a57-4897-a677-67cf696cfb0c"
      },
      "outputs": [
        {
          "data": {
            "text/plain": [
              "index                                  0\n",
              "hotel                                  0\n",
              "is_canceled                            0\n",
              "lead_time                              0\n",
              "arrival_date_year                      0\n",
              "arrival_date_month                     0\n",
              "arrival_date_week_number               0\n",
              "arrival_date_day_of_month              0\n",
              "stays_in_weekend_nights                0\n",
              "stays_in_week_nights                   0\n",
              "adults                                 0\n",
              "children                               4\n",
              "babies                                 0\n",
              "meal                                   0\n",
              "country                              488\n",
              "market_segment                         0\n",
              "distribution_channel                   0\n",
              "is_repeated_guest                      0\n",
              "previous_cancellations                 0\n",
              "previous_bookings_not_canceled         0\n",
              "reserved_room_type                     0\n",
              "assigned_room_type                     0\n",
              "booking_changes                        0\n",
              "deposit_type                           0\n",
              "agent                              16340\n",
              "company                           112593\n",
              "days_in_waiting_list                   0\n",
              "customer_type                          0\n",
              "adr                                    0\n",
              "required_car_parking_spaces            0\n",
              "total_of_special_requests              0\n",
              "reservation_status                     0\n",
              "reservation_status_date                0\n",
              "dtype: int64"
            ]
          },
          "execution_count": 13,
          "metadata": {},
          "output_type": "execute_result"
        }
      ],
      "source": [
        "df.isnull().sum()"
      ]
    },
    {
      "cell_type": "code",
      "execution_count": null,
      "id": "f98fe5e5-2cd7-4c2a-8a29-7019eb118659",
      "metadata": {
        "id": "f98fe5e5-2cd7-4c2a-8a29-7019eb118659"
      },
      "outputs": [],
      "source": [
        "df_nuevo = df.drop(columns=[\"index\", \"arrival_date_year\", \"agent\", \"country\", \"company\", \"reservation_status\", \"reservation_status_date\"])"
      ]
    },
    {
      "cell_type": "code",
      "execution_count": null,
      "id": "8e5a82a7-c6df-49c0-9045-d37d50ff4808",
      "metadata": {
        "id": "8e5a82a7-c6df-49c0-9045-d37d50ff4808",
        "outputId": "b3460f9a-9cb3-473e-ecbd-a0f72faa0fa5"
      },
      "outputs": [
        {
          "data": {
            "text/plain": [
              "26"
            ]
          },
          "execution_count": 15,
          "metadata": {},
          "output_type": "execute_result"
        }
      ],
      "source": [
        "df_nuevo.shape[1]"
      ]
    },
    {
      "cell_type": "code",
      "execution_count": null,
      "id": "63a0e7e8-af7f-438b-b849-9c2bc725e16c",
      "metadata": {
        "id": "63a0e7e8-af7f-438b-b849-9c2bc725e16c",
        "outputId": "473f5fb8-284d-4c44-9906-d5d708d59a5e"
      },
      "outputs": [
        {
          "data": {
            "text/plain": [
              "hotel                             0\n",
              "is_canceled                       0\n",
              "lead_time                         0\n",
              "arrival_date_month                0\n",
              "arrival_date_week_number          0\n",
              "arrival_date_day_of_month         0\n",
              "stays_in_weekend_nights           0\n",
              "stays_in_week_nights              0\n",
              "adults                            0\n",
              "children                          4\n",
              "babies                            0\n",
              "meal                              0\n",
              "market_segment                    0\n",
              "distribution_channel              0\n",
              "is_repeated_guest                 0\n",
              "previous_cancellations            0\n",
              "previous_bookings_not_canceled    0\n",
              "reserved_room_type                0\n",
              "assigned_room_type                0\n",
              "booking_changes                   0\n",
              "deposit_type                      0\n",
              "days_in_waiting_list              0\n",
              "customer_type                     0\n",
              "adr                               0\n",
              "required_car_parking_spaces       0\n",
              "total_of_special_requests         0\n",
              "dtype: int64"
            ]
          },
          "execution_count": 16,
          "metadata": {},
          "output_type": "execute_result"
        }
      ],
      "source": [
        "df_nuevo.isnull().sum()"
      ]
    },
    {
      "cell_type": "code",
      "execution_count": null,
      "id": "423a6725-08d0-47bc-a4b3-be9c1539c57f",
      "metadata": {
        "id": "423a6725-08d0-47bc-a4b3-be9c1539c57f",
        "outputId": "c07d24be-7d9d-4ebd-b84e-78ae7a3eb56f"
      },
      "outputs": [
        {
          "data": {
            "text/plain": [
              "count    119386.000000\n",
              "mean          0.103890\n",
              "std           0.398561\n",
              "min           0.000000\n",
              "25%           0.000000\n",
              "50%           0.000000\n",
              "75%           0.000000\n",
              "max          10.000000\n",
              "Name: children, dtype: float64"
            ]
          },
          "execution_count": 17,
          "metadata": {},
          "output_type": "execute_result"
        }
      ],
      "source": [
        "df_nuevo[\"children\"].describe()"
      ]
    },
    {
      "cell_type": "code",
      "execution_count": null,
      "id": "97b9a262-8e92-4440-9fd1-16b54c095ba5",
      "metadata": {
        "id": "97b9a262-8e92-4440-9fd1-16b54c095ba5",
        "outputId": "0d8f95fd-f36e-4da8-e7f4-4dbc33e9e8e6"
      },
      "outputs": [
        {
          "data": {
            "text/plain": [
              "0    0.0\n",
              "1    0.0\n",
              "2    0.0\n",
              "3    0.0\n",
              "4    0.0\n",
              "Name: children, dtype: float64"
            ]
          },
          "execution_count": 18,
          "metadata": {},
          "output_type": "execute_result"
        }
      ],
      "source": [
        "df_nuevo[\"children\"].head()"
      ]
    },
    {
      "cell_type": "code",
      "execution_count": null,
      "id": "347c973d-a7dd-43f6-a54d-59284a4e1903",
      "metadata": {
        "id": "347c973d-a7dd-43f6-a54d-59284a4e1903",
        "outputId": "a30afa72-9716-4e8e-fafd-fc0b789ad195"
      },
      "outputs": [
        {
          "name": "stdout",
          "output_type": "stream",
          "text": [
            "0.003350364352123293\n"
          ]
        }
      ],
      "source": [
        "# Revisar el porcentaje de valores ausentes para la columna children\n",
        "missing_percentage = df_nuevo[\"children\"].isnull().mean() * 100\n",
        "print(missing_percentage)\n",
        "\n",
        "# Si el porcentaje de valores ausentes es menor al 4%, eliminar los registros\n",
        "if missing_percentage < 4:\n",
        "    df_nuevo = df_nuevo.dropna(subset=[\"children\"])\n",
        "\n",
        "# Si el porcentaje de valores ausentes es mayor o igual al 4%, reemplazar por el promedio de la clase\n",
        "else:\n",
        "    if df_nuevo[\"children\"].dtype in ['float64', 'int64']:\n",
        "        df_nuevo[\"children\"].fillna(df_nuevo[\"children\"].mean(), inplace=True)"
      ]
    },
    {
      "cell_type": "code",
      "execution_count": null,
      "id": "53f97e10-ac4f-4b17-aee5-d1848247b06b",
      "metadata": {
        "id": "53f97e10-ac4f-4b17-aee5-d1848247b06b",
        "outputId": "a4377e8e-d127-4177-ce46-77e28c010e5c"
      },
      "outputs": [
        {
          "data": {
            "text/plain": [
              "0"
            ]
          },
          "execution_count": 20,
          "metadata": {},
          "output_type": "execute_result"
        }
      ],
      "source": [
        "df_nuevo[\"children\"].isnull().sum()"
      ]
    },
    {
      "cell_type": "markdown",
      "id": "b540ffe7-2c96-4574-988a-9eb12234b2a0",
      "metadata": {
        "id": "b540ffe7-2c96-4574-988a-9eb12234b2a0"
      },
      "source": [
        "##### <font color = \"black\"> Para los registros donde el % de isnull es mayor o igual al 4%, se decide reemplazar por el promedio teniendo en cuenta que los datos no se encuentran tan dispersos y que la std es relativamente moderada en coomparación con la cantidad total de registros. Para datos más dispersos, hubiese sido más estrategico rellenar con la mediana."
      ]
    },
    {
      "cell_type": "code",
      "execution_count": null,
      "id": "df787d9a-0749-4fdf-b6c4-8b4ad21c627e",
      "metadata": {
        "id": "df787d9a-0749-4fdf-b6c4-8b4ad21c627e",
        "outputId": "7775bb43-2df4-4b15-aff9-5275f808e504"
      },
      "outputs": [
        {
          "data": {
            "text/plain": [
              "Index(['hotel', 'is_canceled', 'lead_time', 'arrival_date_month',\n",
              "       'arrival_date_week_number', 'arrival_date_day_of_month',\n",
              "       'stays_in_weekend_nights', 'stays_in_week_nights', 'adults', 'children',\n",
              "       'babies', 'meal', 'market_segment', 'distribution_channel',\n",
              "       'is_repeated_guest', 'previous_cancellations',\n",
              "       'previous_bookings_not_canceled', 'reserved_room_type',\n",
              "       'assigned_room_type', 'booking_changes', 'deposit_type',\n",
              "       'days_in_waiting_list', 'customer_type', 'adr',\n",
              "       'required_car_parking_spaces', 'total_of_special_requests'],\n",
              "      dtype='object')"
            ]
          },
          "execution_count": 21,
          "metadata": {},
          "output_type": "execute_result"
        }
      ],
      "source": [
        "df_nuevo.columns"
      ]
    },
    {
      "cell_type": "markdown",
      "id": "e070e068-8052-4e27-aa54-334b18991d13",
      "metadata": {
        "id": "e070e068-8052-4e27-aa54-334b18991d13"
      },
      "source": [
        "### <font color = \"green\"> Variables relevantes con respecto a cancelar una reserva:\n",
        "\n",
        "#### <font color = \"black\"> deposit_type, is_repeated_guest, previous_cancellations, previous_bookings_not_canceled y booking_changes\n",
        "\n",
        "##### Sí el cliente realiza un deposito a la reserva, puede existir una tendencia a que disminuya la probabilidad de cancelarla. De igual manera, sí se aloja un huesped repetido, posiblemente sea un cliente satisfecho con el servicio en las anteriores ocasiones y quiera repetir la experiencia; siendo así un huesped nuevo tiene analiticamente una probabilidad un poco mayor a cancelar la reserva que uno que ya se ha alojado una o varias veces con anterioridad en el mismo lugar. Finalmente, las cancelaciones previas y los cambios en la reserva pueden ser un indicativo o variables relevantes también con respecto a sí un cliente cancelará o no una reserva."
      ]
    },
    {
      "cell_type": "code",
      "execution_count": null,
      "id": "ecfb8aed-8609-4284-822a-a677cc715baf",
      "metadata": {
        "id": "ecfb8aed-8609-4284-822a-a677cc715baf",
        "outputId": "19e68c45-4bfb-489a-ed83-666f9c1c0733"
      },
      "outputs": [
        {
          "name": "stderr",
          "output_type": "stream",
          "text": [
            "C:\\Users\\Usuario\\.ms-ad\\Lib\\site-packages\\seaborn\\_oldcore.py:1119: FutureWarning: use_inf_as_na option is deprecated and will be removed in a future version. Convert inf values to NaN before operating instead.\n",
            "  with pd.option_context('mode.use_inf_as_na', True):\n"
          ]
        },
        {
          "data": {
            "text/plain": [
              "<Axes: xlabel='adr', ylabel='Count'>"
            ]
          },
          "execution_count": 22,
          "metadata": {},
          "output_type": "execute_result"
        },
        {
          "data": {
            "image/png": "[encoded data removed]",
            "text/plain": [
              "<Figure size 640x480 with 1 Axes>"
            ]
          },
          "metadata": {},
          "output_type": "display_data"
        }
      ],
      "source": [
        "sns.histplot(data=df_nuevo[df_nuevo[\"is_canceled\"] == 1], x=\"adr\", bins=5, kde=True, color='skyblue')"
      ]
    },
    {
      "cell_type": "code",
      "execution_count": null,
      "id": "e1b3c606-a324-483d-8320-8be952f5e12a",
      "metadata": {
        "id": "e1b3c606-a324-483d-8320-8be952f5e12a",
        "outputId": "17c4d1ba-2405-4622-8e90-2e06f8dbaa70"
      },
      "outputs": [
        {
          "name": "stderr",
          "output_type": "stream",
          "text": [
            "C:\\Users\\Usuario\\.ms-ad\\Lib\\site-packages\\seaborn\\_oldcore.py:1119: FutureWarning: use_inf_as_na option is deprecated and will be removed in a future version. Convert inf values to NaN before operating instead.\n",
            "  with pd.option_context('mode.use_inf_as_na', True):\n"
          ]
        },
        {
          "data": {
            "image/png": "[encoded data removed]",
            "text/plain": [
              "<Figure size 640x480 with 1 Axes>"
            ]
          },
          "metadata": {},
          "output_type": "display_data"
        },
        {
          "name": "stderr",
          "output_type": "stream",
          "text": [
            "C:\\Users\\Usuario\\.ms-ad\\Lib\\site-packages\\seaborn\\_oldcore.py:1119: FutureWarning: use_inf_as_na option is deprecated and will be removed in a future version. Convert inf values to NaN before operating instead.\n",
            "  with pd.option_context('mode.use_inf_as_na', True):\n"
          ]
        },
        {
          "data": {
            "image/png": "[encoded data removed]",
            "text/plain": [
              "<Figure size 640x480 with 1 Axes>"
            ]
          },
          "metadata": {},
          "output_type": "display_data"
        },
        {
          "name": "stdout",
          "output_type": "stream",
          "text": [
            "CPU times: total: 1.89 s\n",
            "Wall time: 1.53 s\n"
          ]
        }
      ],
      "source": [
        "%%time\n",
        "sns.histplot(data=df_nuevo[df_nuevo[\"is_canceled\"] == 1], x=\"adr\", bins=20, kde=True, color='skyblue')\n",
        "\n",
        "plt.title(\"Histograma\")\n",
        "plt.xlabel(\"adr\")\n",
        "plt.ylabel(\"reserva cancelada\")\n",
        "plt.show()\n",
        "\n",
        "sns.histplot(data=df_nuevo[df_nuevo[\"is_canceled\"] == 0], x=\"adr\", bins=20, kde=True, color='skyblue')\n",
        "\n",
        "plt.title(\"Histograma\")\n",
        "plt.xlabel(\"adr\")\n",
        "plt.ylabel(\"reserva no cancelada\")\n",
        "plt.show()"
      ]
    },
    {
      "cell_type": "markdown",
      "id": "0d1395b5-8865-4f74-a63e-43dcf4f0c461",
      "metadata": {
        "id": "0d1395b5-8865-4f74-a63e-43dcf4f0c461"
      },
      "source": [
        "##### Para reservas canceladas, la tarifa media tiende a cero. Para reservas no canceladas, el grafico sigue un comportamiento más normal."
      ]
    },
    {
      "cell_type": "code",
      "execution_count": null,
      "id": "f7a7f8e9-4808-481b-b3f0-b917d4197962",
      "metadata": {
        "id": "f7a7f8e9-4808-481b-b3f0-b917d4197962",
        "outputId": "654184ae-19a8-42c3-ca4d-f5bf2f1fe382"
      },
      "outputs": [
        {
          "name": "stdout",
          "output_type": "stream",
          "text": [
            "Limite inferior: -15.774999999999991\n",
            "Limite superior: 211.065\n",
            "IQR: 56.709999999999994\n",
            "La cantidad de outliers por debajo es: 0\n",
            "La cantidad de outliers por encima es: 3793\n"
          ]
        },
        {
          "data": {
            "image/png": "[encoded data removed]",
            "text/plain": [
              "<Figure size 800x400 with 1 Axes>"
            ]
          },
          "metadata": {},
          "output_type": "display_data"
        }
      ],
      "source": [
        "#Columna adr\n",
        "#método de rango intercuartílico\n",
        "Q1 = df_nuevo[\"adr\"].quantile(0.25)\n",
        "Q3 = df_nuevo[\"adr\"].quantile(0.75)\n",
        "IQR = Q3 - Q1\n",
        "\n",
        "Limite_inferior = Q1 - 1.5*IQR\n",
        "Limite_superior = Q3 + 1.5*IQR\n",
        "\n",
        "Outliers = df_nuevo[(df_nuevo[\"adr\"] < Limite_inferior) | (df_nuevo[\"adr\"] > Limite_superior)]\n",
        "\n",
        "Outliers_por_debajo = (df_nuevo[\"adr\"] < Limite_inferior).sum()\n",
        "Outliers_por_encima = (df_nuevo[\"adr\"] > Limite_superior).sum()\n",
        "\n",
        "print(f\"Limite inferior: {Limite_inferior}\")\n",
        "print(f\"Limite superior: {Limite_superior}\")\n",
        "print(f\"IQR: {IQR}\")\n",
        "print(f\"La cantidad de outliers por debajo es: {Outliers_por_debajo}\")\n",
        "print(f\"La cantidad de outliers por encima es: {Outliers_por_encima}\")\n",
        "\n",
        "#Graficar un boxplot para el análisis de datos atípicos (outliers) en una columna\n",
        "plt.figure(figsize=(8, 4))\n",
        "sns.boxplot(x=df_nuevo[\"adr\"])\n",
        "plt.title(\"Distribución de adr con Outliers\")\n",
        "plt.xlabel(\"adr\")\n",
        "plt.show()"
      ]
    },
    {
      "cell_type": "code",
      "execution_count": null,
      "id": "9ae5c2a7-219e-4dc7-a2c9-1b537f8bbb83",
      "metadata": {
        "id": "9ae5c2a7-219e-4dc7-a2c9-1b537f8bbb83",
        "outputId": "8d3035c5-816f-4a8e-bc3b-455bc2be11cd"
      },
      "outputs": [
        {
          "name": "stdout",
          "output_type": "stream",
          "text": [
            "Tamaño original: 119386\n",
            "Tamaño sin extremos: 119383\n"
          ]
        }
      ],
      "source": [
        "# No tenemos cantidad de outliers por debajo\n",
        "# Solo trabajamos con los extremos altos\n",
        "extremos_altos = df_nuevo.nlargest(3, \"adr\").index\n",
        "\n",
        "# Eliminar esos extremos\n",
        "df_sin_extremos = df_nuevo.drop(extremos_altos)\n",
        "\n",
        "# Para los demás outliers, reemplazar por el promedio\n",
        "promedio = df_sin_extremos[\"adr\"].mean()\n",
        "\n",
        "condicion_outliers = (df_sin_extremos[\"adr\"] > Limite_superior)\n",
        "df_sin_extremos.loc[condicion_outliers, \"adr\"] = promedio\n",
        "\n",
        "print(f\"Tamaño original: {len(df_nuevo)}\")\n",
        "print(f\"Tamaño sin extremos: {len(df_sin_extremos)}\")"
      ]
    },
    {
      "cell_type": "code",
      "execution_count": null,
      "id": "8e060c3b-8f0e-448b-966b-c504506b7bc9",
      "metadata": {
        "id": "8e060c3b-8f0e-448b-966b-c504506b7bc9",
        "outputId": "676361dc-85f6-4cd7-884f-9cef799c0290"
      },
      "outputs": [
        {
          "name": "stdout",
          "output_type": "stream",
          "text": [
            "Limite inferior: -6.7749999999999915\n",
            "Limite superior: 196.065\n",
            "IQR: 50.709999999999994\n",
            "La cantidad de outliers por debajo es: 0\n",
            "La cantidad de outliers por encima es: 1763\n"
          ]
        },
        {
          "data": {
            "image/png": "[encoded data removed]",
            "text/plain": [
              "<Figure size 800x400 with 1 Axes>"
            ]
          },
          "metadata": {},
          "output_type": "display_data"
        }
      ],
      "source": [
        "#Columna adr\n",
        "#método de rango intercuartílico\n",
        "Q1 = df_sin_extremos[\"adr\"].quantile(0.25)\n",
        "Q3 = df_sin_extremos[\"adr\"].quantile(0.75)\n",
        "IQR = Q3 - Q1\n",
        "\n",
        "Limite_inferior = Q1 - 1.5*IQR\n",
        "Limite_superior = Q3 + 1.5*IQR\n",
        "\n",
        "Outliers = df_sin_extremos[(df_sin_extremos[\"adr\"] < Limite_inferior) | (df_sin_extremos[\"adr\"] > Limite_superior)]\n",
        "\n",
        "Outliers_por_debajo = (df_sin_extremos[\"adr\"] < Limite_inferior).sum()\n",
        "Outliers_por_encima = (df_sin_extremos[\"adr\"] > Limite_superior).sum()\n",
        "\n",
        "print(f\"Limite inferior: {Limite_inferior}\")\n",
        "print(f\"Limite superior: {Limite_superior}\")\n",
        "print(f\"IQR: {IQR}\")\n",
        "print(f\"La cantidad de outliers por debajo es: {Outliers_por_debajo}\")\n",
        "print(f\"La cantidad de outliers por encima es: {Outliers_por_encima}\")\n",
        "\n",
        "#Graficar un boxplot para el análisis de datos atípicos (outliers) en una columna\n",
        "plt.figure(figsize=(8, 4))\n",
        "sns.boxplot(x=df_nuevo[\"adr\"])\n",
        "plt.title(\"Distribución de adr con Outliers\")\n",
        "plt.tight_layout()\n",
        "plt.xlabel(\"adr\")\n",
        "plt.show()"
      ]
    },
    {
      "cell_type": "markdown",
      "id": "0b095498-c66d-417f-adb7-9e1a5e68d38f",
      "metadata": {
        "id": "0b095498-c66d-417f-adb7-9e1a5e68d38f"
      },
      "source": [
        "##### Se puede observar que en este segundo análisis de outliers para la variable, los datos dispersos por encima del lim superior y el IQR disminuyeron. De lo anterior, se concluye que el método utilizado para rellenar los valores restantes por el promedio ayudo a reducir outliers."
      ]
    },
    {
      "cell_type": "code",
      "execution_count": null,
      "id": "6e6fb22d-5da4-4a4b-a238-647b5211f28f",
      "metadata": {
        "id": "6e6fb22d-5da4-4a4b-a238-647b5211f28f",
        "outputId": "d39b4159-a7cf-4ed1-fe5f-da528ce985da"
      },
      "outputs": [
        {
          "name": "stdout",
          "output_type": "stream",
          "text": [
            "<class 'pandas.core.frame.DataFrame'>\n",
            "Index: 119383 entries, 0 to 119389\n",
            "Data columns (total 26 columns):\n",
            " #   Column                          Non-Null Count   Dtype  \n",
            "---  ------                          --------------   -----  \n",
            " 0   hotel                           119383 non-null  object \n",
            " 1   is_canceled                     119383 non-null  int64  \n",
            " 2   lead_time                       119383 non-null  int64  \n",
            " 3   arrival_date_month              119383 non-null  object \n",
            " 4   arrival_date_week_number        119383 non-null  int64  \n",
            " 5   arrival_date_day_of_month       119383 non-null  int64  \n",
            " 6   stays_in_weekend_nights         119383 non-null  int64  \n",
            " 7   stays_in_week_nights            119383 non-null  int64  \n",
            " 8   adults                          119383 non-null  int64  \n",
            " 9   children                        119383 non-null  float64\n",
            " 10  babies                          119383 non-null  int64  \n",
            " 11  meal                            119383 non-null  object \n",
            " 12  market_segment                  119383 non-null  object \n",
            " 13  distribution_channel            119383 non-null  object \n",
            " 14  is_repeated_guest               119383 non-null  int64  \n",
            " 15  previous_cancellations          119383 non-null  int64  \n",
            " 16  previous_bookings_not_canceled  119383 non-null  int64  \n",
            " 17  reserved_room_type              119383 non-null  object \n",
            " 18  assigned_room_type              119383 non-null  object \n",
            " 19  booking_changes                 119383 non-null  int64  \n",
            " 20  deposit_type                    119383 non-null  object \n",
            " 21  days_in_waiting_list            119383 non-null  int64  \n",
            " 22  customer_type                   119383 non-null  object \n",
            " 23  adr                             119383 non-null  float64\n",
            " 24  required_car_parking_spaces     119383 non-null  int64  \n",
            " 25  total_of_special_requests       119383 non-null  int64  \n",
            "dtypes: float64(2), int64(15), object(9)\n",
            "memory usage: 24.6+ MB\n"
          ]
        }
      ],
      "source": [
        "df_sin_extremos.info()"
      ]
    },
    {
      "cell_type": "code",
      "execution_count": null,
      "id": "dd2993fd-7b88-467f-a822-d46608fde16b",
      "metadata": {
        "id": "dd2993fd-7b88-467f-a822-d46608fde16b"
      },
      "outputs": [],
      "source": [
        "# Transformar variables categoricas en variables dummies\n",
        "df_dummies = pd.get_dummies(df_sin_extremos, drop_first=True)"
      ]
    },
    {
      "cell_type": "code",
      "execution_count": null,
      "id": "4249c8d5-5dfe-49c0-a0b7-695542724548",
      "metadata": {
        "id": "4249c8d5-5dfe-49c0-a0b7-695542724548",
        "outputId": "9fdb783a-8119-4ea9-b4f3-ff396a060d86"
      },
      "outputs": [
        {
          "name": "stdout",
          "output_type": "stream",
          "text": [
            "<class 'pandas.core.frame.DataFrame'>\n",
            "Index: 119383 entries, 0 to 119389\n",
            "Data columns (total 68 columns):\n",
            " #   Column                          Non-Null Count   Dtype  \n",
            "---  ------                          --------------   -----  \n",
            " 0   is_canceled                     119383 non-null  int64  \n",
            " 1   lead_time                       119383 non-null  int64  \n",
            " 2   arrival_date_week_number        119383 non-null  int64  \n",
            " 3   arrival_date_day_of_month       119383 non-null  int64  \n",
            " 4   stays_in_weekend_nights         119383 non-null  int64  \n",
            " 5   stays_in_week_nights            119383 non-null  int64  \n",
            " 6   adults                          119383 non-null  int64  \n",
            " 7   children                        119383 non-null  float64\n",
            " 8   babies                          119383 non-null  int64  \n",
            " 9   is_repeated_guest               119383 non-null  int64  \n",
            " 10  previous_cancellations          119383 non-null  int64  \n",
            " 11  previous_bookings_not_canceled  119383 non-null  int64  \n",
            " 12  booking_changes                 119383 non-null  int64  \n",
            " 13  days_in_waiting_list            119383 non-null  int64  \n",
            " 14  adr                             119383 non-null  float64\n",
            " 15  required_car_parking_spaces     119383 non-null  int64  \n",
            " 16  total_of_special_requests       119383 non-null  int64  \n",
            " 17  hotel_Resort Hotel              119383 non-null  bool   \n",
            " 18  arrival_date_month_August       119383 non-null  bool   \n",
            " 19  arrival_date_month_December     119383 non-null  bool   \n",
            " 20  arrival_date_month_February     119383 non-null  bool   \n",
            " 21  arrival_date_month_January      119383 non-null  bool   \n",
            " 22  arrival_date_month_July         119383 non-null  bool   \n",
            " 23  arrival_date_month_June         119383 non-null  bool   \n",
            " 24  arrival_date_month_March        119383 non-null  bool   \n",
            " 25  arrival_date_month_May          119383 non-null  bool   \n",
            " 26  arrival_date_month_November     119383 non-null  bool   \n",
            " 27  arrival_date_month_October      119383 non-null  bool   \n",
            " 28  arrival_date_month_September    119383 non-null  bool   \n",
            " 29  meal_FB                         119383 non-null  bool   \n",
            " 30  meal_HB                         119383 non-null  bool   \n",
            " 31  meal_SC                         119383 non-null  bool   \n",
            " 32  meal_Undefined                  119383 non-null  bool   \n",
            " 33  market_segment_Complementary    119383 non-null  bool   \n",
            " 34  market_segment_Corporate        119383 non-null  bool   \n",
            " 35  market_segment_Direct           119383 non-null  bool   \n",
            " 36  market_segment_Groups           119383 non-null  bool   \n",
            " 37  market_segment_Offline TA/TO    119383 non-null  bool   \n",
            " 38  market_segment_Online TA        119383 non-null  bool   \n",
            " 39  distribution_channel_Direct     119383 non-null  bool   \n",
            " 40  distribution_channel_GDS        119383 non-null  bool   \n",
            " 41  distribution_channel_TA/TO      119383 non-null  bool   \n",
            " 42  distribution_channel_Undefined  119383 non-null  bool   \n",
            " 43  reserved_room_type_B            119383 non-null  bool   \n",
            " 44  reserved_room_type_C            119383 non-null  bool   \n",
            " 45  reserved_room_type_D            119383 non-null  bool   \n",
            " 46  reserved_room_type_E            119383 non-null  bool   \n",
            " 47  reserved_room_type_F            119383 non-null  bool   \n",
            " 48  reserved_room_type_G            119383 non-null  bool   \n",
            " 49  reserved_room_type_H            119383 non-null  bool   \n",
            " 50  reserved_room_type_L            119383 non-null  bool   \n",
            " 51  reserved_room_type_P            119383 non-null  bool   \n",
            " 52  assigned_room_type_B            119383 non-null  bool   \n",
            " 53  assigned_room_type_C            119383 non-null  bool   \n",
            " 54  assigned_room_type_D            119383 non-null  bool   \n",
            " 55  assigned_room_type_E            119383 non-null  bool   \n",
            " 56  assigned_room_type_F            119383 non-null  bool   \n",
            " 57  assigned_room_type_G            119383 non-null  bool   \n",
            " 58  assigned_room_type_H            119383 non-null  bool   \n",
            " 59  assigned_room_type_I            119383 non-null  bool   \n",
            " 60  assigned_room_type_K            119383 non-null  bool   \n",
            " 61  assigned_room_type_L            119383 non-null  bool   \n",
            " 62  assigned_room_type_P            119383 non-null  bool   \n",
            " 63  deposit_type_Non Refund         119383 non-null  bool   \n",
            " 64  deposit_type_Refundable         119383 non-null  bool   \n",
            " 65  customer_type_Group             119383 non-null  bool   \n",
            " 66  customer_type_Transient         119383 non-null  bool   \n",
            " 67  customer_type_Transient-Party   119383 non-null  bool   \n",
            "dtypes: bool(51), float64(2), int64(15)\n",
            "memory usage: 22.2 MB\n"
          ]
        }
      ],
      "source": [
        "df_dummies.info()"
      ]
    },
    {
      "cell_type": "code",
      "execution_count": null,
      "id": "4f9e7910-f76b-42a5-a157-9d4e3a54a904",
      "metadata": {
        "id": "4f9e7910-f76b-42a5-a157-9d4e3a54a904"
      },
      "outputs": [],
      "source": [
        "df_sin_extremos = df_dummies"
      ]
    },
    {
      "cell_type": "code",
      "execution_count": null,
      "id": "ea670acf-b7e5-4306-8793-1e29e103baed",
      "metadata": {
        "id": "ea670acf-b7e5-4306-8793-1e29e103baed",
        "outputId": "4a229a76-d044-40fc-dff8-f202a8dc0dab"
      },
      "outputs": [
        {
          "data": {
            "text/html": [
              "<div>\n",
              "<style scoped>\n",
              "    .dataframe tbody tr th:only-of-type {\n",
              "        vertical-align: middle;\n",
              "    }\n",
              "\n",
              "    .dataframe tbody tr th {\n",
              "        vertical-align: top;\n",
              "    }\n",
              "\n",
              "    .dataframe thead th {\n",
              "        text-align: right;\n",
              "    }\n",
              "</style>\n",
              "<table border=\"1\" class=\"dataframe\">\n",
              "  <thead>\n",
              "    <tr style=\"text-align: right;\">\n",
              "      <th></th>\n",
              "      <th>is_canceled</th>\n",
              "      <th>lead_time</th>\n",
              "      <th>arrival_date_week_number</th>\n",
              "      <th>arrival_date_day_of_month</th>\n",
              "      <th>stays_in_weekend_nights</th>\n",
              "      <th>stays_in_week_nights</th>\n",
              "      <th>adults</th>\n",
              "      <th>children</th>\n",
              "      <th>babies</th>\n",
              "      <th>is_repeated_guest</th>\n",
              "      <th>...</th>\n",
              "      <th>assigned_room_type_H</th>\n",
              "      <th>assigned_room_type_I</th>\n",
              "      <th>assigned_room_type_K</th>\n",
              "      <th>assigned_room_type_L</th>\n",
              "      <th>assigned_room_type_P</th>\n",
              "      <th>deposit_type_Non Refund</th>\n",
              "      <th>deposit_type_Refundable</th>\n",
              "      <th>customer_type_Group</th>\n",
              "      <th>customer_type_Transient</th>\n",
              "      <th>customer_type_Transient-Party</th>\n",
              "    </tr>\n",
              "  </thead>\n",
              "  <tbody>\n",
              "    <tr>\n",
              "      <th>0</th>\n",
              "      <td>0</td>\n",
              "      <td>342</td>\n",
              "      <td>27</td>\n",
              "      <td>1</td>\n",
              "      <td>0</td>\n",
              "      <td>0</td>\n",
              "      <td>2</td>\n",
              "      <td>0.0</td>\n",
              "      <td>0</td>\n",
              "      <td>0</td>\n",
              "      <td>...</td>\n",
              "      <td>False</td>\n",
              "      <td>False</td>\n",
              "      <td>False</td>\n",
              "      <td>False</td>\n",
              "      <td>False</td>\n",
              "      <td>False</td>\n",
              "      <td>False</td>\n",
              "      <td>False</td>\n",
              "      <td>True</td>\n",
              "      <td>False</td>\n",
              "    </tr>\n",
              "    <tr>\n",
              "      <th>1</th>\n",
              "      <td>0</td>\n",
              "      <td>737</td>\n",
              "      <td>27</td>\n",
              "      <td>1</td>\n",
              "      <td>0</td>\n",
              "      <td>0</td>\n",
              "      <td>2</td>\n",
              "      <td>0.0</td>\n",
              "      <td>0</td>\n",
              "      <td>0</td>\n",
              "      <td>...</td>\n",
              "      <td>False</td>\n",
              "      <td>False</td>\n",
              "      <td>False</td>\n",
              "      <td>False</td>\n",
              "      <td>False</td>\n",
              "      <td>False</td>\n",
              "      <td>False</td>\n",
              "      <td>False</td>\n",
              "      <td>True</td>\n",
              "      <td>False</td>\n",
              "    </tr>\n",
              "    <tr>\n",
              "      <th>2</th>\n",
              "      <td>0</td>\n",
              "      <td>7</td>\n",
              "      <td>27</td>\n",
              "      <td>1</td>\n",
              "      <td>0</td>\n",
              "      <td>1</td>\n",
              "      <td>1</td>\n",
              "      <td>0.0</td>\n",
              "      <td>0</td>\n",
              "      <td>0</td>\n",
              "      <td>...</td>\n",
              "      <td>False</td>\n",
              "      <td>False</td>\n",
              "      <td>False</td>\n",
              "      <td>False</td>\n",
              "      <td>False</td>\n",
              "      <td>False</td>\n",
              "      <td>False</td>\n",
              "      <td>False</td>\n",
              "      <td>True</td>\n",
              "      <td>False</td>\n",
              "    </tr>\n",
              "    <tr>\n",
              "      <th>3</th>\n",
              "      <td>0</td>\n",
              "      <td>13</td>\n",
              "      <td>27</td>\n",
              "      <td>1</td>\n",
              "      <td>0</td>\n",
              "      <td>1</td>\n",
              "      <td>1</td>\n",
              "      <td>0.0</td>\n",
              "      <td>0</td>\n",
              "      <td>0</td>\n",
              "      <td>...</td>\n",
              "      <td>False</td>\n",
              "      <td>False</td>\n",
              "      <td>False</td>\n",
              "      <td>False</td>\n",
              "      <td>False</td>\n",
              "      <td>False</td>\n",
              "      <td>False</td>\n",
              "      <td>False</td>\n",
              "      <td>True</td>\n",
              "      <td>False</td>\n",
              "    </tr>\n",
              "    <tr>\n",
              "      <th>4</th>\n",
              "      <td>0</td>\n",
              "      <td>14</td>\n",
              "      <td>27</td>\n",
              "      <td>1</td>\n",
              "      <td>0</td>\n",
              "      <td>2</td>\n",
              "      <td>2</td>\n",
              "      <td>0.0</td>\n",
              "      <td>0</td>\n",
              "      <td>0</td>\n",
              "      <td>...</td>\n",
              "      <td>False</td>\n",
              "      <td>False</td>\n",
              "      <td>False</td>\n",
              "      <td>False</td>\n",
              "      <td>False</td>\n",
              "      <td>False</td>\n",
              "      <td>False</td>\n",
              "      <td>False</td>\n",
              "      <td>True</td>\n",
              "      <td>False</td>\n",
              "    </tr>\n",
              "  </tbody>\n",
              "</table>\n",
              "<p>5 rows × 68 columns</p>\n",
              "</div>"
            ],
            "text/plain": [
              "   is_canceled  lead_time  arrival_date_week_number  \\\n",
              "0            0        342                        27   \n",
              "1            0        737                        27   \n",
              "2            0          7                        27   \n",
              "3            0         13                        27   \n",
              "4            0         14                        27   \n",
              "\n",
              "   arrival_date_day_of_month  stays_in_weekend_nights  stays_in_week_nights  \\\n",
              "0                          1                        0                     0   \n",
              "1                          1                        0                     0   \n",
              "2                          1                        0                     1   \n",
              "3                          1                        0                     1   \n",
              "4                          1                        0                     2   \n",
              "\n",
              "   adults  children  babies  is_repeated_guest  ...  assigned_room_type_H  \\\n",
              "0       2       0.0       0                  0  ...                 False   \n",
              "1       2       0.0       0                  0  ...                 False   \n",
              "2       1       0.0       0                  0  ...                 False   \n",
              "3       1       0.0       0                  0  ...                 False   \n",
              "4       2       0.0       0                  0  ...                 False   \n",
              "\n",
              "   assigned_room_type_I  assigned_room_type_K  assigned_room_type_L  \\\n",
              "0                 False                 False                 False   \n",
              "1                 False                 False                 False   \n",
              "2                 False                 False                 False   \n",
              "3                 False                 False                 False   \n",
              "4                 False                 False                 False   \n",
              "\n",
              "   assigned_room_type_P  deposit_type_Non Refund  deposit_type_Refundable  \\\n",
              "0                 False                    False                    False   \n",
              "1                 False                    False                    False   \n",
              "2                 False                    False                    False   \n",
              "3                 False                    False                    False   \n",
              "4                 False                    False                    False   \n",
              "\n",
              "   customer_type_Group  customer_type_Transient  customer_type_Transient-Party  \n",
              "0                False                     True                          False  \n",
              "1                False                     True                          False  \n",
              "2                False                     True                          False  \n",
              "3                False                     True                          False  \n",
              "4                False                     True                          False  \n",
              "\n",
              "[5 rows x 68 columns]"
            ]
          },
          "execution_count": 31,
          "metadata": {},
          "output_type": "execute_result"
        }
      ],
      "source": [
        "df_sin_extremos.head()"
      ]
    },
    {
      "cell_type": "code",
      "execution_count": null,
      "id": "99d01716-5c4a-4a2e-9435-bebb82faf984",
      "metadata": {
        "id": "99d01716-5c4a-4a2e-9435-bebb82faf984",
        "outputId": "7782f0ea-acf1-4bd5-cbfc-8e02ee2b72c4"
      },
      "outputs": [
        {
          "data": {
            "text/plain": [
              "(119383, 68)"
            ]
          },
          "execution_count": 32,
          "metadata": {},
          "output_type": "execute_result"
        }
      ],
      "source": [
        "df_sin_extremos.shape"
      ]
    },
    {
      "cell_type": "code",
      "execution_count": null,
      "id": "a2974a61-74f0-47db-8551-acdea5d09e85",
      "metadata": {
        "id": "a2974a61-74f0-47db-8551-acdea5d09e85"
      },
      "outputs": [],
      "source": [
        "X = pd.get_dummies(df_sin_extremos.drop(\"is_canceled\", axis=1), drop_first=True)\n",
        "y = df_sin_extremos[\"is_canceled\"]\n",
        "\n",
        "# Dividir en test y train\n",
        "X_train, X_test, y_train, y_test = train_test_split(X, y, test_size = 0.33, random_state = 42)\n",
        "\n",
        "# Estandarizar solo variables independientes\n",
        "scaler = StandardScaler()\n",
        "X_train_scaled = scaler.fit_transform(X_train)\n",
        "X_text_scaled = scaler.transform (X_test)"
      ]
    },
    {
      "cell_type": "markdown",
      "id": "cc4fc4c1-56c8-4dda-a5db-4dde7b6adae6",
      "metadata": {
        "id": "cc4fc4c1-56c8-4dda-a5db-4dde7b6adae6"
      },
      "source": [
        "##### <font color = \"BLUE\"> REDES NEURONALES"
      ]
    },
    {
      "cell_type": "code",
      "execution_count": null,
      "id": "37da67d6-a7f4-4c8f-8152-4d0e2bdf452c",
      "metadata": {
        "id": "37da67d6-a7f4-4c8f-8152-4d0e2bdf452c",
        "outputId": "d4474da3-d40f-49ff-b8ff-90dd18ed7c03"
      },
      "outputs": [
        {
          "data": {
            "text/plain": [
              "67"
            ]
          },
          "execution_count": 34,
          "metadata": {},
          "output_type": "execute_result"
        }
      ],
      "source": [
        "X_train.shape[1]"
      ]
    },
    {
      "cell_type": "markdown",
      "id": "c16b0085-9eac-4a81-bc1a-bd923b2890df",
      "metadata": {
        "id": "c16b0085-9eac-4a81-bc1a-bd923b2890df"
      },
      "source": [
        "#### Implementación de dos modelos de red neuronal multicapa, considerando las siguientes características:\n",
        "\n",
        "a. Cada modelo debe contar con tres capas ocultas.\n",
        "\n",
        "b. El primer modelo debe tener funciones de activación tanh, relu y tanh en las capas ocultas, mientras que el segundo sólo funciones tanh en sus capas\n",
        "ocultas.\n",
        "\n",
        "c. Cada modelo debe tener un mínimo de 20 neuronas para cada capa oculta.\n",
        "\n",
        "d. Usar un optimizador SGD, con 10 épocas de entrenamiento; cada capa deberá tener una neurona de sesgo. Debes decidir cómo se inicializan los pesos y el sesgo en cada capa oculta y de salida.\n"
      ]
    },
    {
      "cell_type": "code",
      "execution_count": null,
      "id": "a2d190af-03c8-4a67-aa29-cfbbb10c3e84",
      "metadata": {
        "id": "a2d190af-03c8-4a67-aa29-cfbbb10c3e84",
        "outputId": "099e8fc5-9965-4b0e-ab06-cb00edd8c6a4"
      },
      "outputs": [
        {
          "name": "stdout",
          "output_type": "stream",
          "text": [
            "Epoch 1/10\n",
            "\u001b[1m2500/2500\u001b[0m \u001b[32m━━━━━━━━━━━━━━━━━━━━\u001b[0m\u001b[37m\u001b[0m \u001b[1m7s\u001b[0m 3ms/step - AUC: 0.6975 - loss: 0.5961\n",
            "Epoch 2/10\n",
            "\u001b[1m2500/2500\u001b[0m \u001b[32m━━━━━━━━━━━━━━━━━━━━\u001b[0m\u001b[37m\u001b[0m \u001b[1m8s\u001b[0m 3ms/step - AUC: 0.7222 - loss: 0.5794\n",
            "Epoch 3/10\n",
            "\u001b[1m2500/2500\u001b[0m \u001b[32m━━━━━━━━━━━━━━━━━━━━\u001b[0m\u001b[37m\u001b[0m \u001b[1m8s\u001b[0m 3ms/step - AUC: 0.7287 - loss: 0.5749\n",
            "Epoch 4/10\n",
            "\u001b[1m2500/2500\u001b[0m \u001b[32m━━━━━━━━━━━━━━━━━━━━\u001b[0m\u001b[37m\u001b[0m \u001b[1m7s\u001b[0m 3ms/step - AUC: 0.7334 - loss: 0.5719\n",
            "Epoch 5/10\n",
            "\u001b[1m2500/2500\u001b[0m \u001b[32m━━━━━━━━━━━━━━━━━━━━\u001b[0m\u001b[37m\u001b[0m \u001b[1m6s\u001b[0m 3ms/step - AUC: 0.7361 - loss: 0.5697\n",
            "Epoch 6/10\n",
            "\u001b[1m2500/2500\u001b[0m \u001b[32m━━━━━━━━━━━━━━━━━━━━\u001b[0m\u001b[37m\u001b[0m \u001b[1m10s\u001b[0m 2ms/step - AUC: 0.7392 - loss: 0.5676\n",
            "Epoch 7/10\n",
            "\u001b[1m2500/2500\u001b[0m \u001b[32m━━━━━━━━━━━━━━━━━━━━\u001b[0m\u001b[37m\u001b[0m \u001b[1m11s\u001b[0m 3ms/step - AUC: 0.7417 - loss: 0.5657\n",
            "Epoch 8/10\n",
            "\u001b[1m2500/2500\u001b[0m \u001b[32m━━━━━━━━━━━━━━━━━━━━\u001b[0m\u001b[37m\u001b[0m \u001b[1m7s\u001b[0m 3ms/step - AUC: 0.7441 - loss: 0.5639\n",
            "Epoch 9/10\n",
            "\u001b[1m2500/2500\u001b[0m \u001b[32m━━━━━━━━━━━━━━━━━━━━\u001b[0m\u001b[37m\u001b[0m \u001b[1m7s\u001b[0m 3ms/step - AUC: 0.7470 - loss: 0.5619\n",
            "Epoch 10/10\n",
            "\u001b[1m2500/2500\u001b[0m \u001b[32m━━━━━━━━━━━━━━━━━━━━\u001b[0m\u001b[37m\u001b[0m \u001b[1m12s\u001b[0m 4ms/step - AUC: 0.7493 - loss: 0.5600\n"
          ]
        },
        {
          "data": {
            "text/html": [
              "<pre style=\"white-space:pre;overflow-x:auto;line-height:normal;font-family:Menlo,'DejaVu Sans Mono',consolas,'Courier New',monospace\"><span style=\"font-weight: bold\">Model: \"sequential_37\"</span>\n",
              "</pre>\n"
            ],
            "text/plain": [
              "\u001b[1mModel: \"sequential_37\"\u001b[0m\n"
            ]
          },
          "metadata": {},
          "output_type": "display_data"
        },
        {
          "data": {
            "text/html": [
              "<pre style=\"white-space:pre;overflow-x:auto;line-height:normal;font-family:Menlo,'DejaVu Sans Mono',consolas,'Courier New',monospace\">┏━━━━━━━━━━━━━━━━━━━━━━━━━━━━━━━━━┳━━━━━━━━━━━━━━━━━━━━━━━━┳━━━━━━━━━━━━━━━┓\n",
              "┃<span style=\"font-weight: bold\"> Layer (type)                    </span>┃<span style=\"font-weight: bold\"> Output Shape           </span>┃<span style=\"font-weight: bold\">       Param # </span>┃\n",
              "┡━━━━━━━━━━━━━━━━━━━━━━━━━━━━━━━━━╇━━━━━━━━━━━━━━━━━━━━━━━━╇━━━━━━━━━━━━━━━┩\n",
              "│ dense_144 (<span style=\"color: #0087ff; text-decoration-color: #0087ff\">Dense</span>)               │ (<span style=\"color: #00d7ff; text-decoration-color: #00d7ff\">None</span>, <span style=\"color: #00af00; text-decoration-color: #00af00\">450</span>)            │        <span style=\"color: #00af00; text-decoration-color: #00af00\">30,600</span> │\n",
              "├─────────────────────────────────┼────────────────────────┼───────────────┤\n",
              "│ dense_145 (<span style=\"color: #0087ff; text-decoration-color: #0087ff\">Dense</span>)               │ (<span style=\"color: #00d7ff; text-decoration-color: #00d7ff\">None</span>, <span style=\"color: #00af00; text-decoration-color: #00af00\">450</span>)            │       <span style=\"color: #00af00; text-decoration-color: #00af00\">202,950</span> │\n",
              "├─────────────────────────────────┼────────────────────────┼───────────────┤\n",
              "│ dense_146 (<span style=\"color: #0087ff; text-decoration-color: #0087ff\">Dense</span>)               │ (<span style=\"color: #00d7ff; text-decoration-color: #00d7ff\">None</span>, <span style=\"color: #00af00; text-decoration-color: #00af00\">450</span>)            │       <span style=\"color: #00af00; text-decoration-color: #00af00\">202,950</span> │\n",
              "├─────────────────────────────────┼────────────────────────┼───────────────┤\n",
              "│ dense_147 (<span style=\"color: #0087ff; text-decoration-color: #0087ff\">Dense</span>)               │ (<span style=\"color: #00d7ff; text-decoration-color: #00d7ff\">None</span>, <span style=\"color: #00af00; text-decoration-color: #00af00\">1</span>)              │           <span style=\"color: #00af00; text-decoration-color: #00af00\">451</span> │\n",
              "└─────────────────────────────────┴────────────────────────┴───────────────┘\n",
              "</pre>\n"
            ],
            "text/plain": [
              "┏━━━━━━━━━━━━━━━━━━━━━━━━━━━━━━━━━┳━━━━━━━━━━━━━━━━━━━━━━━━┳━━━━━━━━━━━━━━━┓\n",
              "┃\u001b[1m \u001b[0m\u001b[1mLayer (type)                   \u001b[0m\u001b[1m \u001b[0m┃\u001b[1m \u001b[0m\u001b[1mOutput Shape          \u001b[0m\u001b[1m \u001b[0m┃\u001b[1m \u001b[0m\u001b[1m      Param #\u001b[0m\u001b[1m \u001b[0m┃\n",
              "┡━━━━━━━━━━━━━━━━━━━━━━━━━━━━━━━━━╇━━━━━━━━━━━━━━━━━━━━━━━━╇━━━━━━━━━━━━━━━┩\n",
              "│ dense_144 (\u001b[38;5;33mDense\u001b[0m)               │ (\u001b[38;5;45mNone\u001b[0m, \u001b[38;5;34m450\u001b[0m)            │        \u001b[38;5;34m30,600\u001b[0m │\n",
              "├─────────────────────────────────┼────────────────────────┼───────────────┤\n",
              "│ dense_145 (\u001b[38;5;33mDense\u001b[0m)               │ (\u001b[38;5;45mNone\u001b[0m, \u001b[38;5;34m450\u001b[0m)            │       \u001b[38;5;34m202,950\u001b[0m │\n",
              "├─────────────────────────────────┼────────────────────────┼───────────────┤\n",
              "│ dense_146 (\u001b[38;5;33mDense\u001b[0m)               │ (\u001b[38;5;45mNone\u001b[0m, \u001b[38;5;34m450\u001b[0m)            │       \u001b[38;5;34m202,950\u001b[0m │\n",
              "├─────────────────────────────────┼────────────────────────┼───────────────┤\n",
              "│ dense_147 (\u001b[38;5;33mDense\u001b[0m)               │ (\u001b[38;5;45mNone\u001b[0m, \u001b[38;5;34m1\u001b[0m)              │           \u001b[38;5;34m451\u001b[0m │\n",
              "└─────────────────────────────────┴────────────────────────┴───────────────┘\n"
            ]
          },
          "metadata": {},
          "output_type": "display_data"
        },
        {
          "data": {
            "text/html": [
              "<pre style=\"white-space:pre;overflow-x:auto;line-height:normal;font-family:Menlo,'DejaVu Sans Mono',consolas,'Courier New',monospace\"><span style=\"font-weight: bold\"> Total params: </span><span style=\"color: #00af00; text-decoration-color: #00af00\">436,953</span> (1.67 MB)\n",
              "</pre>\n"
            ],
            "text/plain": [
              "\u001b[1m Total params: \u001b[0m\u001b[38;5;34m436,953\u001b[0m (1.67 MB)\n"
            ]
          },
          "metadata": {},
          "output_type": "display_data"
        },
        {
          "data": {
            "text/html": [
              "<pre style=\"white-space:pre;overflow-x:auto;line-height:normal;font-family:Menlo,'DejaVu Sans Mono',consolas,'Courier New',monospace\"><span style=\"font-weight: bold\"> Trainable params: </span><span style=\"color: #00af00; text-decoration-color: #00af00\">436,951</span> (1.67 MB)\n",
              "</pre>\n"
            ],
            "text/plain": [
              "\u001b[1m Trainable params: \u001b[0m\u001b[38;5;34m436,951\u001b[0m (1.67 MB)\n"
            ]
          },
          "metadata": {},
          "output_type": "display_data"
        },
        {
          "data": {
            "text/html": [
              "<pre style=\"white-space:pre;overflow-x:auto;line-height:normal;font-family:Menlo,'DejaVu Sans Mono',consolas,'Courier New',monospace\"><span style=\"font-weight: bold\"> Non-trainable params: </span><span style=\"color: #00af00; text-decoration-color: #00af00\">0</span> (0.00 B)\n",
              "</pre>\n"
            ],
            "text/plain": [
              "\u001b[1m Non-trainable params: \u001b[0m\u001b[38;5;34m0\u001b[0m (0.00 B)\n"
            ]
          },
          "metadata": {},
          "output_type": "display_data"
        },
        {
          "data": {
            "text/html": [
              "<pre style=\"white-space:pre;overflow-x:auto;line-height:normal;font-family:Menlo,'DejaVu Sans Mono',consolas,'Courier New',monospace\"><span style=\"font-weight: bold\"> Optimizer params: </span><span style=\"color: #00af00; text-decoration-color: #00af00\">2</span> (12.00 B)\n",
              "</pre>\n"
            ],
            "text/plain": [
              "\u001b[1m Optimizer params: \u001b[0m\u001b[38;5;34m2\u001b[0m (12.00 B)\n"
            ]
          },
          "metadata": {},
          "output_type": "display_data"
        },
        {
          "name": "stdout",
          "output_type": "stream",
          "text": [
            "CPU times: total: 1min 55s\n",
            "Wall time: 1min 23s\n"
          ]
        }
      ],
      "source": [
        "%%time\n",
        "# Modelo 1\n",
        "# Usamos relu y tanh como funciones de activación de las capas ocultas\n",
        "# SGD\n",
        "# 10 epocas y min 20 neuronas\n",
        "\n",
        "from tensorflow.keras.initializers import HeNormal, GlorotUniform, Zeros\n",
        "\n",
        "model = Sequential()\n",
        "\n",
        "# Capa de entrada donde se establece las dimensiones de las observaciones\n",
        "model.add(keras.Input(shape=(X_train.shape[1], )))\n",
        "\n",
        "# Capa oculta 1\n",
        "model.add(Dense(450, activation='relu',\n",
        "                use_bias=True,\n",
        "                kernel_initializer=HeNormal(),\n",
        "                bias_initializer=Zeros()))\n",
        "\n",
        "# Capa oculta 2\n",
        "model.add(Dense(450, activation='tanh',\n",
        "                use_bias=True,\n",
        "                kernel_initializer=GlorotUniform(),\n",
        "                bias_initializer=Zeros()))\n",
        "\n",
        "# Capa oculta 3\n",
        "model.add(Dense(450, activation='relu',\n",
        "                use_bias=True,\n",
        "                kernel_initializer=HeNormal(),\n",
        "                bias_initializer=Zeros()))\n",
        "\n",
        "# Capa de salida\n",
        "model.add(Dense(1, activation='sigmoid',\n",
        "                use_bias=True,\n",
        "                kernel_initializer=GlorotUniform(),\n",
        "                bias_initializer=Zeros()))\n",
        "\n",
        "# Optimizador: Descenso del gradiente estocástico\n",
        "optimizer = SGD(learning_rate=0.0001)\n",
        "\n",
        "# Compilar el modelo\n",
        "model.compile(loss='binary_crossentropy', optimizer=optimizer, metrics=['AUC'])\n",
        "\n",
        "# Entrenar el modelo\n",
        "history = model.fit(X_train, y_train, epochs=10, batch_size=32, verbose=1)\n",
        "\n",
        "model.summary()"
      ]
    },
    {
      "cell_type": "code",
      "execution_count": null,
      "id": "d4eb0b55-217d-445e-a85c-821bcd86b4f9",
      "metadata": {
        "id": "d4eb0b55-217d-445e-a85c-821bcd86b4f9",
        "outputId": "4d7533ee-f4fb-4aee-b3f5-55d77cf0d1d5"
      },
      "outputs": [
        {
          "name": "stdout",
          "output_type": "stream",
          "text": [
            "\u001b[1m2500/2500\u001b[0m \u001b[32m━━━━━━━━━━━━━━━━━━━━\u001b[0m\u001b[37m\u001b[0m \u001b[1m4s\u001b[0m 2ms/step\n",
            "AUC: 0.7530\n"
          ]
        },
        {
          "data": {
            "image/png": "[encoded data removed]",
            "text/plain": [
              "<Figure size 640x480 with 1 Axes>"
            ]
          },
          "metadata": {},
          "output_type": "display_data"
        }
      ],
      "source": [
        "from sklearn.metrics import precision_score, recall_score, roc_auc_score, roc_curve #Metricas de evaluación clasificatorias\n",
        "\n",
        "# Obtener probabilidades predichas\n",
        "y_pred_proba = model.predict(X_train).ravel()\n",
        "\n",
        "# Calcular AUC\n",
        "auc = roc_auc_score(y_train, y_pred_proba)\n",
        "print(f\"AUC: {auc:.4f}\")\n",
        "\n",
        "# Curva ROC\n",
        "fpr, tpr, thresholds = roc_curve(y_train, y_pred_proba)\n",
        "\n",
        "# Graficar\n",
        "plt.plot(fpr, tpr, label=f'AUC = {auc:.2f}')\n",
        "plt.plot([0, 1], [0, 1], 'k--')\n",
        "plt.xlabel('False Positive Rate')\n",
        "plt.ylabel('True Positive Rate')\n",
        "plt.title('Curva ROC')\n",
        "plt.legend(loc='lower right')\n",
        "plt.grid()\n",
        "plt.show()"
      ]
    },
    {
      "cell_type": "code",
      "execution_count": null,
      "id": "86d83a78-ae84-468a-b420-302f1e885079",
      "metadata": {
        "id": "86d83a78-ae84-468a-b420-302f1e885079",
        "outputId": "95a84daa-d1ac-4a61-80ae-f608bf167c77"
      },
      "outputs": [
        {
          "name": "stdout",
          "output_type": "stream",
          "text": [
            "Epoch 1/10\n",
            "\u001b[1m2500/2500\u001b[0m \u001b[32m━━━━━━━━━━━━━━━━━━━━\u001b[0m\u001b[37m\u001b[0m \u001b[1m8s\u001b[0m 2ms/step - AUC: 0.6896 - loss: 0.6029\n",
            "Epoch 2/10\n",
            "\u001b[1m2500/2500\u001b[0m \u001b[32m━━━━━━━━━━━━━━━━━━━━\u001b[0m\u001b[37m\u001b[0m \u001b[1m7s\u001b[0m 3ms/step - AUC: 0.7137 - loss: 0.5856\n",
            "Epoch 3/10\n",
            "\u001b[1m2500/2500\u001b[0m \u001b[32m━━━━━━━━━━━━━━━━━━━━\u001b[0m\u001b[37m\u001b[0m \u001b[1m6s\u001b[0m 2ms/step - AUC: 0.7202 - loss: 0.5807\n",
            "Epoch 4/10\n",
            "\u001b[1m2500/2500\u001b[0m \u001b[32m━━━━━━━━━━━━━━━━━━━━\u001b[0m\u001b[37m\u001b[0m \u001b[1m11s\u001b[0m 3ms/step - AUC: 0.7251 - loss: 0.5769\n",
            "Epoch 5/10\n",
            "\u001b[1m2500/2500\u001b[0m \u001b[32m━━━━━━━━━━━━━━━━━━━━\u001b[0m\u001b[37m\u001b[0m \u001b[1m6s\u001b[0m 2ms/step - AUC: 0.7304 - loss: 0.5730\n",
            "Epoch 6/10\n",
            "\u001b[1m2500/2500\u001b[0m \u001b[32m━━━━━━━━━━━━━━━━━━━━\u001b[0m\u001b[37m\u001b[0m \u001b[1m6s\u001b[0m 3ms/step - AUC: 0.7334 - loss: 0.5707\n",
            "Epoch 7/10\n",
            "\u001b[1m2500/2500\u001b[0m \u001b[32m━━━━━━━━━━━━━━━━━━━━\u001b[0m\u001b[37m\u001b[0m \u001b[1m12s\u001b[0m 3ms/step - AUC: 0.7388 - loss: 0.5666\n",
            "Epoch 8/10\n",
            "\u001b[1m2500/2500\u001b[0m \u001b[32m━━━━━━━━━━━━━━━━━━━━\u001b[0m\u001b[37m\u001b[0m \u001b[1m9s\u001b[0m 3ms/step - AUC: 0.7417 - loss: 0.5640\n",
            "Epoch 9/10\n",
            "\u001b[1m2500/2500\u001b[0m \u001b[32m━━━━━━━━━━━━━━━━━━━━\u001b[0m\u001b[37m\u001b[0m \u001b[1m11s\u001b[0m 3ms/step - AUC: 0.7466 - loss: 0.5604\n",
            "Epoch 10/10\n",
            "\u001b[1m2500/2500\u001b[0m \u001b[32m━━━━━━━━━━━━━━━━━━━━\u001b[0m\u001b[37m\u001b[0m \u001b[1m10s\u001b[0m 3ms/step - AUC: 0.7503 - loss: 0.5575\n"
          ]
        },
        {
          "data": {
            "text/html": [
              "<pre style=\"white-space:pre;overflow-x:auto;line-height:normal;font-family:Menlo,'DejaVu Sans Mono',consolas,'Courier New',monospace\"><span style=\"font-weight: bold\">Model: \"sequential_1\"</span>\n",
              "</pre>\n"
            ],
            "text/plain": [
              "\u001b[1mModel: \"sequential_1\"\u001b[0m\n"
            ]
          },
          "metadata": {},
          "output_type": "display_data"
        },
        {
          "data": {
            "text/html": [
              "<pre style=\"white-space:pre;overflow-x:auto;line-height:normal;font-family:Menlo,'DejaVu Sans Mono',consolas,'Courier New',monospace\">┏━━━━━━━━━━━━━━━━━━━━━━━━━━━━━━━━━┳━━━━━━━━━━━━━━━━━━━━━━━━┳━━━━━━━━━━━━━━━┓\n",
              "┃<span style=\"font-weight: bold\"> Layer (type)                    </span>┃<span style=\"font-weight: bold\"> Output Shape           </span>┃<span style=\"font-weight: bold\">       Param # </span>┃\n",
              "┡━━━━━━━━━━━━━━━━━━━━━━━━━━━━━━━━━╇━━━━━━━━━━━━━━━━━━━━━━━━╇━━━━━━━━━━━━━━━┩\n",
              "│ dense_4 (<span style=\"color: #0087ff; text-decoration-color: #0087ff\">Dense</span>)                 │ (<span style=\"color: #00d7ff; text-decoration-color: #00d7ff\">None</span>, <span style=\"color: #00af00; text-decoration-color: #00af00\">200</span>)            │        <span style=\"color: #00af00; text-decoration-color: #00af00\">13,600</span> │\n",
              "├─────────────────────────────────┼────────────────────────┼───────────────┤\n",
              "│ dense_5 (<span style=\"color: #0087ff; text-decoration-color: #0087ff\">Dense</span>)                 │ (<span style=\"color: #00d7ff; text-decoration-color: #00d7ff\">None</span>, <span style=\"color: #00af00; text-decoration-color: #00af00\">200</span>)            │        <span style=\"color: #00af00; text-decoration-color: #00af00\">40,200</span> │\n",
              "├─────────────────────────────────┼────────────────────────┼───────────────┤\n",
              "│ dense_6 (<span style=\"color: #0087ff; text-decoration-color: #0087ff\">Dense</span>)                 │ (<span style=\"color: #00d7ff; text-decoration-color: #00d7ff\">None</span>, <span style=\"color: #00af00; text-decoration-color: #00af00\">200</span>)            │        <span style=\"color: #00af00; text-decoration-color: #00af00\">40,200</span> │\n",
              "├─────────────────────────────────┼────────────────────────┼───────────────┤\n",
              "│ dense_7 (<span style=\"color: #0087ff; text-decoration-color: #0087ff\">Dense</span>)                 │ (<span style=\"color: #00d7ff; text-decoration-color: #00d7ff\">None</span>, <span style=\"color: #00af00; text-decoration-color: #00af00\">1</span>)              │           <span style=\"color: #00af00; text-decoration-color: #00af00\">201</span> │\n",
              "└─────────────────────────────────┴────────────────────────┴───────────────┘\n",
              "</pre>\n"
            ],
            "text/plain": [
              "┏━━━━━━━━━━━━━━━━━━━━━━━━━━━━━━━━━┳━━━━━━━━━━━━━━━━━━━━━━━━┳━━━━━━━━━━━━━━━┓\n",
              "┃\u001b[1m \u001b[0m\u001b[1mLayer (type)                   \u001b[0m\u001b[1m \u001b[0m┃\u001b[1m \u001b[0m\u001b[1mOutput Shape          \u001b[0m\u001b[1m \u001b[0m┃\u001b[1m \u001b[0m\u001b[1m      Param #\u001b[0m\u001b[1m \u001b[0m┃\n",
              "┡━━━━━━━━━━━━━━━━━━━━━━━━━━━━━━━━━╇━━━━━━━━━━━━━━━━━━━━━━━━╇━━━━━━━━━━━━━━━┩\n",
              "│ dense_4 (\u001b[38;5;33mDense\u001b[0m)                 │ (\u001b[38;5;45mNone\u001b[0m, \u001b[38;5;34m200\u001b[0m)            │        \u001b[38;5;34m13,600\u001b[0m │\n",
              "├─────────────────────────────────┼────────────────────────┼───────────────┤\n",
              "│ dense_5 (\u001b[38;5;33mDense\u001b[0m)                 │ (\u001b[38;5;45mNone\u001b[0m, \u001b[38;5;34m200\u001b[0m)            │        \u001b[38;5;34m40,200\u001b[0m │\n",
              "├─────────────────────────────────┼────────────────────────┼───────────────┤\n",
              "│ dense_6 (\u001b[38;5;33mDense\u001b[0m)                 │ (\u001b[38;5;45mNone\u001b[0m, \u001b[38;5;34m200\u001b[0m)            │        \u001b[38;5;34m40,200\u001b[0m │\n",
              "├─────────────────────────────────┼────────────────────────┼───────────────┤\n",
              "│ dense_7 (\u001b[38;5;33mDense\u001b[0m)                 │ (\u001b[38;5;45mNone\u001b[0m, \u001b[38;5;34m1\u001b[0m)              │           \u001b[38;5;34m201\u001b[0m │\n",
              "└─────────────────────────────────┴────────────────────────┴───────────────┘\n"
            ]
          },
          "metadata": {},
          "output_type": "display_data"
        },
        {
          "data": {
            "text/html": [
              "<pre style=\"white-space:pre;overflow-x:auto;line-height:normal;font-family:Menlo,'DejaVu Sans Mono',consolas,'Courier New',monospace\"><span style=\"font-weight: bold\"> Total params: </span><span style=\"color: #00af00; text-decoration-color: #00af00\">94,203</span> (367.98 KB)\n",
              "</pre>\n"
            ],
            "text/plain": [
              "\u001b[1m Total params: \u001b[0m\u001b[38;5;34m94,203\u001b[0m (367.98 KB)\n"
            ]
          },
          "metadata": {},
          "output_type": "display_data"
        },
        {
          "data": {
            "text/html": [
              "<pre style=\"white-space:pre;overflow-x:auto;line-height:normal;font-family:Menlo,'DejaVu Sans Mono',consolas,'Courier New',monospace\"><span style=\"font-weight: bold\"> Trainable params: </span><span style=\"color: #00af00; text-decoration-color: #00af00\">94,201</span> (367.97 KB)\n",
              "</pre>\n"
            ],
            "text/plain": [
              "\u001b[1m Trainable params: \u001b[0m\u001b[38;5;34m94,201\u001b[0m (367.97 KB)\n"
            ]
          },
          "metadata": {},
          "output_type": "display_data"
        },
        {
          "data": {
            "text/html": [
              "<pre style=\"white-space:pre;overflow-x:auto;line-height:normal;font-family:Menlo,'DejaVu Sans Mono',consolas,'Courier New',monospace\"><span style=\"font-weight: bold\"> Non-trainable params: </span><span style=\"color: #00af00; text-decoration-color: #00af00\">0</span> (0.00 B)\n",
              "</pre>\n"
            ],
            "text/plain": [
              "\u001b[1m Non-trainable params: \u001b[0m\u001b[38;5;34m0\u001b[0m (0.00 B)\n"
            ]
          },
          "metadata": {},
          "output_type": "display_data"
        },
        {
          "data": {
            "text/html": [
              "<pre style=\"white-space:pre;overflow-x:auto;line-height:normal;font-family:Menlo,'DejaVu Sans Mono',consolas,'Courier New',monospace\"><span style=\"font-weight: bold\"> Optimizer params: </span><span style=\"color: #00af00; text-decoration-color: #00af00\">2</span> (12.00 B)\n",
              "</pre>\n"
            ],
            "text/plain": [
              "\u001b[1m Optimizer params: \u001b[0m\u001b[38;5;34m2\u001b[0m (12.00 B)\n"
            ]
          },
          "metadata": {},
          "output_type": "display_data"
        }
      ],
      "source": [
        "#Modelo 2\n",
        "# Usamos solo tanh como funcion de activación de las capas ocultas\n",
        "\n",
        "model2 = Sequential()\n",
        "\n",
        "# Capa de entrada donde se establece las dimensiones de las observaciones\n",
        "model2.add(keras.Input(shape=(X_train.shape[1], )))\n",
        "\n",
        "# Capa oculta 1\n",
        "model2.add(Dense(200, activation='tanh',\n",
        "                use_bias=True,\n",
        "                kernel_initializer=HeNormal(),\n",
        "                bias_initializer=Zeros()))\n",
        "\n",
        "# Capa oculta 2\n",
        "model2.add(Dense(200, activation='tanh',\n",
        "                use_bias=True,\n",
        "                kernel_initializer=GlorotUniform(),\n",
        "                bias_initializer=Zeros()))\n",
        "\n",
        "# Capa oculta 3\n",
        "model2.add(Dense(200, activation='tanh',\n",
        "                use_bias=True,\n",
        "                kernel_initializer=HeNormal(),\n",
        "                bias_initializer=Zeros()))\n",
        "\n",
        "# Capa de salida\n",
        "model2.add(Dense(1, activation='sigmoid',\n",
        "                use_bias=True,\n",
        "                kernel_initializer=GlorotUniform(),\n",
        "                bias_initializer=Zeros()))\n",
        "\n",
        "# Optimizador: Descenso del gradiente estocástico\n",
        "optimizer = SGD(learning_rate=0.001)\n",
        "\n",
        "# Compilar el modelo\n",
        "model2.compile(loss='binary_crossentropy', optimizer=optimizer, metrics=['AUC'])\n",
        "\n",
        "# Entrenar el modelo\n",
        "history = model2.fit(X_train, y_train, epochs=10, batch_size=32, verbose=1)\n",
        "\n",
        "model2.summary()"
      ]
    },
    {
      "cell_type": "code",
      "execution_count": null,
      "id": "db216d2a-f470-44a0-a2af-fac05296a45b",
      "metadata": {
        "id": "db216d2a-f470-44a0-a2af-fac05296a45b",
        "outputId": "fb764d45-12ad-4702-eb8b-32965207a7da"
      },
      "outputs": [
        {
          "name": "stdout",
          "output_type": "stream",
          "text": [
            "\u001b[1m2500/2500\u001b[0m \u001b[32m━━━━━━━━━━━━━━━━━━━━\u001b[0m\u001b[37m\u001b[0m \u001b[1m4s\u001b[0m 1ms/step\n",
            "AUC: 0.7642\n"
          ]
        },
        {
          "data": {
            "image/png": "[encoded data removed]",
            "text/plain": [
              "<Figure size 640x480 with 1 Axes>"
            ]
          },
          "metadata": {},
          "output_type": "display_data"
        }
      ],
      "source": [
        "# Obtener probabilidades predichas\n",
        "y_pred_proba = model2.predict(X_train).ravel()\n",
        "\n",
        "# Calcular AUC\n",
        "auc = roc_auc_score(y_train, y_pred_proba)\n",
        "print(f\"AUC: {auc:.4f}\")\n",
        "\n",
        "# Curva ROC\n",
        "fpr, tpr, thresholds = roc_curve(y_train, y_pred_proba)\n",
        "\n",
        "# Graficar\n",
        "plt.plot(fpr, tpr, label=f'AUC = {auc:.2f}')\n",
        "plt.plot([0, 1], [0, 1], 'k--')\n",
        "plt.xlabel('False Positive Rate')\n",
        "plt.ylabel('True Positive Rate')\n",
        "plt.title('Curva ROC')\n",
        "plt.legend(loc='lower right')\n",
        "plt.grid()\n",
        "plt.show()"
      ]
    },
    {
      "cell_type": "markdown",
      "id": "25c0cb3b-709f-4a2d-ad4e-69afd4dca453",
      "metadata": {
        "id": "25c0cb3b-709f-4a2d-ad4e-69afd4dca453"
      },
      "source": [
        "AUC por encima de 0.75 para ambos modelos.\n",
        "\n",
        "El modelo 2 funciona mejor mediante función de activación tanh para las 3 capas ocultas y con menos neuronas."
      ]
    },
    {
      "cell_type": "code",
      "execution_count": null,
      "id": "cad8fb00-3d9e-47d4-a3f0-102d2a7b0b72",
      "metadata": {
        "id": "cad8fb00-3d9e-47d4-a3f0-102d2a7b0b72"
      },
      "outputs": [],
      "source": [
        "model3 = Sequential()"
      ]
    },
    {
      "cell_type": "code",
      "execution_count": null,
      "id": "30d3cf94-a618-4b35-8dc7-f472383b97aa",
      "metadata": {
        "id": "30d3cf94-a618-4b35-8dc7-f472383b97aa"
      },
      "outputs": [],
      "source": [
        "#Modelo 3\n",
        "from tensorflow.keras.models import Sequential\n",
        "from tensorflow.keras.layers import Dense, Dropout\n",
        "from tensorflow.keras.initializers import glorot_normal, glorot_uniform, HeNormal\n",
        "from tensorflow.keras.constraints import MaxNorm\n",
        "from tensorflow.keras.regularizers import l1\n",
        "from tensorflow.keras.optimizers import Adam\n",
        "\n",
        "def create_model(n_neurons=20, activation='tanh', dropout_rate=0.001, learning_rate=0.03, meta={}):\n",
        "    n_features_in_ = meta[\"n_features_in_\"]\n",
        "    constraint = MaxNorm(max_value=3)\n",
        "\n",
        "    model3 = Sequential()\n",
        "    model3.add(Dense(\n",
        "        n_neurons,\n",
        "        activation=activation,\n",
        "        use_bias=True,\n",
        "        kernel_initializer=glorot_normal(),\n",
        "        bias_initializer='zeros',\n",
        "        input_shape=(n_features_in_,)\n",
        "    ))\n",
        "\n",
        "    model3.add(Dense(\n",
        "        n_neurons,\n",
        "        activation=activation,\n",
        "        use_bias=True,\n",
        "        kernel_initializer=glorot_uniform(),\n",
        "        bias_initializer='zeros'\n",
        "    ))\n",
        "\n",
        "    model3.add(Dense(\n",
        "        n_neurons,\n",
        "        activation=activation,\n",
        "        use_bias=True,\n",
        "        kernel_initializer=glorot_normal(),\n",
        "        bias_initializer='zeros'\n",
        "    ))\n",
        "\n",
        "    model3.add(Dropout(rate=dropout_rate))\n",
        "\n",
        "    model3.add(Dense(\n",
        "        units=1,\n",
        "        activation='sigmoid',\n",
        "        kernel_initializer=HeNormal(),\n",
        "        bias_initializer='zeros',\n",
        "        kernel_regularizer=l1(l1=0.001),\n",
        "        kernel_constraint=constraint\n",
        "    ))\n",
        "\n",
        "    optimizer = Adam(learning_rate=learning_rate)\n",
        "    model3.compile(loss='binary_crossentropy', optimizer=optimizer, metrics=['accuracy'])\n",
        "\n",
        "    return model3"
      ]
    },
    {
      "cell_type": "code",
      "execution_count": null,
      "id": "be2589c6-9566-4430-8baa-dfc1323bfa7c",
      "metadata": {
        "id": "be2589c6-9566-4430-8baa-dfc1323bfa7c",
        "outputId": "97d6bde5-1d17-4f56-9cec-6295f1a121b1"
      },
      "outputs": [
        {
          "name": "stderr",
          "output_type": "stream",
          "text": [
            "C:\\Users\\Usuario\\.ms-ad\\Lib\\site-packages\\keras\\src\\layers\\core\\dense.py:92: UserWarning: Do not pass an `input_shape`/`input_dim` argument to a layer. When using Sequential models, prefer using an `Input(shape)` object as the first layer in the model instead.\n",
            "  super().__init__(activity_regularizer=activity_regularizer, **kwargs)\n",
            "C:\\Users\\Usuario\\.ms-ad\\Lib\\site-packages\\keras\\src\\layers\\core\\dense.py:92: UserWarning: Do not pass an `input_shape`/`input_dim` argument to a layer. When using Sequential models, prefer using an `Input(shape)` object as the first layer in the model instead.\n",
            "  super().__init__(activity_regularizer=activity_regularizer, **kwargs)\n",
            "C:\\Users\\Usuario\\.ms-ad\\Lib\\site-packages\\keras\\src\\layers\\core\\dense.py:92: UserWarning: Do not pass an `input_shape`/`input_dim` argument to a layer. When using Sequential models, prefer using an `Input(shape)` object as the first layer in the model instead.\n",
            "  super().__init__(activity_regularizer=activity_regularizer, **kwargs)\n",
            "C:\\Users\\Usuario\\.ms-ad\\Lib\\site-packages\\keras\\src\\layers\\core\\dense.py:92: UserWarning: Do not pass an `input_shape`/`input_dim` argument to a layer. When using Sequential models, prefer using an `Input(shape)` object as the first layer in the model instead.\n",
            "  super().__init__(activity_regularizer=activity_regularizer, **kwargs)\n",
            "C:\\Users\\Usuario\\.ms-ad\\Lib\\site-packages\\keras\\src\\layers\\core\\dense.py:92: UserWarning: Do not pass an `input_shape`/`input_dim` argument to a layer. When using Sequential models, prefer using an `Input(shape)` object as the first layer in the model instead.\n",
            "  super().__init__(activity_regularizer=activity_regularizer, **kwargs)\n",
            "C:\\Users\\Usuario\\.ms-ad\\Lib\\site-packages\\keras\\src\\layers\\core\\dense.py:92: UserWarning: Do not pass an `input_shape`/`input_dim` argument to a layer. When using Sequential models, prefer using an `Input(shape)` object as the first layer in the model instead.\n",
            "  super().__init__(activity_regularizer=activity_regularizer, **kwargs)\n",
            "C:\\Users\\Usuario\\.ms-ad\\Lib\\site-packages\\keras\\src\\layers\\core\\dense.py:92: UserWarning: Do not pass an `input_shape`/`input_dim` argument to a layer. When using Sequential models, prefer using an `Input(shape)` object as the first layer in the model instead.\n",
            "  super().__init__(activity_regularizer=activity_regularizer, **kwargs)\n",
            "C:\\Users\\Usuario\\.ms-ad\\Lib\\site-packages\\keras\\src\\layers\\core\\dense.py:92: UserWarning: Do not pass an `input_shape`/`input_dim` argument to a layer. When using Sequential models, prefer using an `Input(shape)` object as the first layer in the model instead.\n",
            "  super().__init__(activity_regularizer=activity_regularizer, **kwargs)\n",
            "C:\\Users\\Usuario\\.ms-ad\\Lib\\site-packages\\keras\\src\\layers\\core\\dense.py:92: UserWarning: Do not pass an `input_shape`/`input_dim` argument to a layer. When using Sequential models, prefer using an `Input(shape)` object as the first layer in the model instead.\n",
            "  super().__init__(activity_regularizer=activity_regularizer, **kwargs)\n",
            "C:\\Users\\Usuario\\.ms-ad\\Lib\\site-packages\\keras\\src\\layers\\core\\dense.py:92: UserWarning: Do not pass an `input_shape`/`input_dim` argument to a layer. When using Sequential models, prefer using an `Input(shape)` object as the first layer in the model instead.\n",
            "  super().__init__(activity_regularizer=activity_regularizer, **kwargs)\n",
            "C:\\Users\\Usuario\\.ms-ad\\Lib\\site-packages\\keras\\src\\layers\\core\\dense.py:92: UserWarning: Do not pass an `input_shape`/`input_dim` argument to a layer. When using Sequential models, prefer using an `Input(shape)` object as the first layer in the model instead.\n",
            "  super().__init__(activity_regularizer=activity_regularizer, **kwargs)\n",
            "C:\\Users\\Usuario\\.ms-ad\\Lib\\site-packages\\keras\\src\\layers\\core\\dense.py:92: UserWarning: Do not pass an `input_shape`/`input_dim` argument to a layer. When using Sequential models, prefer using an `Input(shape)` object as the first layer in the model instead.\n",
            "  super().__init__(activity_regularizer=activity_regularizer, **kwargs)\n",
            "C:\\Users\\Usuario\\.ms-ad\\Lib\\site-packages\\keras\\src\\layers\\core\\dense.py:92: UserWarning: Do not pass an `input_shape`/`input_dim` argument to a layer. When using Sequential models, prefer using an `Input(shape)` object as the first layer in the model instead.\n",
            "  super().__init__(activity_regularizer=activity_regularizer, **kwargs)\n",
            "C:\\Users\\Usuario\\.ms-ad\\Lib\\site-packages\\keras\\src\\layers\\core\\dense.py:92: UserWarning: Do not pass an `input_shape`/`input_dim` argument to a layer. When using Sequential models, prefer using an `Input(shape)` object as the first layer in the model instead.\n",
            "  super().__init__(activity_regularizer=activity_regularizer, **kwargs)\n",
            "C:\\Users\\Usuario\\.ms-ad\\Lib\\site-packages\\keras\\src\\layers\\core\\dense.py:92: UserWarning: Do not pass an `input_shape`/`input_dim` argument to a layer. When using Sequential models, prefer using an `Input(shape)` object as the first layer in the model instead.\n",
            "  super().__init__(activity_regularizer=activity_regularizer, **kwargs)\n",
            "C:\\Users\\Usuario\\.ms-ad\\Lib\\site-packages\\keras\\src\\layers\\core\\dense.py:92: UserWarning: Do not pass an `input_shape`/`input_dim` argument to a layer. When using Sequential models, prefer using an `Input(shape)` object as the first layer in the model instead.\n",
            "  super().__init__(activity_regularizer=activity_regularizer, **kwargs)\n",
            "C:\\Users\\Usuario\\.ms-ad\\Lib\\site-packages\\keras\\src\\layers\\core\\dense.py:92: UserWarning: Do not pass an `input_shape`/`input_dim` argument to a layer. When using Sequential models, prefer using an `Input(shape)` object as the first layer in the model instead.\n",
            "  super().__init__(activity_regularizer=activity_regularizer, **kwargs)\n",
            "C:\\Users\\Usuario\\.ms-ad\\Lib\\site-packages\\keras\\src\\layers\\core\\dense.py:92: UserWarning: Do not pass an `input_shape`/`input_dim` argument to a layer. When using Sequential models, prefer using an `Input(shape)` object as the first layer in the model instead.\n",
            "  super().__init__(activity_regularizer=activity_regularizer, **kwargs)\n",
            "C:\\Users\\Usuario\\.ms-ad\\Lib\\site-packages\\keras\\src\\layers\\core\\dense.py:92: UserWarning: Do not pass an `input_shape`/`input_dim` argument to a layer. When using Sequential models, prefer using an `Input(shape)` object as the first layer in the model instead.\n",
            "  super().__init__(activity_regularizer=activity_regularizer, **kwargs)\n",
            "C:\\Users\\Usuario\\.ms-ad\\Lib\\site-packages\\keras\\src\\layers\\core\\dense.py:92: UserWarning: Do not pass an `input_shape`/`input_dim` argument to a layer. When using Sequential models, prefer using an `Input(shape)` object as the first layer in the model instead.\n",
            "  super().__init__(activity_regularizer=activity_regularizer, **kwargs)\n",
            "C:\\Users\\Usuario\\.ms-ad\\Lib\\site-packages\\keras\\src\\layers\\core\\dense.py:92: UserWarning: Do not pass an `input_shape`/`input_dim` argument to a layer. When using Sequential models, prefer using an `Input(shape)` object as the first layer in the model instead.\n",
            "  super().__init__(activity_regularizer=activity_regularizer, **kwargs)\n",
            "C:\\Users\\Usuario\\.ms-ad\\Lib\\site-packages\\keras\\src\\layers\\core\\dense.py:92: UserWarning: Do not pass an `input_shape`/`input_dim` argument to a layer. When using Sequential models, prefer using an `Input(shape)` object as the first layer in the model instead.\n",
            "  super().__init__(activity_regularizer=activity_regularizer, **kwargs)\n",
            "C:\\Users\\Usuario\\.ms-ad\\Lib\\site-packages\\keras\\src\\layers\\core\\dense.py:92: UserWarning: Do not pass an `input_shape`/`input_dim` argument to a layer. When using Sequential models, prefer using an `Input(shape)` object as the first layer in the model instead.\n",
            "  super().__init__(activity_regularizer=activity_regularizer, **kwargs)\n",
            "C:\\Users\\Usuario\\.ms-ad\\Lib\\site-packages\\keras\\src\\layers\\core\\dense.py:92: UserWarning: Do not pass an `input_shape`/`input_dim` argument to a layer. When using Sequential models, prefer using an `Input(shape)` object as the first layer in the model instead.\n",
            "  super().__init__(activity_regularizer=activity_regularizer, **kwargs)\n",
            "C:\\Users\\Usuario\\.ms-ad\\Lib\\site-packages\\keras\\src\\layers\\core\\dense.py:92: UserWarning: Do not pass an `input_shape`/`input_dim` argument to a layer. When using Sequential models, prefer using an `Input(shape)` object as the first layer in the model instead.\n",
            "  super().__init__(activity_regularizer=activity_regularizer, **kwargs)\n"
          ]
        },
        {
          "name": "stdout",
          "output_type": "stream",
          "text": [
            "Best: 0.7991898582251894 using {'batch_size': 300, 'epochs': 6, 'model__activation': 'tanh', 'model__dropout_rate': 0.001, 'model__learning_rate': 0.03, 'model__n_neurons': 30}\n"
          ]
        }
      ],
      "source": [
        "from scikeras.wrappers import KerasClassifier\n",
        "from sklearn.model_selection import GridSearchCV\n",
        "\n",
        "clf = KerasClassifier(\n",
        "    model=create_model,\n",
        "    verbose=0\n",
        ")\n",
        "\n",
        "param_grid = {\n",
        "    'model__n_neurons': [20, 30],\n",
        "    'model__activation': ['tanh'],\n",
        "    'batch_size': [300],\n",
        "    'epochs': [5, 6],\n",
        "    'model__learning_rate': [0.03, 0.06],\n",
        "    'model__dropout_rate': [0.001]\n",
        "}\n",
        "\n",
        "grid = GridSearchCV(\n",
        "    estimator=clf,\n",
        "    param_grid=param_grid,\n",
        "    scoring='accuracy',\n",
        "    cv=3\n",
        ")\n",
        "\n",
        "grid_result = grid.fit(X_train, y_train)\n",
        "print(f\"Best: {grid_result.best_score_} using {grid_result.best_params_}\")"
      ]
    },
    {
      "cell_type": "code",
      "execution_count": null,
      "id": "2f88ee0f-25ed-4f04-afe4-7ecf900f4ca3",
      "metadata": {
        "id": "2f88ee0f-25ed-4f04-afe4-7ecf900f4ca3",
        "outputId": "2e744495-f244-42d3-a316-5d9bc1e6a5d2"
      },
      "outputs": [
        {
          "name": "stdout",
          "output_type": "stream",
          "text": [
            "              precision    recall  f1-score   support\n",
            "\n",
            "           0       0.82      0.81      0.82     24747\n",
            "           1       0.69      0.70      0.70     14650\n",
            "\n",
            "    accuracy                           0.77     39397\n",
            "   macro avg       0.75      0.76      0.76     39397\n",
            "weighted avg       0.77      0.77      0.77     39397\n",
            "\n"
          ]
        }
      ],
      "source": [
        "from sklearn.metrics import classification_report\n",
        "\n",
        "yhat_class = grid_result.best_estimator_.predict(X_test)\n",
        "\n",
        "y_test_class = y_test\n",
        "\n",
        "print(classification_report(y_test_class, yhat_class))"
      ]
    },
    {
      "cell_type": "markdown",
      "id": "690cb5a6-8ddc-4701-a702-6572288d3206",
      "metadata": {
        "id": "690cb5a6-8ddc-4701-a702-6572288d3206"
      },
      "source": [
        "#### <font color = green > HIPERPARAMETROS OPTIMOS:\n",
        "\n",
        "##### Best: 0.7839871977596079 using {'batch_size': 300, 'epochs': 5, 'model__activation': 'tanh', 'model__dropout_rate': 0.001, 'model__learning_rate': 0.03, 'model__n_neurons': 30}"
      ]
    },
    {
      "cell_type": "code",
      "execution_count": null,
      "id": "7098f28d-88fd-42d9-a8b0-28f173e66e1d",
      "metadata": {
        "id": "7098f28d-88fd-42d9-a8b0-28f173e66e1d",
        "outputId": "5ffcfddd-ef0d-4d61-9509-e4790761beb7"
      },
      "outputs": [
        {
          "name": "stdout",
          "output_type": "stream",
          "text": [
            "Requirement already satisfied: tensorflow in c:\\users\\usuario\\.ms-ad\\lib\\site-packages (2.19.0)\n",
            "Requirement already satisfied: absl-py>=1.0.0 in c:\\users\\usuario\\.ms-ad\\lib\\site-packages (from tensorflow) (2.3.1)\n",
            "Requirement already satisfied: astunparse>=1.6.0 in c:\\users\\usuario\\.ms-ad\\lib\\site-packages (from tensorflow) (1.6.3)\n",
            "Requirement already satisfied: flatbuffers>=24.3.25 in c:\\users\\usuario\\.ms-ad\\lib\\site-packages (from tensorflow) (25.2.10)\n",
            "Requirement already satisfied: gast!=0.5.0,!=0.5.1,!=0.5.2,>=0.2.1 in c:\\users\\usuario\\.ms-ad\\lib\\site-packages (from tensorflow) (0.6.0)\n",
            "Requirement already satisfied: google-pasta>=0.1.1 in c:\\users\\usuario\\.ms-ad\\lib\\site-packages (from tensorflow) (0.2.0)\n",
            "Requirement already satisfied: libclang>=13.0.0 in c:\\users\\usuario\\.ms-ad\\lib\\site-packages (from tensorflow) (18.1.1)\n",
            "Requirement already satisfied: opt-einsum>=2.3.2 in c:\\users\\usuario\\.ms-ad\\lib\\site-packages (from tensorflow) (3.4.0)\n",
            "Requirement already satisfied: packaging in c:\\users\\usuario\\.ms-ad\\lib\\site-packages (from tensorflow) (23.1)\n",
            "Requirement already satisfied: protobuf!=4.21.0,!=4.21.1,!=4.21.2,!=4.21.3,!=4.21.4,!=4.21.5,<6.0.0dev,>=3.20.3 in c:\\users\\usuario\\.ms-ad\\lib\\site-packages (from tensorflow) (3.20.3)\n",
            "Requirement already satisfied: requests<3,>=2.21.0 in c:\\users\\usuario\\.ms-ad\\lib\\site-packages (from tensorflow) (2.31.0)\n",
            "Requirement already satisfied: setuptools in c:\\users\\usuario\\.ms-ad\\lib\\site-packages (from tensorflow) (68.2.2)\n",
            "Requirement already satisfied: six>=1.12.0 in c:\\users\\usuario\\.ms-ad\\lib\\site-packages (from tensorflow) (1.16.0)\n",
            "Requirement already satisfied: termcolor>=1.1.0 in c:\\users\\usuario\\.ms-ad\\lib\\site-packages (from tensorflow) (3.1.0)\n",
            "Requirement already satisfied: typing-extensions>=3.6.6 in c:\\users\\usuario\\.ms-ad\\lib\\site-packages (from tensorflow) (4.9.0)\n",
            "Requirement already satisfied: wrapt>=1.11.0 in c:\\users\\usuario\\.ms-ad\\lib\\site-packages (from tensorflow) (1.14.1)\n",
            "Requirement already satisfied: grpcio<2.0,>=1.24.3 in c:\\users\\usuario\\.ms-ad\\lib\\site-packages (from tensorflow) (1.74.0)\n",
            "Requirement already satisfied: tensorboard~=2.19.0 in c:\\users\\usuario\\.ms-ad\\lib\\site-packages (from tensorflow) (2.19.0)\n",
            "Requirement already satisfied: keras>=3.5.0 in c:\\users\\usuario\\.ms-ad\\lib\\site-packages (from tensorflow) (3.11.1)\n",
            "Requirement already satisfied: numpy<2.2.0,>=1.26.0 in c:\\users\\usuario\\.ms-ad\\lib\\site-packages (from tensorflow) (1.26.4)\n",
            "Requirement already satisfied: h5py>=3.11.0 in c:\\users\\usuario\\.ms-ad\\lib\\site-packages (from tensorflow) (3.14.0)\n",
            "Requirement already satisfied: ml-dtypes<1.0.0,>=0.5.1 in c:\\users\\usuario\\.ms-ad\\lib\\site-packages (from tensorflow) (0.5.3)\n",
            "Requirement already satisfied: tensorflow-io-gcs-filesystem>=0.23.1 in c:\\users\\usuario\\.ms-ad\\lib\\site-packages (from tensorflow) (0.31.0)\n",
            "Requirement already satisfied: wheel<1.0,>=0.23.0 in c:\\users\\usuario\\.ms-ad\\lib\\site-packages (from astunparse>=1.6.0->tensorflow) (0.41.2)\n",
            "Requirement already satisfied: rich in c:\\users\\usuario\\.ms-ad\\lib\\site-packages (from keras>=3.5.0->tensorflow) (13.3.5)\n",
            "Requirement already satisfied: namex in c:\\users\\usuario\\.ms-ad\\lib\\site-packages (from keras>=3.5.0->tensorflow) (0.1.0)\n",
            "Requirement already satisfied: optree in c:\\users\\usuario\\.ms-ad\\lib\\site-packages (from keras>=3.5.0->tensorflow) (0.17.0)\n",
            "Requirement already satisfied: charset-normalizer<4,>=2 in c:\\users\\usuario\\.ms-ad\\lib\\site-packages (from requests<3,>=2.21.0->tensorflow) (2.0.4)\n",
            "Requirement already satisfied: idna<4,>=2.5 in c:\\users\\usuario\\.ms-ad\\lib\\site-packages (from requests<3,>=2.21.0->tensorflow) (3.4)\n",
            "Requirement already satisfied: urllib3<3,>=1.21.1 in c:\\users\\usuario\\.ms-ad\\lib\\site-packages (from requests<3,>=2.21.0->tensorflow) (2.0.7)\n",
            "Requirement already satisfied: certifi>=2017.4.17 in c:\\users\\usuario\\.ms-ad\\lib\\site-packages (from requests<3,>=2.21.0->tensorflow) (2025.6.15)\n",
            "Requirement already satisfied: markdown>=2.6.8 in c:\\users\\usuario\\.ms-ad\\lib\\site-packages (from tensorboard~=2.19.0->tensorflow) (3.4.1)\n",
            "Requirement already satisfied: tensorboard-data-server<0.8.0,>=0.7.0 in c:\\users\\usuario\\.ms-ad\\lib\\site-packages (from tensorboard~=2.19.0->tensorflow) (0.7.2)\n",
            "Requirement already satisfied: werkzeug>=1.0.1 in c:\\users\\usuario\\.ms-ad\\lib\\site-packages (from tensorboard~=2.19.0->tensorflow) (2.2.3)\n",
            "Requirement already satisfied: MarkupSafe>=2.1.1 in c:\\users\\usuario\\.ms-ad\\lib\\site-packages (from werkzeug>=1.0.1->tensorboard~=2.19.0->tensorflow) (2.1.3)\n",
            "Requirement already satisfied: markdown-it-py<3.0.0,>=2.2.0 in c:\\users\\usuario\\.ms-ad\\lib\\site-packages (from rich->keras>=3.5.0->tensorflow) (2.2.0)\n",
            "Requirement already satisfied: pygments<3.0.0,>=2.13.0 in c:\\users\\usuario\\.ms-ad\\lib\\site-packages (from rich->keras>=3.5.0->tensorflow) (2.15.1)\n",
            "Requirement already satisfied: mdurl~=0.1 in c:\\users\\usuario\\.ms-ad\\lib\\site-packages (from markdown-it-py<3.0.0,>=2.2.0->rich->keras>=3.5.0->tensorflow) (0.1.0)\n",
            "Note: you may need to restart the kernel to use updated packages.\n"
          ]
        }
      ],
      "source": [
        "pip install --upgrade tensorflow"
      ]
    },
    {
      "cell_type": "code",
      "execution_count": null,
      "id": "452d426f-63fd-49c8-85ef-596a65908fdb",
      "metadata": {
        "id": "452d426f-63fd-49c8-85ef-596a65908fdb",
        "outputId": "03375d29-c4a6-490f-f856-c0425ac08de9"
      },
      "outputs": [
        {
          "name": "stderr",
          "output_type": "stream",
          "text": [
            "C:\\Users\\Usuario\\.ms-ad\\Lib\\site-packages\\keras\\src\\layers\\core\\dense.py:92: UserWarning: Do not pass an `input_shape`/`input_dim` argument to a layer. When using Sequential models, prefer using an `Input(shape)` object as the first layer in the model instead.\n",
            "  super().__init__(activity_regularizer=activity_regularizer, **kwargs)\n"
          ]
        },
        {
          "data": {
            "image/png": "[encoded data removed]",
            "text/plain": [
              "<Figure size 800x600 with 1 Axes>"
            ]
          },
          "metadata": {},
          "output_type": "display_data"
        }
      ],
      "source": [
        "#Modelo 4\n",
        "from tensorflow.keras.models import Sequential\n",
        "from tensorflow.keras.layers import Dense, Dropout\n",
        "from tensorflow.keras.constraints import MaxNorm\n",
        "from tensorflow.keras.initializers import glorot_normal, glorot_uniform, HeNormal\n",
        "from tensorflow.keras.regularizers import l1\n",
        "from tensorflow.keras.optimizers import Adam\n",
        "from scikeras.wrappers import KerasClassifier\n",
        "\n",
        "from sklearn.metrics import roc_curve, auc\n",
        "import matplotlib.pyplot as plt\n",
        "\n",
        "def create_model(n_neurons=30, activation='tanh', dropout_rate=0.001, learning_rate=0.03, n_features_in_=X_train.shape[1]):\n",
        "    constraint = MaxNorm(max_value=3)\n",
        "\n",
        "    model4 = Sequential()\n",
        "    model4.add(Dense(\n",
        "        n_neurons,\n",
        "        activation=activation,\n",
        "        use_bias=True,\n",
        "        kernel_initializer=glorot_normal(),\n",
        "        bias_initializer='zeros',\n",
        "        input_shape=(n_features_in_,)\n",
        "    ))\n",
        "    model4.add(Dense(\n",
        "        n_neurons,\n",
        "        activation=activation,\n",
        "        use_bias=True,\n",
        "        kernel_initializer=glorot_uniform(),\n",
        "        bias_initializer='zeros'\n",
        "    ))\n",
        "    model4.add(Dense(\n",
        "        n_neurons,\n",
        "        activation=activation,\n",
        "        use_bias=True,\n",
        "        kernel_initializer=glorot_normal(),\n",
        "        bias_initializer='zeros'\n",
        "    ))\n",
        "    model4.add(Dropout(rate=dropout_rate))\n",
        "    model4.add(Dense(\n",
        "        units=1,\n",
        "        activation='sigmoid',\n",
        "        kernel_initializer=HeNormal(),\n",
        "        bias_initializer='zeros',\n",
        "        kernel_regularizer=l1(l1=0.001),\n",
        "        kernel_constraint=constraint\n",
        "    ))\n",
        "\n",
        "    optimizer = Adam(learning_rate=learning_rate)\n",
        "    model4.compile(loss='binary_crossentropy', optimizer=optimizer, metrics=['accuracy'])\n",
        "\n",
        "    return model4\n",
        "\n",
        "# Hiperparámetros óptimos\n",
        "best_params = {\n",
        "    'batch_size': 300,\n",
        "    'epochs': 5,\n",
        "    'model__activation': 'tanh',\n",
        "    'model__dropout_rate': 0.001,\n",
        "    'model__learning_rate': 0.03,\n",
        "    'model__n_neurons': 30\n",
        "}\n",
        "\n",
        "# Crear el clasificador\n",
        "clf = KerasClassifier(\n",
        "    model=create_model,\n",
        "    verbose=0,\n",
        "    model__n_neurons=best_params['model__n_neurons'],\n",
        "    model__activation=best_params['model__activation'],\n",
        "    model__dropout_rate=best_params['model__dropout_rate'],\n",
        "    model__learning_rate=best_params['model__learning_rate'],\n",
        "    model__n_features_in_=X_train.shape[1]\n",
        ")\n",
        "\n",
        "# Entrenar el modelo\n",
        "clf.fit(X_train, y_train, batch_size=best_params['batch_size'], epochs=best_params['epochs'])\n",
        "\n",
        "# Predecir probabilidades en X_test\n",
        "y_pred_proba = clf.predict_proba(X_test)\n",
        "\n",
        "if y_pred_proba.ndim > 1 and y_pred_proba.shape[1] == 2:\n",
        "    y_pred_proba = y_pred_proba[:, 1]\n",
        "\n",
        "# Calcular puntos para ROC y AUC\n",
        "fpr, tpr, thresholds = roc_curve(y_test, y_pred_proba)\n",
        "roc_auc_value = auc(fpr, tpr)\n",
        "\n",
        "# Graficar la curva ROC\n",
        "plt.figure(figsize=(8,6))\n",
        "plt.plot(fpr, tpr, color='darkorange', lw=2, label=f'ROC curve (area = {roc_auc_value:.2f})')\n",
        "plt.plot([0, 1], [0, 1], color='navy', lw=2, linestyle='--')\n",
        "plt.xlabel('False Positive Rate')\n",
        "plt.ylabel('True Positive Rate')\n",
        "plt.title('Curva ROC del Modelo Óptimo')\n",
        "plt.legend(loc='lower right')\n",
        "plt.show()"
      ]
    },
    {
      "cell_type": "markdown",
      "id": "b987a8b1-52eb-41f3-bbd8-c6eac49f2c61",
      "metadata": {
        "id": "b987a8b1-52eb-41f3-bbd8-c6eac49f2c61"
      },
      "source": [
        "ROC por encima del 80% con los hiperparametros optimos."
      ]
    },
    {
      "cell_type": "code",
      "execution_count": null,
      "id": "511f8a66-29ed-4a76-9296-f0c8342d1e52",
      "metadata": {
        "id": "511f8a66-29ed-4a76-9296-f0c8342d1e52"
      },
      "outputs": [],
      "source": [
        "df_dummies = pd.get_dummies(df, drop_first=True)"
      ]
    },
    {
      "cell_type": "code",
      "execution_count": null,
      "id": "4c79909a-af03-4345-a845-52309b6814e7",
      "metadata": {
        "id": "4c79909a-af03-4345-a845-52309b6814e7",
        "outputId": "6ad75965-c54a-46cf-fb5c-1e5e775472ac"
      },
      "outputs": [
        {
          "data": {
            "text/plain": [
              "0    False\n",
              "1    False\n",
              "2    False\n",
              "3    False\n",
              "4    False\n",
              "Name: deposit_type_Non Refund, dtype: bool"
            ]
          },
          "execution_count": 111,
          "metadata": {},
          "output_type": "execute_result"
        }
      ],
      "source": [
        "df_dummies[\"deposit_type_Non Refund\"].head()"
      ]
    },
    {
      "cell_type": "code",
      "execution_count": null,
      "id": "9aeed4c5-36aa-4006-8f8c-06f9fc52506c",
      "metadata": {
        "id": "9aeed4c5-36aa-4006-8f8c-06f9fc52506c",
        "outputId": "3e6d6618-beba-47ae-878f-1e9e50ed8e1b"
      },
      "outputs": [
        {
          "data": {
            "text/plain": [
              "(119390, 33)"
            ]
          },
          "execution_count": 121,
          "metadata": {},
          "output_type": "execute_result"
        }
      ],
      "source": [
        "df.shape"
      ]
    },
    {
      "cell_type": "code",
      "execution_count": null,
      "id": "4c4aa0cb-60eb-41c0-b3cd-03f66a5be997",
      "metadata": {
        "id": "4c4aa0cb-60eb-41c0-b3cd-03f66a5be997",
        "outputId": "44a8ba8c-9d2d-447b-8089-8e3a7999baa6"
      },
      "outputs": [
        {
          "data": {
            "text/plain": [
              "(119390, 1176)"
            ]
          },
          "execution_count": 122,
          "metadata": {},
          "output_type": "execute_result"
        }
      ],
      "source": [
        "df_dummies.shape"
      ]
    },
    {
      "cell_type": "code",
      "execution_count": null,
      "id": "cef9b252-d489-46d1-baad-9c09cbcb5ac5",
      "metadata": {
        "id": "cef9b252-d489-46d1-baad-9c09cbcb5ac5"
      },
      "outputs": [],
      "source": [
        "df_filtered = df_dummies[df_dummies['deposit_type_Non Refund'] == False]\n",
        "sample_5 = df_filtered.sample(n=5, random_state=42)"
      ]
    },
    {
      "cell_type": "code",
      "execution_count": null,
      "id": "fd15ffbb-11ea-422f-b475-90c26ccf67be",
      "metadata": {
        "id": "fd15ffbb-11ea-422f-b475-90c26ccf67be",
        "outputId": "492107c8-9443-4c5b-80de-f00d59f0a772"
      },
      "outputs": [
        {
          "name": "stdout",
          "output_type": "stream",
          "text": [
            "         index  is_canceled  lead_time  arrival_date_year  \\\n",
            "23710    23710            0        197               2016   \n",
            "21864    21864            0          5               2016   \n",
            "100870  100870            0        200               2016   \n",
            "2453      2453            0          0               2015   \n",
            "108007  108007            0         98               2017   \n",
            "\n",
            "        arrival_date_week_number  arrival_date_day_of_month  \\\n",
            "23710                         18                         30   \n",
            "21864                         11                          9   \n",
            "100870                        45                         31   \n",
            "2453                          42                         16   \n",
            "108007                        11                         14   \n",
            "\n",
            "        stays_in_weekend_nights  stays_in_week_nights  adults  children  ...  \\\n",
            "23710                         1                     1       1       0.0  ...   \n",
            "21864                         0                     3       3       1.0  ...   \n",
            "100870                        1                     2       0       2.0  ...   \n",
            "2453                          2                     2       2       0.0  ...   \n",
            "108007                        2                     5       2       0.0  ...   \n",
            "\n",
            "        reservation_status_date_31-07-15  reservation_status_date_31-07-16  \\\n",
            "23710                              False                             False   \n",
            "21864                              False                             False   \n",
            "100870                             False                             False   \n",
            "2453                               False                             False   \n",
            "108007                             False                             False   \n",
            "\n",
            "        reservation_status_date_31-07-17  reservation_status_date_31-08-15  \\\n",
            "23710                              False                             False   \n",
            "21864                              False                             False   \n",
            "100870                             False                             False   \n",
            "2453                               False                             False   \n",
            "108007                             False                             False   \n",
            "\n",
            "        reservation_status_date_31-08-16  reservation_status_date_31-08-17  \\\n",
            "23710                              False                             False   \n",
            "21864                              False                             False   \n",
            "100870                             False                             False   \n",
            "2453                               False                             False   \n",
            "108007                             False                             False   \n",
            "\n",
            "        reservation_status_date_31-10-15  reservation_status_date_31-10-16  \\\n",
            "23710                              False                             False   \n",
            "21864                              False                             False   \n",
            "100870                             False                             False   \n",
            "2453                               False                             False   \n",
            "108007                             False                             False   \n",
            "\n",
            "        reservation_status_date_31-12-15  reservation_status_date_31-12-16  \n",
            "23710                              False                             False  \n",
            "21864                              False                             False  \n",
            "100870                             False                             False  \n",
            "2453                               False                             False  \n",
            "108007                             False                             False  \n",
            "\n",
            "[5 rows x 1176 columns]\n"
          ]
        }
      ],
      "source": [
        "print(sample_5)"
      ]
    },
    {
      "cell_type": "code",
      "execution_count": null,
      "id": "ef96548e-f66e-4c86-879a-53a00dcef3ed",
      "metadata": {
        "id": "ef96548e-f66e-4c86-879a-53a00dcef3ed",
        "outputId": "0ce967e2-21ed-4979-bbf3-e91e1da9d15e"
      },
      "outputs": [
        {
          "data": {
            "text/plain": [
              "index                               0\n",
              "lead_time                           0\n",
              "arrival_date_year                   0\n",
              "arrival_date_week_number            0\n",
              "arrival_date_day_of_month           0\n",
              "                                   ..\n",
              "reservation_status_date_31-08-17    0\n",
              "reservation_status_date_31-10-15    0\n",
              "reservation_status_date_31-10-16    0\n",
              "reservation_status_date_31-12-15    0\n",
              "reservation_status_date_31-12-16    0\n",
              "Length: 1175, dtype: int64"
            ]
          },
          "execution_count": 129,
          "metadata": {},
          "output_type": "execute_result"
        }
      ],
      "source": [
        "X_sample_5.isnull().sum()"
      ]
    },
    {
      "cell_type": "code",
      "execution_count": null,
      "id": "956436b9-3db8-4059-8b13-c45d8a01196e",
      "metadata": {
        "id": "956436b9-3db8-4059-8b13-c45d8a01196e",
        "outputId": "41cedcd6-6a56-48cf-df90-210294fa9648"
      },
      "outputs": [
        {
          "name": "stdout",
          "output_type": "stream",
          "text": [
            "(5, 1175)\n"
          ]
        }
      ],
      "source": [
        "print(X_sample_5_filled.shape)"
      ]
    },
    {
      "cell_type": "code",
      "execution_count": null,
      "id": "39eb7a57-bda8-4cfc-86d6-b99543857cd7",
      "metadata": {
        "id": "39eb7a57-bda8-4cfc-86d6-b99543857cd7",
        "outputId": "0ecdeb26-e3ae-4c51-f44a-0f9654025a7a"
      },
      "outputs": [
        {
          "name": "stdout",
          "output_type": "stream",
          "text": [
            "(79986, 67)\n"
          ]
        }
      ],
      "source": [
        "print(X_train.shape)"
      ]
    },
    {
      "cell_type": "code",
      "execution_count": null,
      "id": "f99260ab-56cc-445f-9102-6fb6dd708a9f",
      "metadata": {
        "id": "f99260ab-56cc-445f-9102-6fb6dd708a9f"
      },
      "outputs": [],
      "source": [
        "X_sample_5_filled = X_sample_5.fillna(0)"
      ]
    },
    {
      "cell_type": "code",
      "execution_count": null,
      "id": "da4727d1-d2ca-4e26-8f11-8f62ab1440f9",
      "metadata": {
        "id": "da4727d1-d2ca-4e26-8f11-8f62ab1440f9"
      },
      "outputs": [],
      "source": [
        "X_sample_5_aligned = X_sample_5_filled.reindex(columns=X_train.columns, fill_value=0)"
      ]
    },
    {
      "cell_type": "code",
      "execution_count": null,
      "id": "2a6c3812-25f7-4cee-a221-5c8112515f07",
      "metadata": {
        "id": "2a6c3812-25f7-4cee-a221-5c8112515f07",
        "outputId": "0712c29f-fb48-4bf1-9e76-e5a56fe0df90"
      },
      "outputs": [
        {
          "name": "stdout",
          "output_type": "stream",
          "text": [
            "[0 0 0 0 0]\n"
          ]
        }
      ],
      "source": [
        "yhat = grid_result.best_estimator_.predict(X_sample_5_aligned)\n",
        "print(yhat)"
      ]
    },
    {
      "cell_type": "code",
      "execution_count": null,
      "id": "f299b485-7c02-4ae0-8470-77bef7786cf0",
      "metadata": {
        "id": "f299b485-7c02-4ae0-8470-77bef7786cf0",
        "outputId": "1023878b-7af8-422d-9ea4-09203ea8acd9"
      },
      "outputs": [
        {
          "name": "stdout",
          "output_type": "stream",
          "text": [
            "[[0.9283949  0.0716051 ]\n",
            " [0.98079735 0.01920267]\n",
            " [0.92837775 0.07162223]\n",
            " [0.98079735 0.01920267]\n",
            " [0.6535876  0.3464124 ]]\n"
          ]
        }
      ],
      "source": [
        "yhat_proba = grid_result.best_estimator_.predict_proba(X_sample_5_aligned)\n",
        "print(yhat_proba)"
      ]
    },
    {
      "cell_type": "code",
      "execution_count": null,
      "id": "c595d811-a2ed-45e8-9ed2-87605e833c8f",
      "metadata": {
        "id": "c595d811-a2ed-45e8-9ed2-87605e833c8f",
        "outputId": "2c409ce3-3ca3-491e-9458-326e83fce319"
      },
      "outputs": [
        {
          "data": {
            "text/plain": [
              "23710     0\n",
              "21864     0\n",
              "100870    0\n",
              "2453      0\n",
              "108007    0\n",
              "Name: is_canceled, dtype: int64"
            ]
          },
          "execution_count": 149,
          "metadata": {},
          "output_type": "execute_result"
        }
      ],
      "source": [
        "sample_5['is_canceled']"
      ]
    },
    {
      "cell_type": "markdown",
      "id": "1d086fa2-6715-43c3-8215-43ec6c96eead",
      "metadata": {
        "id": "1d086fa2-6715-43c3-8215-43ec6c96eead"
      },
      "source": [
        "#### <font color = \"green\"> ANALISIS DE PREDICCIONES PARA 5 MUESTRAS:\n",
        "\n",
        "##### <font color = \"black\"> Para este caso, el modelo predijo las 5 observaciones como 0 es decir que no cancelaran la reserva cuando hayan realizado un depósito por valor del coste total de la estancia. Al momento de revisar las predicciones, la probabilidad para 0 es precisamente mayor para esas 5 observaciones y al momento de revisar los valores para la variable objetivo, efectivamente analizamos que el modelo predijo correctamente para estos casos."
      ]
    },
    {
      "cell_type": "code",
      "execution_count": null,
      "id": "5c0fc8df-8672-4de0-9fc3-3c84206f52b5",
      "metadata": {
        "id": "5c0fc8df-8672-4de0-9fc3-3c84206f52b5"
      },
      "outputs": [],
      "source": [
        "df_filtered = df_dummies[df_dummies['deposit_type_Non Refund'] == False]\n",
        "sample_10 = df_filtered.sample(n=10, random_state=42)"
      ]
    },
    {
      "cell_type": "code",
      "execution_count": null,
      "id": "0a21411c-01c5-4676-bf89-feb7aab4b92c",
      "metadata": {
        "id": "0a21411c-01c5-4676-bf89-feb7aab4b92c"
      },
      "outputs": [],
      "source": [
        "X_sample_10_filled = X_sample_10.fillna(0)"
      ]
    },
    {
      "cell_type": "code",
      "execution_count": null,
      "id": "586a93b1-0784-479e-8362-51bc55a5b989",
      "metadata": {
        "id": "586a93b1-0784-479e-8362-51bc55a5b989"
      },
      "outputs": [],
      "source": [
        "X_sample_10_aligned = X_sample_10_filled.reindex(columns=X_train.columns, fill_value=0)"
      ]
    },
    {
      "cell_type": "code",
      "execution_count": null,
      "id": "36b9b335-bf6b-45b6-84eb-19b4e1483741",
      "metadata": {
        "id": "36b9b335-bf6b-45b6-84eb-19b4e1483741",
        "outputId": "b4c3aa22-4fcf-4956-dd41-aee575ce0566"
      },
      "outputs": [
        {
          "name": "stdout",
          "output_type": "stream",
          "text": [
            "[0 0 0 0 0 1 0 1 0 1]\n"
          ]
        }
      ],
      "source": [
        "yhat = grid_result.best_estimator_.predict(X_sample_10_aligned)\n",
        "print(yhat)"
      ]
    },
    {
      "cell_type": "code",
      "execution_count": null,
      "id": "4ed1142a-065a-4af8-b493-45221e2dfddd",
      "metadata": {
        "id": "4ed1142a-065a-4af8-b493-45221e2dfddd",
        "outputId": "29fa38f1-73ab-4b01-9127-02940d834f86"
      },
      "outputs": [
        {
          "name": "stdout",
          "output_type": "stream",
          "text": [
            "[[0.9283949  0.0716051 ]\n",
            " [0.98079735 0.01920267]\n",
            " [0.92837775 0.07162223]\n",
            " [0.98079735 0.01920267]\n",
            " [0.6535876  0.3464124 ]\n",
            " [0.48615873 0.5138413 ]\n",
            " [0.92837775 0.07162223]\n",
            " [0.48615873 0.5138413 ]\n",
            " [0.9283949  0.0716051 ]\n",
            " [0.48771477 0.51228523]]\n"
          ]
        }
      ],
      "source": [
        "yhat_proba = grid_result.best_estimator_.predict_proba(X_sample_10_aligned)\n",
        "print(yhat_proba)"
      ]
    },
    {
      "cell_type": "code",
      "execution_count": null,
      "id": "abf15590-c7c3-4cf0-b6e2-7aa473148b4d",
      "metadata": {
        "id": "abf15590-c7c3-4cf0-b6e2-7aa473148b4d",
        "outputId": "1874c439-df45-471d-87b6-e3c6ccce23a8"
      },
      "outputs": [
        {
          "data": {
            "text/plain": [
              "23710     0\n",
              "21864     0\n",
              "100870    0\n",
              "2453      0\n",
              "108007    0\n",
              "3705      0\n",
              "99230     0\n",
              "7018      1\n",
              "34925     0\n",
              "113636    0\n",
              "Name: is_canceled, dtype: int64"
            ]
          },
          "execution_count": 153,
          "metadata": {},
          "output_type": "execute_result"
        }
      ],
      "source": [
        "sample_10['is_canceled']"
      ]
    },
    {
      "cell_type": "markdown",
      "id": "b2817f46-e729-43bc-b8b0-d753a10b9d4b",
      "metadata": {
        "id": "b2817f46-e729-43bc-b8b0-d753a10b9d4b"
      },
      "source": [
        "#### <font color = \"green\"> ANALISIS DE PREDICCIONES PARA 10 MUESTRAS:\n",
        "\n",
        "##### <font color = \"black\"> Si queremos ademas ampliar el tamaño de la muestra a 10, podemos observar un comportamiento diferente entre predicciones y realidad. De esta manera, de acuerdo a lo anterior, tenemos que bajo la misma condicción el modelo predijo que se cancelarian 3 de las 10 reservas; sin embargo al revisar los valores reales en la muestra, tenemos que el modelo acerto en 8 observaciones habiendo discrepancia en la sexta y decima en donde se predijo que se cancelaria la reserva y en realidad era 0."
      ]
    },
    {
      "cell_type": "code",
      "execution_count": null,
      "id": "b7e2eb28-096c-4c43-aa1e-6af43cd1ed8f",
      "metadata": {
        "id": "b7e2eb28-096c-4c43-aa1e-6af43cd1ed8f"
      },
      "outputs": [],
      "source": []
    }
  ],
  "metadata": {
    "kernelspec": {
      "display_name": "Python 3 (ipykernel)",
      "language": "python",
      "name": "python3"
    },
    "language_info": {
      "codemirror_mode": {
        "name": "ipython",
        "version": 3
      },
      "file_extension": ".py",
      "mimetype": "text/x-python",
      "name": "python",
      "nbconvert_exporter": "python",
      "pygments_lexer": "ipython3",
      "version": "3.11.7"
    },
    "colab": {
      "provenance": [],
      "include_colab_link": true
    }
  },
  "nbformat": 4,
  "nbformat_minor": 5
}
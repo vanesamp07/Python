{
  "nbformat": 4,
  "nbformat_minor": 0,
  "metadata": {
    "colab": {
      "provenance": [],
      "authorship_tag": "ABX9TyMq2pjBJ5CKYXyAHYtyPd1n",
      "include_colab_link": true
    },
    "kernelspec": {
      "name": "python3",
      "display_name": "Python 3"
    },
    "language_info": {
      "name": "python"
    }
  },
  "cells": [
    {
      "cell_type": "markdown",
      "metadata": {
        "id": "view-in-github",
        "colab_type": "text"
      },
      "source": [
        "<a href=\"https://colab.research.google.com/github/vanesamp07/Python/blob/main/Prueba2_modulo3.ipynb\" target=\"_parent\"><img src=\"https://colab.research.google.com/assets/colab-badge.svg\" alt=\"Open In Colab\"/></a>"
      ]
    },
    {
      "cell_type": "code",
      "execution_count": null,
      "metadata": {
        "colab": {
          "base_uri": "https://localhost:8080/"
        },
        "id": "XvK6xqkqUMUR",
        "outputId": "9f63fab1-bad4-44fa-9eee-735fb4242f32"
      },
      "outputs": [
        {
          "output_type": "stream",
          "name": "stdout",
          "text": [
            "Mounted at /content/drive\n"
          ]
        }
      ],
      "source": [
        "#Conectamos el archivo con los documentos en el drive\n",
        "from google.colab import drive\n",
        "drive.mount('/content/drive')"
      ]
    },
    {
      "cell_type": "code",
      "source": [
        "#Importamos el archivo CSV con el set de datos que utilizaremos\n",
        "file_path = '/content/drive/MyDrive/Colab Notebooks/worldcup2014.csv'"
      ],
      "metadata": {
        "id": "K1CTwUzyUY3e"
      },
      "execution_count": null,
      "outputs": []
    },
    {
      "cell_type": "code",
      "source": [
        "import pandas as pd\n",
        "#Ingresamos los datos en un Dataframe y los leemos\n",
        "probabilidad = pd.read_csv('/content/drive/MyDrive/Colab Notebooks/worldcup2014.csv',delimiter=',')"
      ],
      "metadata": {
        "id": "j-TaaI3KU5C9"
      },
      "execution_count": null,
      "outputs": []
    },
    {
      "cell_type": "code",
      "source": [
        "probabilidad"
      ],
      "metadata": {
        "colab": {
          "base_uri": "https://localhost:8080/",
          "height": 1000
        },
        "id": "Qv0BfeOkVA4Y",
        "outputId": "f26cbacb-f092-45a4-adca-20c247864cb4"
      },
      "execution_count": null,
      "outputs": [
        {
          "output_type": "execute_result",
          "data": {
            "text/plain": [
              "                      team     continent group  group_pos  cantidad_juegos  \\\n",
              "0                   Brazil  southamerica     A          1                3   \n",
              "1                   Mexico  northamerica     A          2                3   \n",
              "2                  Croatia        europe     A          3                3   \n",
              "3                 Cameroon        africa     A          4                3   \n",
              "4              Netherlands        europe     B          1                3   \n",
              "5                    Chile  southamerica     B          2                3   \n",
              "6                    Spain        europe     B          3                3   \n",
              "7                Australia          asia     B          4                3   \n",
              "8                 Colombia  southamerica     C          1                3   \n",
              "9                   Greece        europe     C          2                3   \n",
              "10             Ivory Coast        africa     C          3                3   \n",
              "11                   Japan          asia     C          4                3   \n",
              "12              Costa Rica  northamerica     D          1                3   \n",
              "13                 Uruguay  southamerica     D          2                3   \n",
              "14                   Italy        europe     D          3                3   \n",
              "15                 England        europe     D          4                3   \n",
              "16                  France        europe     E          1                3   \n",
              "17             Switzerland        europe     E          2                3   \n",
              "18                 Ecuador  southamerica     E          3                3   \n",
              "19                Honduras  northamerica     E          4                3   \n",
              "20               Argentina  southamerica     F          1                3   \n",
              "21                 Nigeria        africa     F          2                3   \n",
              "22  Bosnia and Herzegovina        europe     F          3                3   \n",
              "23                    Iran          asia     F          4                3   \n",
              "24                 Germany        europe     G          1                3   \n",
              "25           United States  northamerica     G          2                3   \n",
              "26                Portugal        europe     G          3                3   \n",
              "27                   Ghana        africa     G          4                3   \n",
              "28                 Belgium        europe     H          1                3   \n",
              "29                 Algeria        africa     H          2                3   \n",
              "30                  Russia        europe     H          3                3   \n",
              "31             South Korea          asia     H          4                3   \n",
              "\n",
              "    juegos_ganados  juegos_empatados  juegos_perdidos  goles_favor  \\\n",
              "0                2                 1                0            7   \n",
              "1                2                 1                0            4   \n",
              "2                1                 0                2            6   \n",
              "3                0                 0                3            1   \n",
              "4                3                 0                0           10   \n",
              "5                2                 0                1            5   \n",
              "6                1                 0                2            4   \n",
              "7                0                 0                3            3   \n",
              "8                3                 0                0            9   \n",
              "9                1                 1                1            2   \n",
              "10               1                 0                2            4   \n",
              "11               0                 1                2            2   \n",
              "12               2                 1                0            4   \n",
              "13               2                 0                1            4   \n",
              "14               1                 0                2            2   \n",
              "15               0                 1                2            2   \n",
              "16               2                 1                0            8   \n",
              "17               2                 0                1            7   \n",
              "18               1                 1                1            3   \n",
              "19               0                 0                3            1   \n",
              "20               3                 0                0            6   \n",
              "21               1                 1                1            3   \n",
              "22               1                 0                2            4   \n",
              "23               0                 1                2            1   \n",
              "24               2                 1                0            7   \n",
              "25               1                 1                1            4   \n",
              "26               1                 1                1            4   \n",
              "27               0                 1                2            4   \n",
              "28               3                 0                0            4   \n",
              "29               1                 1                1            6   \n",
              "30               0                 2                1            2   \n",
              "31               0                 1                2            3   \n",
              "\n",
              "    goles_contra goles_diferencia  puntos  clasificado  \n",
              "0              2                5       7            1  \n",
              "1              1                3       7            1  \n",
              "2              6                0       3            0  \n",
              "3              9               −8       0            0  \n",
              "4              3                7       9            1  \n",
              "5              3                2       6            1  \n",
              "6              7               −3       3            0  \n",
              "7              9               −6       0            0  \n",
              "8              2                7       9            1  \n",
              "9              4               −2       4            1  \n",
              "10             5               −1       3            0  \n",
              "11             6               −4       1            0  \n",
              "12             1                3       7            1  \n",
              "13             4                0       6            1  \n",
              "14             3               −1       3            0  \n",
              "15             4               −2       1            0  \n",
              "16             2                6       7            1  \n",
              "17             6                1       6            1  \n",
              "18             3                0       4            0  \n",
              "19             8               −7       0            0  \n",
              "20             3                3       9            1  \n",
              "21             3                0       4            1  \n",
              "22             4                0       3            0  \n",
              "23             4               −3       1            0  \n",
              "24             2                5       7            1  \n",
              "25             4                0       4            1  \n",
              "26             7               −3       4            0  \n",
              "27             6               −2       1            0  \n",
              "28             1                3       9            1  \n",
              "29             5                1       4            1  \n",
              "30             3               −1       2            0  \n",
              "31             6               −3       1            0  "
            ],
            "text/html": [
              "\n",
              "  <div id=\"df-3e3aaab9-3170-4b2d-b028-241e1ecff5ce\" class=\"colab-df-container\">\n",
              "    <div>\n",
              "<style scoped>\n",
              "    .dataframe tbody tr th:only-of-type {\n",
              "        vertical-align: middle;\n",
              "    }\n",
              "\n",
              "    .dataframe tbody tr th {\n",
              "        vertical-align: top;\n",
              "    }\n",
              "\n",
              "    .dataframe thead th {\n",
              "        text-align: right;\n",
              "    }\n",
              "</style>\n",
              "<table border=\"1\" class=\"dataframe\">\n",
              "  <thead>\n",
              "    <tr style=\"text-align: right;\">\n",
              "      <th></th>\n",
              "      <th>team</th>\n",
              "      <th>continent</th>\n",
              "      <th>group</th>\n",
              "      <th>group_pos</th>\n",
              "      <th>cantidad_juegos</th>\n",
              "      <th>juegos_ganados</th>\n",
              "      <th>juegos_empatados</th>\n",
              "      <th>juegos_perdidos</th>\n",
              "      <th>goles_favor</th>\n",
              "      <th>goles_contra</th>\n",
              "      <th>goles_diferencia</th>\n",
              "      <th>puntos</th>\n",
              "      <th>clasificado</th>\n",
              "    </tr>\n",
              "  </thead>\n",
              "  <tbody>\n",
              "    <tr>\n",
              "      <th>0</th>\n",
              "      <td>Brazil</td>\n",
              "      <td>southamerica</td>\n",
              "      <td>A</td>\n",
              "      <td>1</td>\n",
              "      <td>3</td>\n",
              "      <td>2</td>\n",
              "      <td>1</td>\n",
              "      <td>0</td>\n",
              "      <td>7</td>\n",
              "      <td>2</td>\n",
              "      <td>5</td>\n",
              "      <td>7</td>\n",
              "      <td>1</td>\n",
              "    </tr>\n",
              "    <tr>\n",
              "      <th>1</th>\n",
              "      <td>Mexico</td>\n",
              "      <td>northamerica</td>\n",
              "      <td>A</td>\n",
              "      <td>2</td>\n",
              "      <td>3</td>\n",
              "      <td>2</td>\n",
              "      <td>1</td>\n",
              "      <td>0</td>\n",
              "      <td>4</td>\n",
              "      <td>1</td>\n",
              "      <td>3</td>\n",
              "      <td>7</td>\n",
              "      <td>1</td>\n",
              "    </tr>\n",
              "    <tr>\n",
              "      <th>2</th>\n",
              "      <td>Croatia</td>\n",
              "      <td>europe</td>\n",
              "      <td>A</td>\n",
              "      <td>3</td>\n",
              "      <td>3</td>\n",
              "      <td>1</td>\n",
              "      <td>0</td>\n",
              "      <td>2</td>\n",
              "      <td>6</td>\n",
              "      <td>6</td>\n",
              "      <td>0</td>\n",
              "      <td>3</td>\n",
              "      <td>0</td>\n",
              "    </tr>\n",
              "    <tr>\n",
              "      <th>3</th>\n",
              "      <td>Cameroon</td>\n",
              "      <td>africa</td>\n",
              "      <td>A</td>\n",
              "      <td>4</td>\n",
              "      <td>3</td>\n",
              "      <td>0</td>\n",
              "      <td>0</td>\n",
              "      <td>3</td>\n",
              "      <td>1</td>\n",
              "      <td>9</td>\n",
              "      <td>−8</td>\n",
              "      <td>0</td>\n",
              "      <td>0</td>\n",
              "    </tr>\n",
              "    <tr>\n",
              "      <th>4</th>\n",
              "      <td>Netherlands</td>\n",
              "      <td>europe</td>\n",
              "      <td>B</td>\n",
              "      <td>1</td>\n",
              "      <td>3</td>\n",
              "      <td>3</td>\n",
              "      <td>0</td>\n",
              "      <td>0</td>\n",
              "      <td>10</td>\n",
              "      <td>3</td>\n",
              "      <td>7</td>\n",
              "      <td>9</td>\n",
              "      <td>1</td>\n",
              "    </tr>\n",
              "    <tr>\n",
              "      <th>5</th>\n",
              "      <td>Chile</td>\n",
              "      <td>southamerica</td>\n",
              "      <td>B</td>\n",
              "      <td>2</td>\n",
              "      <td>3</td>\n",
              "      <td>2</td>\n",
              "      <td>0</td>\n",
              "      <td>1</td>\n",
              "      <td>5</td>\n",
              "      <td>3</td>\n",
              "      <td>2</td>\n",
              "      <td>6</td>\n",
              "      <td>1</td>\n",
              "    </tr>\n",
              "    <tr>\n",
              "      <th>6</th>\n",
              "      <td>Spain</td>\n",
              "      <td>europe</td>\n",
              "      <td>B</td>\n",
              "      <td>3</td>\n",
              "      <td>3</td>\n",
              "      <td>1</td>\n",
              "      <td>0</td>\n",
              "      <td>2</td>\n",
              "      <td>4</td>\n",
              "      <td>7</td>\n",
              "      <td>−3</td>\n",
              "      <td>3</td>\n",
              "      <td>0</td>\n",
              "    </tr>\n",
              "    <tr>\n",
              "      <th>7</th>\n",
              "      <td>Australia</td>\n",
              "      <td>asia</td>\n",
              "      <td>B</td>\n",
              "      <td>4</td>\n",
              "      <td>3</td>\n",
              "      <td>0</td>\n",
              "      <td>0</td>\n",
              "      <td>3</td>\n",
              "      <td>3</td>\n",
              "      <td>9</td>\n",
              "      <td>−6</td>\n",
              "      <td>0</td>\n",
              "      <td>0</td>\n",
              "    </tr>\n",
              "    <tr>\n",
              "      <th>8</th>\n",
              "      <td>Colombia</td>\n",
              "      <td>southamerica</td>\n",
              "      <td>C</td>\n",
              "      <td>1</td>\n",
              "      <td>3</td>\n",
              "      <td>3</td>\n",
              "      <td>0</td>\n",
              "      <td>0</td>\n",
              "      <td>9</td>\n",
              "      <td>2</td>\n",
              "      <td>7</td>\n",
              "      <td>9</td>\n",
              "      <td>1</td>\n",
              "    </tr>\n",
              "    <tr>\n",
              "      <th>9</th>\n",
              "      <td>Greece</td>\n",
              "      <td>europe</td>\n",
              "      <td>C</td>\n",
              "      <td>2</td>\n",
              "      <td>3</td>\n",
              "      <td>1</td>\n",
              "      <td>1</td>\n",
              "      <td>1</td>\n",
              "      <td>2</td>\n",
              "      <td>4</td>\n",
              "      <td>−2</td>\n",
              "      <td>4</td>\n",
              "      <td>1</td>\n",
              "    </tr>\n",
              "    <tr>\n",
              "      <th>10</th>\n",
              "      <td>Ivory Coast</td>\n",
              "      <td>africa</td>\n",
              "      <td>C</td>\n",
              "      <td>3</td>\n",
              "      <td>3</td>\n",
              "      <td>1</td>\n",
              "      <td>0</td>\n",
              "      <td>2</td>\n",
              "      <td>4</td>\n",
              "      <td>5</td>\n",
              "      <td>−1</td>\n",
              "      <td>3</td>\n",
              "      <td>0</td>\n",
              "    </tr>\n",
              "    <tr>\n",
              "      <th>11</th>\n",
              "      <td>Japan</td>\n",
              "      <td>asia</td>\n",
              "      <td>C</td>\n",
              "      <td>4</td>\n",
              "      <td>3</td>\n",
              "      <td>0</td>\n",
              "      <td>1</td>\n",
              "      <td>2</td>\n",
              "      <td>2</td>\n",
              "      <td>6</td>\n",
              "      <td>−4</td>\n",
              "      <td>1</td>\n",
              "      <td>0</td>\n",
              "    </tr>\n",
              "    <tr>\n",
              "      <th>12</th>\n",
              "      <td>Costa Rica</td>\n",
              "      <td>northamerica</td>\n",
              "      <td>D</td>\n",
              "      <td>1</td>\n",
              "      <td>3</td>\n",
              "      <td>2</td>\n",
              "      <td>1</td>\n",
              "      <td>0</td>\n",
              "      <td>4</td>\n",
              "      <td>1</td>\n",
              "      <td>3</td>\n",
              "      <td>7</td>\n",
              "      <td>1</td>\n",
              "    </tr>\n",
              "    <tr>\n",
              "      <th>13</th>\n",
              "      <td>Uruguay</td>\n",
              "      <td>southamerica</td>\n",
              "      <td>D</td>\n",
              "      <td>2</td>\n",
              "      <td>3</td>\n",
              "      <td>2</td>\n",
              "      <td>0</td>\n",
              "      <td>1</td>\n",
              "      <td>4</td>\n",
              "      <td>4</td>\n",
              "      <td>0</td>\n",
              "      <td>6</td>\n",
              "      <td>1</td>\n",
              "    </tr>\n",
              "    <tr>\n",
              "      <th>14</th>\n",
              "      <td>Italy</td>\n",
              "      <td>europe</td>\n",
              "      <td>D</td>\n",
              "      <td>3</td>\n",
              "      <td>3</td>\n",
              "      <td>1</td>\n",
              "      <td>0</td>\n",
              "      <td>2</td>\n",
              "      <td>2</td>\n",
              "      <td>3</td>\n",
              "      <td>−1</td>\n",
              "      <td>3</td>\n",
              "      <td>0</td>\n",
              "    </tr>\n",
              "    <tr>\n",
              "      <th>15</th>\n",
              "      <td>England</td>\n",
              "      <td>europe</td>\n",
              "      <td>D</td>\n",
              "      <td>4</td>\n",
              "      <td>3</td>\n",
              "      <td>0</td>\n",
              "      <td>1</td>\n",
              "      <td>2</td>\n",
              "      <td>2</td>\n",
              "      <td>4</td>\n",
              "      <td>−2</td>\n",
              "      <td>1</td>\n",
              "      <td>0</td>\n",
              "    </tr>\n",
              "    <tr>\n",
              "      <th>16</th>\n",
              "      <td>France</td>\n",
              "      <td>europe</td>\n",
              "      <td>E</td>\n",
              "      <td>1</td>\n",
              "      <td>3</td>\n",
              "      <td>2</td>\n",
              "      <td>1</td>\n",
              "      <td>0</td>\n",
              "      <td>8</td>\n",
              "      <td>2</td>\n",
              "      <td>6</td>\n",
              "      <td>7</td>\n",
              "      <td>1</td>\n",
              "    </tr>\n",
              "    <tr>\n",
              "      <th>17</th>\n",
              "      <td>Switzerland</td>\n",
              "      <td>europe</td>\n",
              "      <td>E</td>\n",
              "      <td>2</td>\n",
              "      <td>3</td>\n",
              "      <td>2</td>\n",
              "      <td>0</td>\n",
              "      <td>1</td>\n",
              "      <td>7</td>\n",
              "      <td>6</td>\n",
              "      <td>1</td>\n",
              "      <td>6</td>\n",
              "      <td>1</td>\n",
              "    </tr>\n",
              "    <tr>\n",
              "      <th>18</th>\n",
              "      <td>Ecuador</td>\n",
              "      <td>southamerica</td>\n",
              "      <td>E</td>\n",
              "      <td>3</td>\n",
              "      <td>3</td>\n",
              "      <td>1</td>\n",
              "      <td>1</td>\n",
              "      <td>1</td>\n",
              "      <td>3</td>\n",
              "      <td>3</td>\n",
              "      <td>0</td>\n",
              "      <td>4</td>\n",
              "      <td>0</td>\n",
              "    </tr>\n",
              "    <tr>\n",
              "      <th>19</th>\n",
              "      <td>Honduras</td>\n",
              "      <td>northamerica</td>\n",
              "      <td>E</td>\n",
              "      <td>4</td>\n",
              "      <td>3</td>\n",
              "      <td>0</td>\n",
              "      <td>0</td>\n",
              "      <td>3</td>\n",
              "      <td>1</td>\n",
              "      <td>8</td>\n",
              "      <td>−7</td>\n",
              "      <td>0</td>\n",
              "      <td>0</td>\n",
              "    </tr>\n",
              "    <tr>\n",
              "      <th>20</th>\n",
              "      <td>Argentina</td>\n",
              "      <td>southamerica</td>\n",
              "      <td>F</td>\n",
              "      <td>1</td>\n",
              "      <td>3</td>\n",
              "      <td>3</td>\n",
              "      <td>0</td>\n",
              "      <td>0</td>\n",
              "      <td>6</td>\n",
              "      <td>3</td>\n",
              "      <td>3</td>\n",
              "      <td>9</td>\n",
              "      <td>1</td>\n",
              "    </tr>\n",
              "    <tr>\n",
              "      <th>21</th>\n",
              "      <td>Nigeria</td>\n",
              "      <td>africa</td>\n",
              "      <td>F</td>\n",
              "      <td>2</td>\n",
              "      <td>3</td>\n",
              "      <td>1</td>\n",
              "      <td>1</td>\n",
              "      <td>1</td>\n",
              "      <td>3</td>\n",
              "      <td>3</td>\n",
              "      <td>0</td>\n",
              "      <td>4</td>\n",
              "      <td>1</td>\n",
              "    </tr>\n",
              "    <tr>\n",
              "      <th>22</th>\n",
              "      <td>Bosnia and Herzegovina</td>\n",
              "      <td>europe</td>\n",
              "      <td>F</td>\n",
              "      <td>3</td>\n",
              "      <td>3</td>\n",
              "      <td>1</td>\n",
              "      <td>0</td>\n",
              "      <td>2</td>\n",
              "      <td>4</td>\n",
              "      <td>4</td>\n",
              "      <td>0</td>\n",
              "      <td>3</td>\n",
              "      <td>0</td>\n",
              "    </tr>\n",
              "    <tr>\n",
              "      <th>23</th>\n",
              "      <td>Iran</td>\n",
              "      <td>asia</td>\n",
              "      <td>F</td>\n",
              "      <td>4</td>\n",
              "      <td>3</td>\n",
              "      <td>0</td>\n",
              "      <td>1</td>\n",
              "      <td>2</td>\n",
              "      <td>1</td>\n",
              "      <td>4</td>\n",
              "      <td>−3</td>\n",
              "      <td>1</td>\n",
              "      <td>0</td>\n",
              "    </tr>\n",
              "    <tr>\n",
              "      <th>24</th>\n",
              "      <td>Germany</td>\n",
              "      <td>europe</td>\n",
              "      <td>G</td>\n",
              "      <td>1</td>\n",
              "      <td>3</td>\n",
              "      <td>2</td>\n",
              "      <td>1</td>\n",
              "      <td>0</td>\n",
              "      <td>7</td>\n",
              "      <td>2</td>\n",
              "      <td>5</td>\n",
              "      <td>7</td>\n",
              "      <td>1</td>\n",
              "    </tr>\n",
              "    <tr>\n",
              "      <th>25</th>\n",
              "      <td>United States</td>\n",
              "      <td>northamerica</td>\n",
              "      <td>G</td>\n",
              "      <td>2</td>\n",
              "      <td>3</td>\n",
              "      <td>1</td>\n",
              "      <td>1</td>\n",
              "      <td>1</td>\n",
              "      <td>4</td>\n",
              "      <td>4</td>\n",
              "      <td>0</td>\n",
              "      <td>4</td>\n",
              "      <td>1</td>\n",
              "    </tr>\n",
              "    <tr>\n",
              "      <th>26</th>\n",
              "      <td>Portugal</td>\n",
              "      <td>europe</td>\n",
              "      <td>G</td>\n",
              "      <td>3</td>\n",
              "      <td>3</td>\n",
              "      <td>1</td>\n",
              "      <td>1</td>\n",
              "      <td>1</td>\n",
              "      <td>4</td>\n",
              "      <td>7</td>\n",
              "      <td>−3</td>\n",
              "      <td>4</td>\n",
              "      <td>0</td>\n",
              "    </tr>\n",
              "    <tr>\n",
              "      <th>27</th>\n",
              "      <td>Ghana</td>\n",
              "      <td>africa</td>\n",
              "      <td>G</td>\n",
              "      <td>4</td>\n",
              "      <td>3</td>\n",
              "      <td>0</td>\n",
              "      <td>1</td>\n",
              "      <td>2</td>\n",
              "      <td>4</td>\n",
              "      <td>6</td>\n",
              "      <td>−2</td>\n",
              "      <td>1</td>\n",
              "      <td>0</td>\n",
              "    </tr>\n",
              "    <tr>\n",
              "      <th>28</th>\n",
              "      <td>Belgium</td>\n",
              "      <td>europe</td>\n",
              "      <td>H</td>\n",
              "      <td>1</td>\n",
              "      <td>3</td>\n",
              "      <td>3</td>\n",
              "      <td>0</td>\n",
              "      <td>0</td>\n",
              "      <td>4</td>\n",
              "      <td>1</td>\n",
              "      <td>3</td>\n",
              "      <td>9</td>\n",
              "      <td>1</td>\n",
              "    </tr>\n",
              "    <tr>\n",
              "      <th>29</th>\n",
              "      <td>Algeria</td>\n",
              "      <td>africa</td>\n",
              "      <td>H</td>\n",
              "      <td>2</td>\n",
              "      <td>3</td>\n",
              "      <td>1</td>\n",
              "      <td>1</td>\n",
              "      <td>1</td>\n",
              "      <td>6</td>\n",
              "      <td>5</td>\n",
              "      <td>1</td>\n",
              "      <td>4</td>\n",
              "      <td>1</td>\n",
              "    </tr>\n",
              "    <tr>\n",
              "      <th>30</th>\n",
              "      <td>Russia</td>\n",
              "      <td>europe</td>\n",
              "      <td>H</td>\n",
              "      <td>3</td>\n",
              "      <td>3</td>\n",
              "      <td>0</td>\n",
              "      <td>2</td>\n",
              "      <td>1</td>\n",
              "      <td>2</td>\n",
              "      <td>3</td>\n",
              "      <td>−1</td>\n",
              "      <td>2</td>\n",
              "      <td>0</td>\n",
              "    </tr>\n",
              "    <tr>\n",
              "      <th>31</th>\n",
              "      <td>South Korea</td>\n",
              "      <td>asia</td>\n",
              "      <td>H</td>\n",
              "      <td>4</td>\n",
              "      <td>3</td>\n",
              "      <td>0</td>\n",
              "      <td>1</td>\n",
              "      <td>2</td>\n",
              "      <td>3</td>\n",
              "      <td>6</td>\n",
              "      <td>−3</td>\n",
              "      <td>1</td>\n",
              "      <td>0</td>\n",
              "    </tr>\n",
              "  </tbody>\n",
              "</table>\n",
              "</div>\n",
              "    <div class=\"colab-df-buttons\">\n",
              "\n",
              "  <div class=\"colab-df-container\">\n",
              "    <button class=\"colab-df-convert\" onclick=\"convertToInteractive('df-3e3aaab9-3170-4b2d-b028-241e1ecff5ce')\"\n",
              "            title=\"Convert this dataframe to an interactive table.\"\n",
              "            style=\"display:none;\">\n",
              "\n",
              "  <svg xmlns=\"http://www.w3.org/2000/svg\" height=\"24px\" viewBox=\"0 -960 960 960\">\n",
              "    <path d=\"M120-120v-720h720v720H120Zm60-500h600v-160H180v160Zm220 220h160v-160H400v160Zm0 220h160v-160H400v160ZM180-400h160v-160H180v160Zm440 0h160v-160H620v160ZM180-180h160v-160H180v160Zm440 0h160v-160H620v160Z\"/>\n",
              "  </svg>\n",
              "    </button>\n",
              "\n",
              "  <style>\n",
              "    .colab-df-container {\n",
              "      display:flex;\n",
              "      gap: 12px;\n",
              "    }\n",
              "\n",
              "    .colab-df-convert {\n",
              "      background-color: #E8F0FE;\n",
              "      border: none;\n",
              "      border-radius: 50%;\n",
              "      cursor: pointer;\n",
              "      display: none;\n",
              "      fill: #1967D2;\n",
              "      height: 32px;\n",
              "      padding: 0 0 0 0;\n",
              "      width: 32px;\n",
              "    }\n",
              "\n",
              "    .colab-df-convert:hover {\n",
              "      background-color: #E2EBFA;\n",
              "      box-shadow: 0px 1px 2px rgba(60, 64, 67, 0.3), 0px 1px 3px 1px rgba(60, 64, 67, 0.15);\n",
              "      fill: #174EA6;\n",
              "    }\n",
              "\n",
              "    .colab-df-buttons div {\n",
              "      margin-bottom: 4px;\n",
              "    }\n",
              "\n",
              "    [theme=dark] .colab-df-convert {\n",
              "      background-color: #3B4455;\n",
              "      fill: #D2E3FC;\n",
              "    }\n",
              "\n",
              "    [theme=dark] .colab-df-convert:hover {\n",
              "      background-color: #434B5C;\n",
              "      box-shadow: 0px 1px 3px 1px rgba(0, 0, 0, 0.15);\n",
              "      filter: drop-shadow(0px 1px 2px rgba(0, 0, 0, 0.3));\n",
              "      fill: #FFFFFF;\n",
              "    }\n",
              "  </style>\n",
              "\n",
              "    <script>\n",
              "      const buttonEl =\n",
              "        document.querySelector('#df-3e3aaab9-3170-4b2d-b028-241e1ecff5ce button.colab-df-convert');\n",
              "      buttonEl.style.display =\n",
              "        google.colab.kernel.accessAllowed ? 'block' : 'none';\n",
              "\n",
              "      async function convertToInteractive(key) {\n",
              "        const element = document.querySelector('#df-3e3aaab9-3170-4b2d-b028-241e1ecff5ce');\n",
              "        const dataTable =\n",
              "          await google.colab.kernel.invokeFunction('convertToInteractive',\n",
              "                                                    [key], {});\n",
              "        if (!dataTable) return;\n",
              "\n",
              "        const docLinkHtml = 'Like what you see? Visit the ' +\n",
              "          '<a target=\"_blank\" href=https://colab.research.google.com/notebooks/data_table.ipynb>data table notebook</a>'\n",
              "          + ' to learn more about interactive tables.';\n",
              "        element.innerHTML = '';\n",
              "        dataTable['output_type'] = 'display_data';\n",
              "        await google.colab.output.renderOutput(dataTable, element);\n",
              "        const docLink = document.createElement('div');\n",
              "        docLink.innerHTML = docLinkHtml;\n",
              "        element.appendChild(docLink);\n",
              "      }\n",
              "    </script>\n",
              "  </div>\n",
              "\n",
              "\n",
              "<div id=\"df-1a0e759f-b263-4031-8f0e-8d91832bcf91\">\n",
              "  <button class=\"colab-df-quickchart\" onclick=\"quickchart('df-1a0e759f-b263-4031-8f0e-8d91832bcf91')\"\n",
              "            title=\"Suggest charts\"\n",
              "            style=\"display:none;\">\n",
              "\n",
              "<svg xmlns=\"http://www.w3.org/2000/svg\" height=\"24px\"viewBox=\"0 0 24 24\"\n",
              "     width=\"24px\">\n",
              "    <g>\n",
              "        <path d=\"M19 3H5c-1.1 0-2 .9-2 2v14c0 1.1.9 2 2 2h14c1.1 0 2-.9 2-2V5c0-1.1-.9-2-2-2zM9 17H7v-7h2v7zm4 0h-2V7h2v10zm4 0h-2v-4h2v4z\"/>\n",
              "    </g>\n",
              "</svg>\n",
              "  </button>\n",
              "\n",
              "<style>\n",
              "  .colab-df-quickchart {\n",
              "      --bg-color: #E8F0FE;\n",
              "      --fill-color: #1967D2;\n",
              "      --hover-bg-color: #E2EBFA;\n",
              "      --hover-fill-color: #174EA6;\n",
              "      --disabled-fill-color: #AAA;\n",
              "      --disabled-bg-color: #DDD;\n",
              "  }\n",
              "\n",
              "  [theme=dark] .colab-df-quickchart {\n",
              "      --bg-color: #3B4455;\n",
              "      --fill-color: #D2E3FC;\n",
              "      --hover-bg-color: #434B5C;\n",
              "      --hover-fill-color: #FFFFFF;\n",
              "      --disabled-bg-color: #3B4455;\n",
              "      --disabled-fill-color: #666;\n",
              "  }\n",
              "\n",
              "  .colab-df-quickchart {\n",
              "    background-color: var(--bg-color);\n",
              "    border: none;\n",
              "    border-radius: 50%;\n",
              "    cursor: pointer;\n",
              "    display: none;\n",
              "    fill: var(--fill-color);\n",
              "    height: 32px;\n",
              "    padding: 0;\n",
              "    width: 32px;\n",
              "  }\n",
              "\n",
              "  .colab-df-quickchart:hover {\n",
              "    background-color: var(--hover-bg-color);\n",
              "    box-shadow: 0 1px 2px rgba(60, 64, 67, 0.3), 0 1px 3px 1px rgba(60, 64, 67, 0.15);\n",
              "    fill: var(--button-hover-fill-color);\n",
              "  }\n",
              "\n",
              "  .colab-df-quickchart-complete:disabled,\n",
              "  .colab-df-quickchart-complete:disabled:hover {\n",
              "    background-color: var(--disabled-bg-color);\n",
              "    fill: var(--disabled-fill-color);\n",
              "    box-shadow: none;\n",
              "  }\n",
              "\n",
              "  .colab-df-spinner {\n",
              "    border: 2px solid var(--fill-color);\n",
              "    border-color: transparent;\n",
              "    border-bottom-color: var(--fill-color);\n",
              "    animation:\n",
              "      spin 1s steps(1) infinite;\n",
              "  }\n",
              "\n",
              "  @keyframes spin {\n",
              "    0% {\n",
              "      border-color: transparent;\n",
              "      border-bottom-color: var(--fill-color);\n",
              "      border-left-color: var(--fill-color);\n",
              "    }\n",
              "    20% {\n",
              "      border-color: transparent;\n",
              "      border-left-color: var(--fill-color);\n",
              "      border-top-color: var(--fill-color);\n",
              "    }\n",
              "    30% {\n",
              "      border-color: transparent;\n",
              "      border-left-color: var(--fill-color);\n",
              "      border-top-color: var(--fill-color);\n",
              "      border-right-color: var(--fill-color);\n",
              "    }\n",
              "    40% {\n",
              "      border-color: transparent;\n",
              "      border-right-color: var(--fill-color);\n",
              "      border-top-color: var(--fill-color);\n",
              "    }\n",
              "    60% {\n",
              "      border-color: transparent;\n",
              "      border-right-color: var(--fill-color);\n",
              "    }\n",
              "    80% {\n",
              "      border-color: transparent;\n",
              "      border-right-color: var(--fill-color);\n",
              "      border-bottom-color: var(--fill-color);\n",
              "    }\n",
              "    90% {\n",
              "      border-color: transparent;\n",
              "      border-bottom-color: var(--fill-color);\n",
              "    }\n",
              "  }\n",
              "</style>\n",
              "\n",
              "  <script>\n",
              "    async function quickchart(key) {\n",
              "      const quickchartButtonEl =\n",
              "        document.querySelector('#' + key + ' button');\n",
              "      quickchartButtonEl.disabled = true;  // To prevent multiple clicks.\n",
              "      quickchartButtonEl.classList.add('colab-df-spinner');\n",
              "      try {\n",
              "        const charts = await google.colab.kernel.invokeFunction(\n",
              "            'suggestCharts', [key], {});\n",
              "      } catch (error) {\n",
              "        console.error('Error during call to suggestCharts:', error);\n",
              "      }\n",
              "      quickchartButtonEl.classList.remove('colab-df-spinner');\n",
              "      quickchartButtonEl.classList.add('colab-df-quickchart-complete');\n",
              "    }\n",
              "    (() => {\n",
              "      let quickchartButtonEl =\n",
              "        document.querySelector('#df-1a0e759f-b263-4031-8f0e-8d91832bcf91 button');\n",
              "      quickchartButtonEl.style.display =\n",
              "        google.colab.kernel.accessAllowed ? 'block' : 'none';\n",
              "    })();\n",
              "  </script>\n",
              "</div>\n",
              "\n",
              "  <div id=\"id_155d9ea1-a53f-4d0e-8052-aef2b767bcaa\">\n",
              "    <style>\n",
              "      .colab-df-generate {\n",
              "        background-color: #E8F0FE;\n",
              "        border: none;\n",
              "        border-radius: 50%;\n",
              "        cursor: pointer;\n",
              "        display: none;\n",
              "        fill: #1967D2;\n",
              "        height: 32px;\n",
              "        padding: 0 0 0 0;\n",
              "        width: 32px;\n",
              "      }\n",
              "\n",
              "      .colab-df-generate:hover {\n",
              "        background-color: #E2EBFA;\n",
              "        box-shadow: 0px 1px 2px rgba(60, 64, 67, 0.3), 0px 1px 3px 1px rgba(60, 64, 67, 0.15);\n",
              "        fill: #174EA6;\n",
              "      }\n",
              "\n",
              "      [theme=dark] .colab-df-generate {\n",
              "        background-color: #3B4455;\n",
              "        fill: #D2E3FC;\n",
              "      }\n",
              "\n",
              "      [theme=dark] .colab-df-generate:hover {\n",
              "        background-color: #434B5C;\n",
              "        box-shadow: 0px 1px 3px 1px rgba(0, 0, 0, 0.15);\n",
              "        filter: drop-shadow(0px 1px 2px rgba(0, 0, 0, 0.3));\n",
              "        fill: #FFFFFF;\n",
              "      }\n",
              "    </style>\n",
              "    <button class=\"colab-df-generate\" onclick=\"generateWithVariable('probabilidad')\"\n",
              "            title=\"Generate code using this dataframe.\"\n",
              "            style=\"display:none;\">\n",
              "\n",
              "  <svg xmlns=\"http://www.w3.org/2000/svg\" height=\"24px\"viewBox=\"0 0 24 24\"\n",
              "       width=\"24px\">\n",
              "    <path d=\"M7,19H8.4L18.45,9,17,7.55,7,17.6ZM5,21V16.75L18.45,3.32a2,2,0,0,1,2.83,0l1.4,1.43a1.91,1.91,0,0,1,.58,1.4,1.91,1.91,0,0,1-.58,1.4L9.25,21ZM18.45,9,17,7.55Zm-12,3A5.31,5.31,0,0,0,4.9,8.1,5.31,5.31,0,0,0,1,6.5,5.31,5.31,0,0,0,4.9,4.9,5.31,5.31,0,0,0,6.5,1,5.31,5.31,0,0,0,8.1,4.9,5.31,5.31,0,0,0,12,6.5,5.46,5.46,0,0,0,6.5,12Z\"/>\n",
              "  </svg>\n",
              "    </button>\n",
              "    <script>\n",
              "      (() => {\n",
              "      const buttonEl =\n",
              "        document.querySelector('#id_155d9ea1-a53f-4d0e-8052-aef2b767bcaa button.colab-df-generate');\n",
              "      buttonEl.style.display =\n",
              "        google.colab.kernel.accessAllowed ? 'block' : 'none';\n",
              "\n",
              "      buttonEl.onclick = () => {\n",
              "        google.colab.notebook.generateWithVariable('probabilidad');\n",
              "      }\n",
              "      })();\n",
              "    </script>\n",
              "  </div>\n",
              "\n",
              "    </div>\n",
              "  </div>\n"
            ],
            "application/vnd.google.colaboratory.intrinsic+json": {
              "type": "dataframe",
              "variable_name": "probabilidad",
              "summary": "{\n  \"name\": \"probabilidad\",\n  \"rows\": 32,\n  \"fields\": [\n    {\n      \"column\": \"team\",\n      \"properties\": {\n        \"dtype\": \"string\",\n        \"num_unique_values\": 32,\n        \"samples\": [\n          \"Algeria\",\n          \"England\",\n          \"Germany\"\n        ],\n        \"semantic_type\": \"\",\n        \"description\": \"\"\n      }\n    },\n    {\n      \"column\": \"continent\",\n      \"properties\": {\n        \"dtype\": \"category\",\n        \"num_unique_values\": 5,\n        \"samples\": [\n          \"northamerica\",\n          \"asia\",\n          \"europe\"\n        ],\n        \"semantic_type\": \"\",\n        \"description\": \"\"\n      }\n    },\n    {\n      \"column\": \"group\",\n      \"properties\": {\n        \"dtype\": \"category\",\n        \"num_unique_values\": 8,\n        \"samples\": [\n          \"B\",\n          \"F\",\n          \"A\"\n        ],\n        \"semantic_type\": \"\",\n        \"description\": \"\"\n      }\n    },\n    {\n      \"column\": \"group_pos\",\n      \"properties\": {\n        \"dtype\": \"number\",\n        \"std\": 1,\n        \"min\": 1,\n        \"max\": 4,\n        \"num_unique_values\": 4,\n        \"samples\": [\n          2,\n          4,\n          1\n        ],\n        \"semantic_type\": \"\",\n        \"description\": \"\"\n      }\n    },\n    {\n      \"column\": \"cantidad_juegos\",\n      \"properties\": {\n        \"dtype\": \"number\",\n        \"std\": 0,\n        \"min\": 3,\n        \"max\": 3,\n        \"num_unique_values\": 1,\n        \"samples\": [\n          3\n        ],\n        \"semantic_type\": \"\",\n        \"description\": \"\"\n      }\n    },\n    {\n      \"column\": \"juegos_ganados\",\n      \"properties\": {\n        \"dtype\": \"number\",\n        \"std\": 1,\n        \"min\": 0,\n        \"max\": 3,\n        \"num_unique_values\": 4,\n        \"samples\": [\n          1\n        ],\n        \"semantic_type\": \"\",\n        \"description\": \"\"\n      }\n    },\n    {\n      \"column\": \"juegos_empatados\",\n      \"properties\": {\n        \"dtype\": \"number\",\n        \"std\": 0,\n        \"min\": 0,\n        \"max\": 2,\n        \"num_unique_values\": 3,\n        \"samples\": [\n          1\n        ],\n        \"semantic_type\": \"\",\n        \"description\": \"\"\n      }\n    },\n    {\n      \"column\": \"juegos_perdidos\",\n      \"properties\": {\n        \"dtype\": \"number\",\n        \"std\": 0,\n        \"min\": 0,\n        \"max\": 3,\n        \"num_unique_values\": 4,\n        \"samples\": [\n          2\n        ],\n        \"semantic_type\": \"\",\n        \"description\": \"\"\n      }\n    },\n    {\n      \"column\": \"goles_favor\",\n      \"properties\": {\n        \"dtype\": \"number\",\n        \"std\": 2,\n        \"min\": 1,\n        \"max\": 10,\n        \"num_unique_values\": 10,\n        \"samples\": [\n          2\n        ],\n        \"semantic_type\": \"\",\n        \"description\": \"\"\n      }\n    },\n    {\n      \"column\": \"goles_contra\",\n      \"properties\": {\n        \"dtype\": \"number\",\n        \"std\": 2,\n        \"min\": 1,\n        \"max\": 9,\n        \"num_unique_values\": 9,\n        \"samples\": [\n          5\n        ],\n        \"semantic_type\": \"\",\n        \"description\": \"\"\n      }\n    },\n    {\n      \"column\": \"goles_diferencia\",\n      \"properties\": {\n        \"dtype\": \"category\",\n        \"num_unique_values\": 14,\n        \"samples\": [\n          \"\\u22121\"\n        ],\n        \"semantic_type\": \"\",\n        \"description\": \"\"\n      }\n    },\n    {\n      \"column\": \"puntos\",\n      \"properties\": {\n        \"dtype\": \"number\",\n        \"std\": 2,\n        \"min\": 0,\n        \"max\": 9,\n        \"num_unique_values\": 8,\n        \"samples\": [\n          3\n        ],\n        \"semantic_type\": \"\",\n        \"description\": \"\"\n      }\n    },\n    {\n      \"column\": \"clasificado\",\n      \"properties\": {\n        \"dtype\": \"number\",\n        \"std\": 0,\n        \"min\": 0,\n        \"max\": 1,\n        \"num_unique_values\": 2,\n        \"samples\": [\n          0\n        ],\n        \"semantic_type\": \"\",\n        \"description\": \"\"\n      }\n    }\n  ]\n}"
            }
          },
          "metadata": {},
          "execution_count": 4
        }
      ]
    },
    {
      "cell_type": "code",
      "source": [
        "#Probabilidad de pertenecer a Africa\n",
        "Pertenecer_Africa = probabilidad[\"continent\"].value_counts(\"%\")[\"africa\"]*100\n",
        "print(f\"La probabilidad de pertenecer a Africa es: {Pertenecer_Africa}\")"
      ],
      "metadata": {
        "colab": {
          "base_uri": "https://localhost:8080/"
        },
        "id": "iVLFmZCDVLjj",
        "outputId": "686b9f44-f4f0-4a32-9d19-5f648a32ff84"
      },
      "execution_count": null,
      "outputs": [
        {
          "output_type": "stream",
          "name": "stdout",
          "text": [
            "La probabilidad de pertenecer a Africa es: 15.625\n"
          ]
        }
      ]
    },
    {
      "cell_type": "code",
      "source": [
        "#Probabilidad de pertenecer a Asia\n",
        "Pertenecer_Asia = probabilidad[\"continent\"].value_counts(\"%\")[\"asia\"]*100\n",
        "print(f\"La probabilidad de pertenecer a Asia es: {Pertenecer_Asia}\")"
      ],
      "metadata": {
        "colab": {
          "base_uri": "https://localhost:8080/"
        },
        "id": "PzKTzM4aZgQB",
        "outputId": "222e0239-3a3b-49e1-aff5-6ec044f6b898"
      },
      "execution_count": null,
      "outputs": [
        {
          "output_type": "stream",
          "name": "stdout",
          "text": [
            "La probabilidad de pertenecer a Asia es: 12.5\n"
          ]
        }
      ]
    },
    {
      "cell_type": "code",
      "source": [
        "#Probabilidad de pertenecer a Europa\n",
        "Pertenecer_Europa = probabilidad[\"continent\"].value_counts(\"%\")[\"europe\"]*100\n",
        "print(f\"La probabilidad de pertenecer a Europa es: {Pertenecer_Europa}\")"
      ],
      "metadata": {
        "colab": {
          "base_uri": "https://localhost:8080/"
        },
        "id": "WDgfntrTcJGr",
        "outputId": "c0326a7f-a912-4829-8a5e-675bb345a540"
      },
      "execution_count": null,
      "outputs": [
        {
          "output_type": "stream",
          "name": "stdout",
          "text": [
            "La probabilidad de pertenecer a Europa es: 40.625\n"
          ]
        }
      ]
    },
    {
      "cell_type": "code",
      "source": [
        "#Probabilidad de pertenecer a Norteamerica\n",
        "Pertenecer_Norteamerica = probabilidad[\"continent\"].value_counts(\"%\")[\"northamerica\"]*100\n",
        "print(f\"La probabilidad de pertenecer a Norteamerica es: {Pertenecer_Norteamerica}\")"
      ],
      "metadata": {
        "colab": {
          "base_uri": "https://localhost:8080/"
        },
        "id": "APSM4qWXcY1h",
        "outputId": "393ea012-d241-4058-de4d-e939da52aa08"
      },
      "execution_count": null,
      "outputs": [
        {
          "output_type": "stream",
          "name": "stdout",
          "text": [
            "La probabilidad de pertenecer a Norteamerica es: 12.5\n"
          ]
        }
      ]
    },
    {
      "cell_type": "code",
      "source": [
        "#Probabilidad de pertenecer a Suadmerica\n",
        "Pertenecer_Suadmerica = probabilidad[\"continent\"].value_counts(\"%\")[\"southamerica\"]*100\n",
        "print(f\"La probabilidad de pertenecer a Sudamerica es: {Pertenecer_Suadmerica}\")"
      ],
      "metadata": {
        "colab": {
          "base_uri": "https://localhost:8080/"
        },
        "id": "GEWXhyKXcsCJ",
        "outputId": "02a42ea6-6277-4d02-8888-65307b845d93"
      },
      "execution_count": null,
      "outputs": [
        {
          "output_type": "stream",
          "name": "stdout",
          "text": [
            "La probabilidad de pertenecer a Sudamerica es: 18.75\n"
          ]
        }
      ]
    },
    {
      "cell_type": "code",
      "source": [
        "#Probabilidad de pasar a segunda ronda\n",
        "Pasar_segundaronda = probabilidad[\"clasificado\"].value_counts(\"%\")[1]*100\n",
        "print(f\"La probabilidad de pasar a segunda ronda es: {Pasar_segundaronda}\")"
      ],
      "metadata": {
        "colab": {
          "base_uri": "https://localhost:8080/"
        },
        "id": "kbJWoqLYf1jL",
        "outputId": "1122d009-3f33-4424-cc8c-4a48a9273d42"
      },
      "execution_count": null,
      "outputs": [
        {
          "output_type": "stream",
          "name": "stdout",
          "text": [
            "La probabilidad de pasar a segunda ronda es: 50.0\n"
          ]
        }
      ]
    },
    {
      "cell_type": "code",
      "source": [
        "#Probabilidad de haber ganado al menos un partido\n",
        "equipos_ganadores = probabilidad[probabilidad[\"juegos_ganados\"] > 0]\n",
        "probabilidad_ganadores = (len(equipos_ganadores) / len(probabilidad))*100\n",
        "print(f\"La probabilidad de haber ganado al menos un partido es: {probabilidad_ganadores:.2f}\")"
      ],
      "metadata": {
        "colab": {
          "base_uri": "https://localhost:8080/"
        },
        "id": "GTyhERBJhNA2",
        "outputId": "443f69be-5d3c-4fcd-c218-8dd415bb3fae"
      },
      "execution_count": null,
      "outputs": [
        {
          "output_type": "stream",
          "name": "stdout",
          "text": [
            "La probabilidad de haber ganado al menos un partido es: 71.88\n"
          ]
        }
      ]
    },
    {
      "cell_type": "code",
      "source": [
        "import pandas as pd"
      ],
      "metadata": {
        "id": "HuSEj5km2Es8"
      },
      "execution_count": null,
      "outputs": []
    },
    {
      "cell_type": "code",
      "source": [
        "#Probabilidad de pertenecer a África y clasificar a segunda ronda\n",
        "condicion1 = (probabilidad[\"continent\"] == \"africa\") & (probabilidad[\"clasificado\"] == 1)"
      ],
      "metadata": {
        "id": "RJ3-yiBIqEog"
      },
      "execution_count": null,
      "outputs": []
    },
    {
      "cell_type": "code",
      "source": [
        "conteos = condicion1.value_counts(normalize=True)*100\n",
        "conteos_verdadero = conteos[conteos.index == True]\n",
        "print(f\"La probabilidad de pertenecer a África y clasificar a segunda ronda es: {conteos_verdadero}\")"
      ],
      "metadata": {
        "colab": {
          "base_uri": "https://localhost:8080/"
        },
        "id": "R__4vjUd2k4L",
        "outputId": "6cc3eeeb-f32d-46bf-aec2-624dda429b28"
      },
      "execution_count": null,
      "outputs": [
        {
          "output_type": "stream",
          "name": "stdout",
          "text": [
            "La probabilidad de pertenecer a África y clasificar a segunda ronda es: True    6.25\n",
            "Name: proportion, dtype: float64\n"
          ]
        }
      ]
    },
    {
      "cell_type": "code",
      "source": [
        "#Probabilidad de pertenecer a Europa y clasificar a segunda ronda\n",
        "condicion2 = (probabilidad[\"continent\"] == \"europe\") & (probabilidad[\"clasificado\"] == 1)\n",
        "conteos1 = condicion2.value_counts(normalize=True)*100\n",
        "conteos_verdadero1 = conteos1[conteos1.index == True]\n",
        "print(f\"La probabilidad de pertenecer a Europa y clasificar a segunda ronda es: {conteos_verdadero1}\")"
      ],
      "metadata": {
        "colab": {
          "base_uri": "https://localhost:8080/"
        },
        "id": "YIwWrZRS2uOR",
        "outputId": "b9656d43-1821-4d25-fd26-779f5c83ef9d"
      },
      "execution_count": null,
      "outputs": [
        {
          "output_type": "stream",
          "name": "stdout",
          "text": [
            "La probabilidad de pertenecer a Europa y clasificar a segunda ronda es: True    18.75\n",
            "Name: proportion, dtype: float64\n"
          ]
        }
      ]
    },
    {
      "cell_type": "code",
      "source": [
        "#Probabilidad de pertenecer a Asia y clasificar a segunda ronda\n",
        "condicion3 = (probabilidad[\"continent\"] == \"asia\") & (probabilidad[\"clasificado\"] == 1)\n",
        "conteos2 = condicion3.value_counts(normalize=True)*100\n",
        "conteos_verdadero2 = conteos2[conteos2.index == True]\n",
        "print(f\"La probabilidad de pertenecer a Asia y clasificar a segunda ronda es: {conteos_verdadero2}\")\n",
        "#No hay probabilidad de que se cumplan ambas condiciones"
      ],
      "metadata": {
        "colab": {
          "base_uri": "https://localhost:8080/"
        },
        "id": "wFKbiF0RatVK",
        "outputId": "a0d0f88c-feec-4c9a-b40a-b060c0f8e165"
      },
      "execution_count": null,
      "outputs": [
        {
          "output_type": "stream",
          "name": "stdout",
          "text": [
            "La probabilidad de pertenecer a Asia y clasificar a segunda ronda es: Series([], Name: proportion, dtype: float64)\n"
          ]
        }
      ]
    },
    {
      "cell_type": "code",
      "source": [
        "#Probabilidad de pertenecer a Sudamerica y clasificar a segunda ronda\n",
        "condicion4 = (probabilidad[\"continent\"] == \"southamerica\") & (probabilidad[\"clasificado\"] == 1)\n",
        "conteos3 = condicion4.value_counts(normalize=True)*100\n",
        "conteos_verdadero3 = conteos3[conteos3.index == True]\n",
        "print(f\"La probabilidad de pertenecer a Sudamerica y clasificar a segunda ronda es: {conteos_verdadero3}\")"
      ],
      "metadata": {
        "colab": {
          "base_uri": "https://localhost:8080/"
        },
        "id": "ySCkwDuZbNTv",
        "outputId": "a9c0ae42-806a-4b76-a1c8-b6679cdbc908"
      },
      "execution_count": null,
      "outputs": [
        {
          "output_type": "stream",
          "name": "stdout",
          "text": [
            "La probabilidad de pertenecer a Sudamerica y clasificar a segunda ronda es: True    15.625\n",
            "Name: proportion, dtype: float64\n"
          ]
        }
      ]
    },
    {
      "cell_type": "code",
      "source": [
        "#Probabilidad de pertenecer a Norteamerica y clasificar a segunda ronda\n",
        "condicion5 = (probabilidad[\"continent\"] == \"northamerica\") & (probabilidad[\"clasificado\"] == 1)\n",
        "conteos4 = condicion5.value_counts(normalize=True)*100\n",
        "conteos_verdadero4 = conteos4[conteos4.index == True]\n",
        "print(f\"La probabilidad de pertenecer a Norteamerica y clasificar a segunda ronda es: {conteos_verdadero4}\")"
      ],
      "metadata": {
        "colab": {
          "base_uri": "https://localhost:8080/"
        },
        "id": "xXcCTHMYb36i",
        "outputId": "390cdf75-1687-4975-f257-443a0a26cf7b"
      },
      "execution_count": null,
      "outputs": [
        {
          "output_type": "stream",
          "name": "stdout",
          "text": [
            "La probabilidad de pertenecer a Norteamerica y clasificar a segunda ronda es: True    9.375\n",
            "Name: proportion, dtype: float64\n"
          ]
        }
      ]
    },
    {
      "cell_type": "code",
      "source": [
        "#Probabilidad de pertenecer a África o clasificar a segunda ronda\n",
        "condicion6 = (probabilidad[\"continent\"] == \"africa\") | (probabilidad[\"clasificado\"] == 1)\n",
        "conteos5 = condicion6.value_counts(normalize=True)*100\n",
        "conteos_verdadero5 = conteos5[conteos5.index == True]\n",
        "print(f\"La probabilidad de pertenecer a África o clasificar a segunda ronda es: {conteos_verdadero5}\")"
      ],
      "metadata": {
        "colab": {
          "base_uri": "https://localhost:8080/"
        },
        "id": "qdTczTnZgJqD",
        "outputId": "a3031a2b-446b-4517-fa99-03ede37c58d4"
      },
      "execution_count": null,
      "outputs": [
        {
          "output_type": "stream",
          "name": "stdout",
          "text": [
            "La probabilidad de pertenecer a África o clasificar a segunda ronda es: True    59.375\n",
            "Name: proportion, dtype: float64\n"
          ]
        }
      ]
    },
    {
      "cell_type": "code",
      "source": [
        "#Probabilidad de pertenecer a Éuropa o clasificar a segunda ronda\n",
        "condicion7 = (probabilidad[\"continent\"] == \"europe\") | (probabilidad[\"clasificado\"] == 1)\n",
        "conteos6 = condicion7.value_counts(normalize=True)*100\n",
        "conteos_verdadero6 = conteos6[conteos6.index == True]\n",
        "print(f\"La probabilidad de pertenecer a Éuropa o clasificar a segunda ronda es: {conteos_verdadero6}\")"
      ],
      "metadata": {
        "colab": {
          "base_uri": "https://localhost:8080/"
        },
        "id": "1HUGl1pogftX",
        "outputId": "1918379a-1aab-46dc-ff77-e39012a60028"
      },
      "execution_count": null,
      "outputs": [
        {
          "output_type": "stream",
          "name": "stdout",
          "text": [
            "La probabilidad de pertenecer a Éuropa o clasificar a segunda ronda es: True    71.875\n",
            "Name: proportion, dtype: float64\n"
          ]
        }
      ]
    },
    {
      "cell_type": "code",
      "source": [
        "#Probabilidad de pertenecer a Ásia o clasificar a segunda ronda\n",
        "condicion8 = (probabilidad[\"continent\"] == \"asia\") | (probabilidad[\"clasificado\"] == 1)\n",
        "conteos7 = condicion8.value_counts(normalize=True)*100\n",
        "conteos_verdadero7 = conteos7[conteos7.index == True]\n",
        "print(f\"La probabilidad de pertenecer a Ásia o clasificar a segunda ronda es: {conteos_verdadero7}\")"
      ],
      "metadata": {
        "colab": {
          "base_uri": "https://localhost:8080/"
        },
        "id": "SAR65ZsGguMQ",
        "outputId": "765b3086-1b7d-4aab-cb93-ad70c96dd967"
      },
      "execution_count": null,
      "outputs": [
        {
          "output_type": "stream",
          "name": "stdout",
          "text": [
            "La probabilidad de pertenecer a Ásia o clasificar a segunda ronda es: True    62.5\n",
            "Name: proportion, dtype: float64\n"
          ]
        }
      ]
    },
    {
      "cell_type": "code",
      "source": [
        "#Probabilidad de pertenecer a Sudamerica o clasificar a segunda ronda\n",
        "condicion9 = (probabilidad[\"continent\"] == \"southamerica\") | (probabilidad[\"clasificado\"] == 1)\n",
        "conteos8 = condicion9.value_counts(normalize=True)*100\n",
        "conteos_verdadero8 = conteos8[conteos8.index == True]\n",
        "print(f\"La probabilidad de pertenecer a Sudamerica o clasificar a segunda ronda es: {conteos_verdadero8}\")"
      ],
      "metadata": {
        "colab": {
          "base_uri": "https://localhost:8080/"
        },
        "id": "RjAXJ3g8g8MZ",
        "outputId": "266ceeb2-c728-4574-ba0d-0b0f2f2035ec"
      },
      "execution_count": null,
      "outputs": [
        {
          "output_type": "stream",
          "name": "stdout",
          "text": [
            "La probabilidad de pertenecer a Sudamerica o clasificar a segunda ronda es: True    53.125\n",
            "Name: proportion, dtype: float64\n"
          ]
        }
      ]
    },
    {
      "cell_type": "code",
      "source": [
        "#Probabilidad de pertenecer a Nortemarica o clasificar a segunda ronda\n",
        "condicion10 = (probabilidad[\"continent\"] == \"northamerica\") | (probabilidad[\"clasificado\"] == 1)\n",
        "conteos9 = condicion10.value_counts(normalize=True)*100\n",
        "conteos_verdadero9 = conteos9[conteos9.index == True]\n",
        "print(f\"La probabilidad de pertenecer a Nortemarica o clasificar a segunda ronda es: {conteos_verdadero9}\")"
      ],
      "metadata": {
        "colab": {
          "base_uri": "https://localhost:8080/"
        },
        "id": "ysQUhMhkhLL9",
        "outputId": "0b505079-0c43-47ab-f8bc-d03a04f768ee"
      },
      "execution_count": null,
      "outputs": [
        {
          "output_type": "stream",
          "name": "stdout",
          "text": [
            "La probabilidad de pertenecer a Nortemarica o clasificar a segunda ronda es: True    53.125\n",
            "Name: proportion, dtype: float64\n"
          ]
        }
      ]
    },
    {
      "cell_type": "code",
      "source": [
        "#Probabilidad de pertenecer a África y haber ganado al menos un partido\n",
        "condicion11 = (probabilidad[\"continent\"] == \"africa\") & (probabilidad[\"juegos_ganados\"] > 0)\n",
        "conteos10 = condicion11.value_counts(normalize=True)*100\n",
        "conteos_verdadero10 = conteos10[conteos10.index == True]\n",
        "print(f\"La probabilidad de pertenecer a África y haber ganado al menos un partido es: {conteos_verdadero10}\")"
      ],
      "metadata": {
        "colab": {
          "base_uri": "https://localhost:8080/"
        },
        "id": "N2IiVlt3hWd4",
        "outputId": "d3d0cdcd-8142-4eec-c6a8-4651df774c5b"
      },
      "execution_count": null,
      "outputs": [
        {
          "output_type": "stream",
          "name": "stdout",
          "text": [
            "La probabilidad de pertenecer a África y haber ganado al menos un partido es: True    9.375\n",
            "Name: proportion, dtype: float64\n"
          ]
        }
      ]
    },
    {
      "cell_type": "code",
      "source": [
        "#Probabilidad de pertenecer a Europa y haber ganado al menos un partido\n",
        "condicion12 = (probabilidad[\"continent\"] == \"europe\") & (probabilidad[\"juegos_ganados\"] > 0)\n",
        "conteos11 = condicion12.value_counts(normalize=True)*100\n",
        "conteos_verdadero11 = conteos11[conteos11.index == True]\n",
        "print(f\"La probabilidad de pertenecer a Europa y haber ganado al menos un partido es: {conteos_verdadero11}\")"
      ],
      "metadata": {
        "colab": {
          "base_uri": "https://localhost:8080/"
        },
        "id": "oXQ-xLO3pMcM",
        "outputId": "d70b69fc-0f3c-4dc3-a367-c31757930903"
      },
      "execution_count": null,
      "outputs": [
        {
          "output_type": "stream",
          "name": "stdout",
          "text": [
            "La probabilidad de pertenecer a Europa y haber ganado al menos un partido es: True    34.375\n",
            "Name: proportion, dtype: float64\n"
          ]
        }
      ]
    },
    {
      "cell_type": "code",
      "source": [
        "#Probabilidad de pertenecer a Asia y haber ganado al menos un partido\n",
        "condicion13 = (probabilidad[\"continent\"] == \"asia\") & (probabilidad[\"juegos_ganados\"] > 0)\n",
        "conteos12 = condicion13.value_counts(normalize=True)*100\n",
        "conteos_verdadero12 = conteos12[conteos12.index == True]\n",
        "print(f\"La probabilidad de pertenecer a Asia y haber ganado al menos un partido es: {conteos_verdadero12}\")\n",
        "#No hay probabilidad de pertenecer a Asia y haber ganado al menos un partido"
      ],
      "metadata": {
        "colab": {
          "base_uri": "https://localhost:8080/"
        },
        "id": "B9Ai-lbgw-OD",
        "outputId": "7651a31e-90d8-4d6b-85cb-78c38473c44e"
      },
      "execution_count": null,
      "outputs": [
        {
          "output_type": "stream",
          "name": "stdout",
          "text": [
            "La probabilidad de pertenecer a Asia y haber ganado al menos un partido es: Series([], Name: proportion, dtype: float64)\n"
          ]
        }
      ]
    },
    {
      "cell_type": "code",
      "source": [
        "#Probabilidad de pertenecer a Sudamerica y haber ganado al menos un partido\n",
        "condicion14 = (probabilidad[\"continent\"] == \"southamerica\") & (probabilidad[\"juegos_ganados\"] > 0)\n",
        "conteos13 = condicion14.value_counts(normalize = True)*100\n",
        "conteos_verdadero13 = conteos13[conteos13.index == True]\n",
        "print(f\"La probabilidad de pertenecer a Sudamerica y haber ganado al menos un partido es: {conteos_verdadero13}\")"
      ],
      "metadata": {
        "colab": {
          "base_uri": "https://localhost:8080/"
        },
        "id": "CVFwjwgpxahN",
        "outputId": "f045865a-68f8-4816-f7de-0a0036e21c9a"
      },
      "execution_count": null,
      "outputs": [
        {
          "output_type": "stream",
          "name": "stdout",
          "text": [
            "La probabilidad de pertenecer a Sudamerica y haber ganado al menos un partido es: True    18.75\n",
            "Name: proportion, dtype: float64\n"
          ]
        }
      ]
    },
    {
      "cell_type": "code",
      "source": [
        "#Probabilidad de pertenecer a Norteamerica y haber ganado al menos un partido\n",
        "condicion15 = (probabilidad[\"continent\"] == \"northamerica\") & (probabilidad[\"juegos_ganados\"] > 0)\n",
        "conteos14 = condicion15.value_counts(normalize = True)*100\n",
        "conteos_verdadero14 = conteos14[conteos14.index == True]\n",
        "print(f\"La probabilidad de pertenecer a Norteamerica y haber ganado al menos un partido es: {conteos_verdadero14}\")"
      ],
      "metadata": {
        "colab": {
          "base_uri": "https://localhost:8080/"
        },
        "id": "X4f8fV8uyHUB",
        "outputId": "0e02b39d-3694-4c61-cc04-ae50abb11904"
      },
      "execution_count": null,
      "outputs": [
        {
          "output_type": "stream",
          "name": "stdout",
          "text": [
            "La probabilidad de pertenecer a Norteamerica y haber ganado al menos un partido es: True    9.375\n",
            "Name: proportion, dtype: float64\n"
          ]
        }
      ]
    },
    {
      "cell_type": "code",
      "source": [
        "#Probabilidad de haber ganado al menos un partido y clasificar a segunda ronda\n",
        "condicion16 = (probabilidad[\"clasificado\"] == 1) & (probabilidad[\"juegos_ganados\"] > 0)\n",
        "conteos15 = condicion16.value_counts(normalize = True)*100\n",
        "conteos_verdadero15 = conteos15[conteos15.index == True]\n",
        "print(f\"La probabilidad de haber ganado al menos un partido y clasificar a segunda ronda es: {conteos_verdadero15}\")"
      ],
      "metadata": {
        "colab": {
          "base_uri": "https://localhost:8080/"
        },
        "id": "u6svtEBmzDv9",
        "outputId": "dba513f5-3041-4c0f-d2a7-19bc8e5371b9"
      },
      "execution_count": null,
      "outputs": [
        {
          "output_type": "stream",
          "name": "stdout",
          "text": [
            "La probabilidad de haber ganado al menos un partido y clasificar a segunda ronda es: True    50.0\n",
            "Name: proportion, dtype: float64\n"
          ]
        }
      ]
    },
    {
      "cell_type": "markdown",
      "source": [
        "Probabilidad de pertenecer a Europa si se sabe que clasifico (probabilidad de que ocurra A dado que ocurrió B)\n",
        "\n",
        "P(A) = pertenecer a Europa\n",
        "\n",
        "P(B) = clasificó\n",
        "\n",
        "𝑃(𝐴/𝐵) = 𝑃(𝐴𝑦𝐵) / 𝑃(𝐵)\n",
        "\n",
        "𝑃(𝐴𝑦𝐵) = 𝑃(𝐴) · 𝑃(𝐵/𝐴)\n"
      ],
      "metadata": {
        "id": "v_O5y1XW1fYB"
      }
    },
    {
      "cell_type": "code",
      "source": [
        "P_A = Pertenecer_Europa\n",
        "P_B = Pasar_segundaronda\n",
        "P_B_y_A = conteos_verdadero1\n",
        "P_A_dado_B = P_A_y_B / P_B"
      ],
      "metadata": {
        "id": "Zu4jhVcP2ZPP"
      },
      "execution_count": null,
      "outputs": []
    },
    {
      "cell_type": "code",
      "source": [
        "print(P_A) #probabilidad de que pertenezca a Europa P(A)\n",
        "print(P_B) #probabilidad de que haya clasificado P(B)\n",
        "print(P_B_y_A) #probabilidad de que haya clasificado dado que pertenece a Europa (P(B/A))"
      ],
      "metadata": {
        "colab": {
          "base_uri": "https://localhost:8080/"
        },
        "id": "BtZgQhP82cWO",
        "outputId": "b6bd9219-2737-42cf-bf25-ed98dc923285"
      },
      "execution_count": null,
      "outputs": [
        {
          "output_type": "stream",
          "name": "stdout",
          "text": [
            "40.625\n",
            "50.0\n",
            "True    18.75\n",
            "Name: proportion, dtype: float64\n"
          ]
        }
      ]
    },
    {
      "cell_type": "code",
      "source": [
        "resultado1 = (P_A * P_B_y_A) / P_B\n",
        "print(f\"La probabilidad de pertenecer a Europa si se sabe que clasifico es: {resultado1}\")"
      ],
      "metadata": {
        "colab": {
          "base_uri": "https://localhost:8080/"
        },
        "id": "TV9TfvIS6H6M",
        "outputId": "28a29ff7-6f57-4a9c-af34-f26bc7036ac7"
      },
      "execution_count": null,
      "outputs": [
        {
          "output_type": "stream",
          "name": "stdout",
          "text": [
            "La probabilidad de pertenecer a Europa si se sabe que clasifico es: True    15.234375\n",
            "Name: proportion, dtype: float64\n"
          ]
        }
      ]
    },
    {
      "cell_type": "markdown",
      "source": [
        "Probabilidad de pertenecer a Sudamerica si se sabe que clasifico (probabilidad de que ocurra C dado que ocurrió B)\n",
        "\n",
        "P(C) = pertenecer a Sudamerica\n",
        "\n",
        "P(B) = clasificó\n",
        "\n",
        "𝑃(C/B) = 𝑃(C𝑦B) / 𝑃(B)\n",
        "\n",
        "𝑃(C𝑦B) = 𝑃(C) · 𝑃(B/C)"
      ],
      "metadata": {
        "id": "-iCenKcY7c-5"
      }
    },
    {
      "cell_type": "code",
      "source": [
        "P_C = Pertenecer_Suadmerica\n",
        "P_B = Pasar_segundaronda\n",
        "P_B_y_C = conteos_verdadero3"
      ],
      "metadata": {
        "id": "NriPfXZw76f2"
      },
      "execution_count": null,
      "outputs": []
    },
    {
      "cell_type": "code",
      "source": [
        "print(P_C) #probabilidad de que pertenezca a Sudamerica P(C)\n",
        "print(P_B) #probabilidad de que haya clasificado P(B)\n",
        "print(P_B_y_C) #probabilidad de que haya clasificado dado que pertenece a Suademerica (P(B/C))"
      ],
      "metadata": {
        "colab": {
          "base_uri": "https://localhost:8080/"
        },
        "id": "7ItkMndc8cmR",
        "outputId": "137cc78b-c44d-4867-9b03-a3a4de15a7c5"
      },
      "execution_count": null,
      "outputs": [
        {
          "output_type": "stream",
          "name": "stdout",
          "text": [
            "18.75\n",
            "50.0\n",
            "True    15.625\n",
            "Name: proportion, dtype: float64\n"
          ]
        }
      ]
    },
    {
      "cell_type": "code",
      "source": [
        "resultado2 = (P_C * P_B_y_C) / P_B\n",
        "print(f\"La probabilidad de pertenecer a Suademerica si se sabe que clasifico es: {resultado2}\")"
      ],
      "metadata": {
        "colab": {
          "base_uri": "https://localhost:8080/"
        },
        "id": "GEvP_W1_-aOu",
        "outputId": "7896cd81-901e-44cd-f166-9720184d9387"
      },
      "execution_count": null,
      "outputs": [
        {
          "output_type": "stream",
          "name": "stdout",
          "text": [
            "La probabilidad de pertenecer a Suademerica si se sabe que clasifico es: True    5.859375\n",
            "Name: proportion, dtype: float64\n"
          ]
        }
      ]
    },
    {
      "cell_type": "markdown",
      "source": [
        "Probabilidad de pertenecer a Africa si se sabe que gano al menos un partido (probabilidad de que ocurra D dado que ocurrió E)\n",
        "\n",
        "P(D) = pertenecer a Africa\n",
        "\n",
        "P(E) = gano al menos un partido\n",
        "\n",
        "𝑃(D/E) = 𝑃(D𝑦E) / 𝑃(E)\n",
        "\n",
        "𝑃(D𝑦E) = 𝑃(D) · 𝑃(E/D)"
      ],
      "metadata": {
        "id": "ext8XupY-ybE"
      }
    },
    {
      "cell_type": "code",
      "source": [
        "P_D = Pertenecer_Africa\n",
        "P_E = probabilidad_ganadores\n",
        "P_E_y_D = conteos_verdadero10"
      ],
      "metadata": {
        "id": "K_8Tu3q-_NxS"
      },
      "execution_count": null,
      "outputs": []
    },
    {
      "cell_type": "code",
      "source": [
        "print(P_D) #probabilidad de que pertenezca a Africa P(D)\n",
        "print(P_E) #probabilidad de que haya ganado al menos un partido P(D)\n",
        "print(P_E_y_D) #probabilidad de que haya ganado al menos un partido dado que pertenece a Africa (P(E/D))"
      ],
      "metadata": {
        "colab": {
          "base_uri": "https://localhost:8080/"
        },
        "id": "eUOOYIZG_m5E",
        "outputId": "0ed132a7-8878-45ee-bd55-f38540d24ee3"
      },
      "execution_count": null,
      "outputs": [
        {
          "output_type": "stream",
          "name": "stdout",
          "text": [
            "15.625\n",
            "71.875\n",
            "True    9.375\n",
            "Name: proportion, dtype: float64\n"
          ]
        }
      ]
    },
    {
      "cell_type": "code",
      "source": [
        "resultado3 = (P_D * P_E_y_D) / P_E\n",
        "print(f\"La probabilidad de pertenecer a Africa si se sabe que gano al menos un partido es: {resultado3}\")"
      ],
      "metadata": {
        "colab": {
          "base_uri": "https://localhost:8080/"
        },
        "id": "6h7RBRrT_sPP",
        "outputId": "866bd241-2e4c-4f90-e3d7-ba528125e186"
      },
      "execution_count": null,
      "outputs": [
        {
          "output_type": "stream",
          "name": "stdout",
          "text": [
            "La probabilidad de pertenecer a Africa si se sabe que gano al menos un partido es: True    2.038043\n",
            "Name: proportion, dtype: float64\n"
          ]
        }
      ]
    },
    {
      "cell_type": "markdown",
      "source": [
        "Probabilidad de haber ganado al menos un partido si se sabe que clasifico (probabilidad de que ocurra F dado que ocurrió B)\n",
        "\n",
        "P(F) = haber ganado al menos un partido\n",
        "\n",
        "P(B) = clasificó\n",
        "\n",
        "𝑃(F/B) = 𝑃(F𝑦B) / 𝑃(B)\n",
        "\n",
        "𝑃(F𝑦B) = 𝑃(F) · 𝑃(B/F)"
      ],
      "metadata": {
        "id": "sVg-NolGAN3j"
      }
    },
    {
      "cell_type": "code",
      "source": [
        "P_F = probabilidad_ganadores\n",
        "P_B = Pasar_segundaronda\n",
        "P_B_y_F = conteos_verdadero15\n",
        "print(P_F) #probabilidad de haber ganado al menos un partido P(F)\n",
        "print(P_B) #probabilidad de que haber pasado a segunda ronda P(B)\n",
        "print(P_B_y_F) #probabilidad de haber clasificado dado que gano al menos un partido P(B/F)"
      ],
      "metadata": {
        "colab": {
          "base_uri": "https://localhost:8080/"
        },
        "id": "m0P1qLOpAwtc",
        "outputId": "30d34d78-1cee-4160-d7d7-a5c716788a75"
      },
      "execution_count": null,
      "outputs": [
        {
          "output_type": "stream",
          "name": "stdout",
          "text": [
            "71.875\n",
            "50.0\n",
            "True    50.0\n",
            "Name: proportion, dtype: float64\n"
          ]
        }
      ]
    },
    {
      "cell_type": "code",
      "source": [
        "resultado4 = (P_A * P_B_y_F) / P_B\n",
        "print(f\"La probabilidad de haber ganado al menos un partido si se sabe que clasifico es: {resultado4}\")"
      ],
      "metadata": {
        "colab": {
          "base_uri": "https://localhost:8080/"
        },
        "id": "h7ATHFB3BHu7",
        "outputId": "ade47719-57ad-46cd-923e-7d72f58e056d"
      },
      "execution_count": null,
      "outputs": [
        {
          "output_type": "stream",
          "name": "stdout",
          "text": [
            "La probabilidad de haber ganado al menos un partido si se sabe que clasifico es: True    40.625\n",
            "Name: proportion, dtype: float64\n"
          ]
        }
      ]
    },
    {
      "cell_type": "markdown",
      "source": [
        "Probabilidad de haber ganado al menos un partido si se sabe que pertenece a Norteamerica (probabilidad de que ocurra F dado que ocurrió G)\n",
        "\n",
        "P(F) = haber ganado al menos un partido\n",
        "\n",
        "P(G) = pertenecer a norteamerica\n",
        "\n",
        "𝑃(F/G) = 𝑃(FyG) / 𝑃(G)\n",
        "\n",
        "𝑃(F𝑦G) = 𝑃(F) · 𝑃(G/F)"
      ],
      "metadata": {
        "id": "bkAXYklfB9SX"
      }
    },
    {
      "cell_type": "code",
      "source": [
        "P_F = probabilidad_ganadores\n",
        "P_G = Pertenecer_Norteamerica\n",
        "P_G_y_F = conteos_verdadero14\n",
        "print(P_F) #probabilidad de haber ganado al menos un partido P(F)\n",
        "print(P_G) #probabilidad de pertenecer a Norteamerica P(G)\n",
        "print(P_G_y_F) #probabilidad de pertenecer a Norteamerica dado que gano al menos un partido P(G/F)"
      ],
      "metadata": {
        "colab": {
          "base_uri": "https://localhost:8080/"
        },
        "id": "HG_H9PttCqOn",
        "outputId": "ed22fd70-1e44-4a90-9def-f0d5d660be33"
      },
      "execution_count": null,
      "outputs": [
        {
          "output_type": "stream",
          "name": "stdout",
          "text": [
            "71.875\n",
            "12.5\n",
            "True    9.375\n",
            "Name: proportion, dtype: float64\n"
          ]
        }
      ]
    },
    {
      "cell_type": "code",
      "source": [
        "resultado5 = (P_F * P_G_y_F) / P_G\n",
        "print(f\"La probabilidad de haber ganado al menos un partido sí se sabe que pertenece a Norteamerica: {resultado5}\")"
      ],
      "metadata": {
        "colab": {
          "base_uri": "https://localhost:8080/"
        },
        "id": "8zg-XhKoDX58",
        "outputId": "301ed689-f832-4b88-c5ff-26b35e0dc6f6"
      },
      "execution_count": null,
      "outputs": [
        {
          "output_type": "stream",
          "name": "stdout",
          "text": [
            "La probabilidad de haber ganado al menos un partido sí se sabe que pertenece a Norteamerica: True    53.90625\n",
            "Name: proportion, dtype: float64\n"
          ]
        }
      ]
    },
    {
      "cell_type": "code",
      "source": [
        "#Probabilidad de NO pasar a segunda ronda\n",
        "Pasar_NOsegundaronda = probabilidad[\"clasificado\"].value_counts(\"%\")[0]*100\n",
        "print(f\"La probabilidad de NO pasar a segunda ronda es: {Pasar_NOsegundaronda}\")"
      ],
      "metadata": {
        "colab": {
          "base_uri": "https://localhost:8080/"
        },
        "id": "Uf5snMjMEu8B",
        "outputId": "76c9d0d7-3b41-47e1-9573-59782b58544f"
      },
      "execution_count": null,
      "outputs": [
        {
          "output_type": "stream",
          "name": "stdout",
          "text": [
            "La probabilidad de NO pasar a segunda ronda es: 50.0\n"
          ]
        }
      ]
    },
    {
      "cell_type": "code",
      "source": [
        "#Probabilidad de no clasificar y pertenecer a Africa\n",
        "condicion17 = (probabilidad[\"continent\"] == \"africa\") & (probabilidad[\"clasificado\"] == 0)\n",
        "conteos16 = condicion17.value_counts(normalize=True)*100\n",
        "conteos_verdadero16 = conteos16[conteos16.index == True]\n",
        "print(f\"La probabilidad de pertenecer a Nortemarica y NO clasificar a segunda ronda es: {conteos_verdadero16}\")"
      ],
      "metadata": {
        "colab": {
          "base_uri": "https://localhost:8080/"
        },
        "id": "bv8NqCxmFay4",
        "outputId": "e39d8887-942a-4406-94fb-0f3e8e88d15d"
      },
      "execution_count": null,
      "outputs": [
        {
          "output_type": "stream",
          "name": "stdout",
          "text": [
            "La probabilidad de pertenecer a Nortemarica y NO clasificar a segunda ronda es: True    9.375\n",
            "Name: proportion, dtype: float64\n"
          ]
        }
      ]
    },
    {
      "cell_type": "markdown",
      "source": [
        "Probabilidad de NO haber clasificado si se sabe que pertenece a Africa (probabilidad de que ocurra H dado que ocurrió I)\n",
        "\n",
        "P(H) = No clasificar\n",
        "\n",
        "P(I) = pertenecer a Africa\n",
        "\n",
        "𝑃(H/I) = 𝑃(HyI) / 𝑃(I)\n",
        "\n",
        "𝑃(H𝑦I) = 𝑃(H) · 𝑃(I/H)"
      ],
      "metadata": {
        "id": "P96gE3V9GgaZ"
      }
    },
    {
      "cell_type": "code",
      "source": [
        "P_H = Pasar_NOsegundaronda\n",
        "P_I = Pertenecer_Africa\n",
        "P_I_y_H = conteos_verdadero16\n",
        "print(P_H) #probabilidad de no clasificar P(H)\n",
        "print(P_I) #probabilidad de pertenecer a Africa P(I)\n",
        "print(P_I_y_H) #probabilidad de pertenecer a Africa dado que no se clasifico P(I/H)"
      ],
      "metadata": {
        "colab": {
          "base_uri": "https://localhost:8080/"
        },
        "id": "HLTBRGKAGc3-",
        "outputId": "3fdbb224-d828-4074-a7e1-22324277750b"
      },
      "execution_count": null,
      "outputs": [
        {
          "output_type": "stream",
          "name": "stdout",
          "text": [
            "50.0\n",
            "15.625\n",
            "True    9.375\n",
            "Name: proportion, dtype: float64\n"
          ]
        }
      ]
    },
    {
      "cell_type": "code",
      "source": [
        "resultado6 = (P_H * P_I_y_H) / P_I\n",
        "print(f\"La probabilidad de NO clasificar sí se sabe que pertenece a Africa: {resultado6}\")"
      ],
      "metadata": {
        "colab": {
          "base_uri": "https://localhost:8080/"
        },
        "id": "SzkHEaBDHBhp",
        "outputId": "d1202e05-829e-4c7e-9785-f956b00c435c"
      },
      "execution_count": null,
      "outputs": [
        {
          "output_type": "stream",
          "name": "stdout",
          "text": [
            "La probabilidad de NO clasificar sí se sabe que pertenece a Africa: True    30.0\n",
            "Name: proportion, dtype: float64\n"
          ]
        }
      ]
    }
  ]
}
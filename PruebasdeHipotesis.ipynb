{
  "cells": [
    {
      "cell_type": "markdown",
      "metadata": {
        "id": "view-in-github",
        "colab_type": "text"
      },
      "source": [
        "<a href=\"https://colab.research.google.com/github/vanesamp07/Python/blob/main/PruebasdeHipotesis.ipynb\" target=\"_parent\"><img src=\"https://colab.research.google.com/assets/colab-badge.svg\" alt=\"Open In Colab\"/></a>"
      ]
    },
    {
      "cell_type": "code",
      "execution_count": null,
      "id": "19978bb5-006e-49b8-89cd-dfb1f919e942",
      "metadata": {
        "id": "19978bb5-006e-49b8-89cd-dfb1f919e942",
        "outputId": "8788ac59-1f91-46f8-c626-94e81bc3d709"
      },
      "outputs": [
        {
          "name": "stdout",
          "output_type": "stream",
          "text": [
            "Requirement already satisfied: numpy in c:\\users\\usuario\\.ms-ad\\lib\\site-packages (1.26.4)\n",
            "Requirement already satisfied: scipy in c:\\users\\usuario\\.ms-ad\\lib\\site-packages (1.11.4)\n",
            "Note: you may need to restart the kernel to use updated packages.\n"
          ]
        }
      ],
      "source": [
        "pip install numpy scipy"
      ]
    },
    {
      "cell_type": "code",
      "execution_count": null,
      "id": "2dd7336b-6435-4880-b967-f49af44af011",
      "metadata": {
        "id": "2dd7336b-6435-4880-b967-f49af44af011"
      },
      "outputs": [],
      "source": [
        "import numpy as np\n",
        "import pandas as pd\n",
        "import matplotlib.pyplot as plt\n",
        "import seaborn as sns\n",
        "import scipy.stats as st\n",
        "import statsmodels.api as sm"
      ]
    },
    {
      "cell_type": "code",
      "execution_count": null,
      "id": "60e312e2-32c0-445e-b920-21fce5acb40c",
      "metadata": {
        "id": "60e312e2-32c0-445e-b920-21fce5acb40c"
      },
      "outputs": [],
      "source": [
        "df = pd.read_csv('earnings.csv')"
      ]
    },
    {
      "cell_type": "code",
      "execution_count": null,
      "id": "cfc25ea3-e421-4b0c-9d00-c56aa2bef8c8",
      "metadata": {
        "id": "cfc25ea3-e421-4b0c-9d00-c56aa2bef8c8",
        "outputId": "f2969ae7-d124-4146-d656-1cbd956f6b9d"
      },
      "outputs": [
        {
          "data": {
            "text/html": [
              "<div>\n",
              "<style scoped>\n",
              "    .dataframe tbody tr th:only-of-type {\n",
              "        vertical-align: middle;\n",
              "    }\n",
              "\n",
              "    .dataframe tbody tr th {\n",
              "        vertical-align: top;\n",
              "    }\n",
              "\n",
              "    .dataframe thead th {\n",
              "        text-align: right;\n",
              "    }\n",
              "</style>\n",
              "<table border=\"1\" class=\"dataframe\">\n",
              "  <thead>\n",
              "    <tr style=\"text-align: right;\">\n",
              "      <th></th>\n",
              "      <th>height</th>\n",
              "      <th>weight</th>\n",
              "      <th>male</th>\n",
              "      <th>earn</th>\n",
              "      <th>earnk</th>\n",
              "      <th>ethnicity</th>\n",
              "      <th>education</th>\n",
              "      <th>mother_education</th>\n",
              "      <th>father_education</th>\n",
              "      <th>walk</th>\n",
              "      <th>exercise</th>\n",
              "      <th>smokenow</th>\n",
              "      <th>tense</th>\n",
              "      <th>angry</th>\n",
              "      <th>age</th>\n",
              "    </tr>\n",
              "  </thead>\n",
              "  <tbody>\n",
              "    <tr>\n",
              "      <th>0</th>\n",
              "      <td>74</td>\n",
              "      <td>210.0</td>\n",
              "      <td>1</td>\n",
              "      <td>50000.0</td>\n",
              "      <td>50.0</td>\n",
              "      <td>White</td>\n",
              "      <td>16.0</td>\n",
              "      <td>16.0</td>\n",
              "      <td>16.0</td>\n",
              "      <td>3</td>\n",
              "      <td>3</td>\n",
              "      <td>2.0</td>\n",
              "      <td>0.0</td>\n",
              "      <td>0.0</td>\n",
              "      <td>45</td>\n",
              "    </tr>\n",
              "    <tr>\n",
              "      <th>1</th>\n",
              "      <td>66</td>\n",
              "      <td>125.0</td>\n",
              "      <td>0</td>\n",
              "      <td>60000.0</td>\n",
              "      <td>60.0</td>\n",
              "      <td>White</td>\n",
              "      <td>16.0</td>\n",
              "      <td>16.0</td>\n",
              "      <td>16.0</td>\n",
              "      <td>6</td>\n",
              "      <td>5</td>\n",
              "      <td>1.0</td>\n",
              "      <td>0.0</td>\n",
              "      <td>0.0</td>\n",
              "      <td>58</td>\n",
              "    </tr>\n",
              "    <tr>\n",
              "      <th>2</th>\n",
              "      <td>64</td>\n",
              "      <td>126.0</td>\n",
              "      <td>0</td>\n",
              "      <td>30000.0</td>\n",
              "      <td>30.0</td>\n",
              "      <td>White</td>\n",
              "      <td>16.0</td>\n",
              "      <td>16.0</td>\n",
              "      <td>16.0</td>\n",
              "      <td>8</td>\n",
              "      <td>1</td>\n",
              "      <td>2.0</td>\n",
              "      <td>1.0</td>\n",
              "      <td>1.0</td>\n",
              "      <td>29</td>\n",
              "    </tr>\n",
              "    <tr>\n",
              "      <th>3</th>\n",
              "      <td>65</td>\n",
              "      <td>200.0</td>\n",
              "      <td>0</td>\n",
              "      <td>25000.0</td>\n",
              "      <td>25.0</td>\n",
              "      <td>White</td>\n",
              "      <td>17.0</td>\n",
              "      <td>17.0</td>\n",
              "      <td>NaN</td>\n",
              "      <td>8</td>\n",
              "      <td>1</td>\n",
              "      <td>2.0</td>\n",
              "      <td>0.0</td>\n",
              "      <td>0.0</td>\n",
              "      <td>57</td>\n",
              "    </tr>\n",
              "    <tr>\n",
              "      <th>4</th>\n",
              "      <td>63</td>\n",
              "      <td>110.0</td>\n",
              "      <td>0</td>\n",
              "      <td>50000.0</td>\n",
              "      <td>50.0</td>\n",
              "      <td>Other</td>\n",
              "      <td>16.0</td>\n",
              "      <td>16.0</td>\n",
              "      <td>16.0</td>\n",
              "      <td>5</td>\n",
              "      <td>6</td>\n",
              "      <td>2.0</td>\n",
              "      <td>0.0</td>\n",
              "      <td>0.0</td>\n",
              "      <td>91</td>\n",
              "    </tr>\n",
              "  </tbody>\n",
              "</table>\n",
              "</div>"
            ],
            "text/plain": [
              "   height  weight  male     earn  earnk ethnicity  education  \\\n",
              "0      74   210.0     1  50000.0   50.0     White       16.0   \n",
              "1      66   125.0     0  60000.0   60.0     White       16.0   \n",
              "2      64   126.0     0  30000.0   30.0     White       16.0   \n",
              "3      65   200.0     0  25000.0   25.0     White       17.0   \n",
              "4      63   110.0     0  50000.0   50.0     Other       16.0   \n",
              "\n",
              "   mother_education  father_education  walk  exercise  smokenow  tense  angry  \\\n",
              "0              16.0              16.0     3         3       2.0    0.0    0.0   \n",
              "1              16.0              16.0     6         5       1.0    0.0    0.0   \n",
              "2              16.0              16.0     8         1       2.0    1.0    1.0   \n",
              "3              17.0               NaN     8         1       2.0    0.0    0.0   \n",
              "4              16.0              16.0     5         6       2.0    0.0    0.0   \n",
              "\n",
              "   age  \n",
              "0   45  \n",
              "1   58  \n",
              "2   29  \n",
              "3   57  \n",
              "4   91  "
            ]
          },
          "execution_count": 157,
          "metadata": {},
          "output_type": "execute_result"
        }
      ],
      "source": [
        "df.head()"
      ]
    },
    {
      "cell_type": "code",
      "execution_count": null,
      "id": "aba4e972-0e5b-4b69-bc64-05e7b6d5db1d",
      "metadata": {
        "id": "aba4e972-0e5b-4b69-bc64-05e7b6d5db1d",
        "outputId": "cf6f8f8d-4607-4769-aee2-71d6fc144c57"
      },
      "outputs": [
        {
          "name": "stdout",
          "output_type": "stream",
          "text": [
            "<class 'pandas.core.frame.DataFrame'>\n",
            "RangeIndex: 1816 entries, 0 to 1815\n",
            "Data columns (total 15 columns):\n",
            " #   Column            Non-Null Count  Dtype  \n",
            "---  ------            --------------  -----  \n",
            " 0   height            1816 non-null   int64  \n",
            " 1   weight            1789 non-null   float64\n",
            " 2   male              1816 non-null   int64  \n",
            " 3   earn              1816 non-null   float64\n",
            " 4   earnk             1816 non-null   float64\n",
            " 5   ethnicity         1816 non-null   object \n",
            " 6   education         1814 non-null   float64\n",
            " 7   mother_education  1572 non-null   float64\n",
            " 8   father_education  1521 non-null   float64\n",
            " 9   walk              1816 non-null   int64  \n",
            " 10  exercise          1816 non-null   int64  \n",
            " 11  smokenow          1815 non-null   float64\n",
            " 12  tense             1815 non-null   float64\n",
            " 13  angry             1815 non-null   float64\n",
            " 14  age               1816 non-null   int64  \n",
            "dtypes: float64(9), int64(5), object(1)\n",
            "memory usage: 212.9+ KB\n"
          ]
        }
      ],
      "source": [
        "df.info()"
      ]
    },
    {
      "cell_type": "code",
      "execution_count": null,
      "id": "6796d238-70fa-4ca5-8ac7-543630b2630d",
      "metadata": {
        "id": "6796d238-70fa-4ca5-8ac7-543630b2630d",
        "outputId": "f0a1dd72-e5d8-4e7e-ddcf-4125c1b60df7"
      },
      "outputs": [
        {
          "data": {
            "text/plain": [
              "22525.56058921212"
            ]
          },
          "execution_count": 39,
          "metadata": {},
          "output_type": "execute_result"
        }
      ],
      "source": [
        "Desviacion_estandar_earn = np.std(df[\"earn\"])\n",
        "Desviacion_estandar_earn"
      ]
    },
    {
      "cell_type": "code",
      "execution_count": null,
      "id": "4a4484ed-fa5e-408d-8585-6781cd99f8e8",
      "metadata": {
        "id": "4a4484ed-fa5e-408d-8585-6781cd99f8e8",
        "outputId": "b19f749d-2d2b-4ff6-cb78-ced114a37ef8"
      },
      "outputs": [
        {
          "data": {
            "text/plain": [
              "3.830767219735599"
            ]
          },
          "execution_count": 40,
          "metadata": {},
          "output_type": "execute_result"
        }
      ],
      "source": [
        "Desviacion_estandar_height = np.std(df[\"height\"])\n",
        "Desviacion_estandar_height"
      ]
    },
    {
      "cell_type": "code",
      "execution_count": null,
      "id": "dc7483d3-32ab-4463-8cec-24090075fe12",
      "metadata": {
        "id": "dc7483d3-32ab-4463-8cec-24090075fe12",
        "outputId": "86dfa937-304b-4348-a12d-980ff95e2ab0"
      },
      "outputs": [
        {
          "data": {
            "text/plain": [
              "17.15694594337249"
            ]
          },
          "execution_count": 41,
          "metadata": {},
          "output_type": "execute_result"
        }
      ],
      "source": [
        "Desviacion_estandar_age = np.std(df[\"age\"])\n",
        "Desviacion_estandar_age"
      ]
    },
    {
      "cell_type": "code",
      "execution_count": null,
      "id": "cd6ab1a0-8430-4070-8116-b26f0b9687ea",
      "metadata": {
        "id": "cd6ab1a0-8430-4070-8116-b26f0b9687ea",
        "outputId": "563a084f-7f80-4b7b-f6c1-c4f890e38217"
      },
      "outputs": [
        {
          "name": "stdout",
          "output_type": "stream",
          "text": [
            "Valor t: 2.169892820407049\n",
            "Valor p: 0.03014431570582848\n",
            "\n",
            "Prueba 1: con nivel de confianza del 95%, se rechaza la Ho en favor de la H1\n",
            "Valor t: -26.199756387358775\n",
            "Valor p: 1.3416968508390565e-128\n",
            "\n",
            "Prueba 2: con nivel de confianza del 99%, se rechaza la Ho en favor de la H1\n",
            "Valor t: -7.286656915514892\n",
            "Valor p: 0.9999999999997642\n",
            "\n",
            "Prueba 3: con nivel de confianza del 93%, se acepta la hipótesis nula\n",
            "Valor t: -20.52582654580561\n",
            "Valor p: 1.1565856821380943e-84\n",
            "\n",
            "Prueba 4: con nivel de confianza del 97%, se rechaza la Ho en favor de la H1\n"
          ]
        }
      ],
      "source": [
        "#Realizamos 12 pruebas con muestras de tamaño n=25\n",
        "#Los niveles de significancia serán menor a (alfa=0.1)\n",
        "#Si p-value es menor a alfa se rechaza la Hipotesis nula (Ho) es favor de la Hipotesis alternativa (H1)\n",
        "#Si p-value es mayor a la alfa, se acepta la Ho\n",
        "\n",
        "n = 25\n",
        "\n",
        "np.random.seed(0)\n",
        "earn_prueba1 = np.random.normal(20000, Desviacion_estandar_earn, n)\n",
        "earn_prueba2 = np.random.normal(35000, Desviacion_estandar_earn, n)\n",
        "earn_prueba3 = np.random.normal(25000, Desviacion_estandar_earn, n)\n",
        "earn_prueba4 = np.random.normal(32000, Desviacion_estandar_earn, n)\n",
        "\n",
        "#earn, prueba 1\n",
        "#Alfa = 0.05\n",
        "Nivel_confianza_1 = 95 #expresado en porcentaje\n",
        "t_stat, p_value = st.ttest_1samp(df[\"earn\"], 20000, alternative='two-sided')\n",
        "print(f\"Valor t: {t_stat}\")\n",
        "print(f\"Valor p: {p_value}\\n\")\n",
        "if p_value > 0.05:\n",
        "    print (f\"Prueba 1: con nivel de confianza del {Nivel_confianza_1}%, se acepta la hipótesis nula\")\n",
        "else:\n",
        "    print (f\"Prueba 1: con nivel de confianza del {Nivel_confianza_1}%, se rechaza la Ho en favor de la H1\")\n",
        "\n",
        "#earn, prueba 2\n",
        "#Alfa = 0.01\n",
        "Nivel_confianza_2 = 99 #expresado en porcentaje\n",
        "t_stat, p_value = st.ttest_1samp(df[\"earn\"], 35000, alternative='two-sided')\n",
        "print(f\"Valor t: {t_stat}\")\n",
        "print(f\"Valor p: {p_value}\\n\")\n",
        "if p_value > 0.01:\n",
        "    print (f\"Prueba 2: con nivel de confianza del {Nivel_confianza_2}%, se acepta la hipótesis nula\")\n",
        "else:\n",
        "    print (f\"Prueba 2: con nivel de confianza del {Nivel_confianza_2}%, se rechaza la Ho en favor de la H1\")\n",
        "\n",
        "#earn, prueba 3\n",
        "#Alfa = 0.07\n",
        "Nivel_confianza_3 = 93 #expresado en porcentaje\n",
        "t_stat, p_value = st.ttest_1samp(df[\"earn\"], 25000, alternative='greater')\n",
        "print(f\"Valor t: {t_stat}\")\n",
        "print(f\"Valor p: {p_value}\\n\")\n",
        "if p_value > 0.07:\n",
        "   print (f\"Prueba 3: con nivel de confianza del {Nivel_confianza_3}%, se acepta la hipótesis nula\")\n",
        "else:\n",
        "    print (f\"Prueba 3: con nivel de confianza del {Nivel_confianza_3}%, se rechaza la Ho en favor de la H1\")\n",
        "\n",
        "#earn, prueba 4\n",
        "#Alfa = 0.03\n",
        "Nivel_confianza_4 = 97 #expresado en porcentaje\n",
        "t_stat, p_value = st.ttest_1samp(df[\"earn\"], 32000, alternative='less')\n",
        "print(f\"Valor t: {t_stat}\")\n",
        "print(f\"Valor p: {p_value}\\n\")\n",
        "if p_value > 0.03:\n",
        "     print (f\"Prueba 4: con nivel de confianza del {Nivel_confianza_4}%, se acepta la hipótesis nula\")\n",
        "else:\n",
        "    print (f\"Prueba 4: con nivel de confianza del {Nivel_confianza_4}%, se rechaza la Ho en favor de la H1\")"
      ]
    },
    {
      "cell_type": "code",
      "execution_count": null,
      "id": "6402691e-5b35-446c-992b-434ed95e87e6",
      "metadata": {
        "id": "6402691e-5b35-446c-992b-434ed95e87e6",
        "outputId": "519c4cb7-684b-44e5-cd3b-55846c763f0f"
      },
      "outputs": [
        {
          "name": "stdout",
          "output_type": "stream",
          "text": [
            "Valor t: 128.65956807993143\n",
            "Valor p: 0.0\n",
            "\n",
            "Prueba 5: con nivel de confianza del 95%, se rechaza la Ho en favor de la H1\n",
            "Valor t: -15.916331926304927\n",
            "Valor p: 1.7073763640776962e-53\n",
            "\n",
            "Prueba 6: con nivel de confianza del 99%, se rechaza la Ho en favor de la H1\n",
            "Valor t: 39.68978346070906\n",
            "Valor p: 7.576455018925499e-249\n",
            "\n",
            "Prueba 7: con nivel de confianza del 93%, se rechaza la Ho en favor de la H1\n",
            "Valor t: -38.15877808111052\n",
            "Valor p: 9.85569780780098e-235\n",
            "\n",
            "Prueba 8: con nivel de confianza del 97%, se rechaza la Ho en favor de la H1\n"
          ]
        }
      ],
      "source": [
        "n = 25\n",
        "\n",
        "np.random.seed(0)\n",
        "height_prueba1 = np.random.normal(55, Desviacion_estandar_height, n)\n",
        "height_prueba2 = np.random.normal(68, Desviacion_estandar_height, n)\n",
        "height_prueba3 = np.random.normal(63, Desviacion_estandar_height, n)\n",
        "height_prueba4 = np.random.normal(70, Desviacion_estandar_height, n)\n",
        "\n",
        "#height, prueba 5\n",
        "#Alfa = 0.05\n",
        "Nivel_confianza_5 = 95 #expresado en porcentaje\n",
        "t_stat, p_value = st.ttest_1samp(df[\"height\"], 55, alternative='two-sided')\n",
        "print(f\"Valor t: {t_stat}\")\n",
        "print(f\"Valor p: {p_value}\\n\")\n",
        "if p_value > 0.05:\n",
        "    print (f\"Prueba 5: con nivel de confianza del {Nivel_confianza_5}%, se acepta la hipótesis nula\")\n",
        "else:\n",
        "    print (f\"Prueba 5: con nivel de confianza del {Nivel_confianza_5}%, se rechaza la Ho en favor de la H1\")\n",
        "\n",
        "#height, prueba 6\n",
        "#Alfa = 0.01\n",
        "Nivel_confianza_6 = 99 #expresado en porcentaje\n",
        "t_stat, p_value = st.ttest_1samp(df[\"height\"], 68, alternative='two-sided')\n",
        "print(f\"Valor t: {t_stat}\")\n",
        "print(f\"Valor p: {p_value}\\n\")\n",
        "if p_value > 0.01:\n",
        "    print (f\"Prueba 6: con nivel de confianza del {Nivel_confianza_6}%, se acepta la hipótesis nula\")\n",
        "else:\n",
        "    print (f\"Prueba 6: con nivel de confianza del {Nivel_confianza_6}%, se rechaza la Ho en favor de la H1\")\n",
        "\n",
        "#height, prueba 7\n",
        "#Alfa = 0.07\n",
        "Nivel_confianza_7 = 93 #expresado en porcentaje\n",
        "t_stat, p_value = st.ttest_1samp(df[\"height\"], 63, alternative='greater')\n",
        "print(f\"Valor t: {t_stat}\")\n",
        "print(f\"Valor p: {p_value}\\n\")\n",
        "if p_value > 0.07:\n",
        "    print (f\"Prueba 7: con nivel de confianza del {Nivel_confianza_7}%, se acepta la hipótesis nula\")\n",
        "else:\n",
        "    print (f\"Prueba 7: con nivel de confianza del {Nivel_confianza_7}%, se rechaza la Ho en favor de la H1\")\n",
        "\n",
        "#height, prueba 8\n",
        "#Alfa = 0.03\n",
        "Nivel_confianza_8 = 97 #expresado en porcentaje\n",
        "t_stat, p_value = st.ttest_1samp(df[\"height\"], 70, alternative='less')\n",
        "print(f\"Valor t: {t_stat}\")\n",
        "print(f\"Valor p: {p_value}\\n\")\n",
        "if p_value > 0.03:\n",
        "    print (f\"Prueba 8: con nivel de confianza del {Nivel_confianza_8}%, se acepta la hipótesis nula\")\n",
        "else:\n",
        "    print (f\"Prueba 8: con nivel de confianza del {Nivel_confianza_8}%, se rechaza la Ho en favor de la H1\")"
      ]
    },
    {
      "cell_type": "code",
      "execution_count": null,
      "id": "5453f6d9-88ef-47fd-b792-bd89c6f9c26d",
      "metadata": {
        "id": "5453f6d9-88ef-47fd-b792-bd89c6f9c26d",
        "outputId": "31289fa5-fdfc-4e8f-cf50-7d9edd2197b9"
      },
      "outputs": [
        {
          "name": "stdout",
          "output_type": "stream",
          "text": [
            "Valor t: -2.6458392632055547\n",
            "Valor p: 0.008219217702944792\n",
            "\n",
            "Prueba 9: con nivel de confianza del 95%, se rechaza la Ho en favor de la H1\n",
            "Valor t: -32.44332206619021\n",
            "Valor p: 1.6839926789785557e-182\n",
            "\n",
            "Prueba 10: con nivel de confianza del 99%, se rechaza la Ho en favor de la H1\n",
            "Valor t: -20.02770423161327\n",
            "Valor p: 1.0\n",
            "\n",
            "Prueba 11: con nivel de confianza del 93%, se acepta la hipótesis nula\n",
            "Valor t: -47.342063467682536\n",
            "Valor p: 1.43007e-319\n",
            "\n",
            "Prueba 12: con nivel de confianza del 97%, se rechaza la Ho en favor de la H1\n"
          ]
        }
      ],
      "source": [
        "n = 25\n",
        "\n",
        "np.random.seed(0)\n",
        "age_prueba1 = np.random.normal(44, Desviacion_estandar_age, n)\n",
        "age_prueba2 = np.random.normal(56, Desviacion_estandar_age, n)\n",
        "age_prueba3 = np.random.normal(51, Desviacion_estandar_age, n)\n",
        "age_prueba4 = np.random.normal(62, Desviacion_estandar_age, n)\n",
        "\n",
        "#age, prueba 9\n",
        "#Alfa = 0.05\n",
        "Nivel_confianza_9 = 95 #expresado en porcentaje\n",
        "t_stat, p_value = st.ttest_1samp(df[\"age\"], 44, alternative='two-sided')\n",
        "print(f\"Valor t: {t_stat}\")\n",
        "print(f\"Valor p: {p_value}\\n\")\n",
        "if p_value > 0.05:\n",
        "    print (f\"Prueba 9: con nivel de confianza del {Nivel_confianza_9}%, se acepta la hipótesis nula\")\n",
        "else:\n",
        "    print (f\"Prueba 9: con nivel de confianza del {Nivel_confianza_9}%, se rechaza la Ho en favor de la H1\")\n",
        "\n",
        "#age, prueba 10\n",
        "#Alfa = 0.01\n",
        "Nivel_confianza_10 = 99 #expresado en porcentaje\n",
        "t_stat, p_value = st.ttest_1samp(df[\"age\"], 56, alternative='two-sided')\n",
        "print(f\"Valor t: {t_stat}\")\n",
        "print(f\"Valor p: {p_value}\\n\")\n",
        "if p_value > 0.01:\n",
        "    print (f\"Prueba 10: con nivel de confianza del {Nivel_confianza_10}%, se acepta la hipótesis nula\")\n",
        "else:\n",
        "    print (f\"Prueba 10: con nivel de confianza del {Nivel_confianza_10}%, se rechaza la Ho en favor de la H1\")\n",
        "\n",
        "#age, prueba 11\n",
        "#Alfa = 0.07\n",
        "Nivel_confianza_11 = 93 #expresado en porcentaje\n",
        "t_stat, p_value = st.ttest_1samp(df[\"age\"], 51, alternative='greater')\n",
        "print(f\"Valor t: {t_stat}\")\n",
        "print(f\"Valor p: {p_value}\\n\")\n",
        "if p_value > 0.07:\n",
        "    print (f\"Prueba 11: con nivel de confianza del {Nivel_confianza_11}%, se acepta la hipótesis nula\")\n",
        "else:\n",
        "    print (f\"Prueba 11: con nivel de confianza del {Nivel_confianza_11}%, se rechaza la Ho en favor de la H1\")\n",
        "\n",
        "\n",
        "#age, prueba 12\n",
        "#Alfa = 0.03\n",
        "Nivel_confianza_12 = 97 #expresado en porcentaje\n",
        "t_stat, p_value = st.ttest_1samp(df[\"age\"], 62, alternative='less')\n",
        "print(f\"Valor t: {t_stat}\")\n",
        "print(f\"Valor p: {p_value}\\n\")\n",
        "if p_value > 0.03:\n",
        "     print (f\"Prueba 12: con nivel de confianza del {Nivel_confianza_12}%, se acepta la hipótesis nula\")\n",
        "else:\n",
        "    print (f\"Prueba 12: con nivel de confianza del {Nivel_confianza_12}%, se rechaza la Ho en favor de la H1\")\n"
      ]
    },
    {
      "cell_type": "code",
      "execution_count": null,
      "id": "0163ff96-c2cb-4416-bcc0-88eb8a44a74f",
      "metadata": {
        "id": "0163ff96-c2cb-4416-bcc0-88eb8a44a74f",
        "outputId": "f2e08358-af11-4a33-a5cf-07a5246cfe4d"
      },
      "outputs": [
        {
          "name": "stdout",
          "output_type": "stream",
          "text": [
            "La media poblacion de la variable earn es igual a 21147.296255506608\n",
            "La media poblacion de la variable height es igual a 66.56883259911895\n",
            "La media poblacion de la variable age es igual a 42.934471365638764\n"
          ]
        }
      ],
      "source": [
        "#Calcular media poblacion para cada variable\n",
        "Mediapoblacion_earn = np.mean(df[\"earn\"])\n",
        "Mediapoblacion_height = np.mean(df[\"height\"])\n",
        "Mediapoblacion_age = np.mean(df[\"age\"])\n",
        "\n",
        "print(f\"La media poblacion de la variable earn es igual a {Mediapoblacion_earn}\")\n",
        "print(f\"La media poblacion de la variable height es igual a {Mediapoblacion_height}\")\n",
        "print(f\"La media poblacion de la variable age es igual a {Mediapoblacion_age}\")"
      ]
    },
    {
      "cell_type": "code",
      "execution_count": null,
      "id": "72a71022-b3a4-407a-a969-aa0b2efa59d0",
      "metadata": {
        "id": "72a71022-b3a4-407a-a969-aa0b2efa59d0",
        "outputId": "53b5967c-7299-4ca6-bc69-1bdc4c9c2544"
      },
      "outputs": [
        {
          "data": {
            "text/plain": [
              "1147.2962555066078"
            ]
          },
          "execution_count": 64,
          "metadata": {},
          "output_type": "execute_result"
        }
      ],
      "source": [
        "#Vamos a coomparar los resultados con la variable earn\n",
        "#Debemos tener en cuenta que para earn se acepto solamente la Ho numero 3 con un nivel de confiabilidad del 93%\n",
        "\n",
        "Diferencia1 = Mediapoblacion_earn - 20000\n",
        "Diferencia2 = Mediapoblacion_earn - 35000\n",
        "Diferencia3 = Mediapoblacion_earn - 25000\n",
        "Diferencia4 = Mediapoblacion_earn - 32000\n",
        "\n",
        "Diferencia1"
      ]
    },
    {
      "cell_type": "code",
      "execution_count": null,
      "id": "73b0c7b8-05c4-4b44-913c-a0853511cbfb",
      "metadata": {
        "id": "73b0c7b8-05c4-4b44-913c-a0853511cbfb",
        "outputId": "a444d814-3441-4786-ff78-353cd32f4833"
      },
      "outputs": [
        {
          "data": {
            "text/plain": [
              "-13852.703744493392"
            ]
          },
          "execution_count": 65,
          "metadata": {},
          "output_type": "execute_result"
        }
      ],
      "source": [
        "Diferencia2"
      ]
    },
    {
      "cell_type": "code",
      "execution_count": null,
      "id": "60fd16c6-c39a-479f-9798-8407287933d0",
      "metadata": {
        "id": "60fd16c6-c39a-479f-9798-8407287933d0",
        "outputId": "323f904f-b8fb-4f70-d4b7-659078936f46"
      },
      "outputs": [
        {
          "data": {
            "text/plain": [
              "-3852.703744493392"
            ]
          },
          "execution_count": 66,
          "metadata": {},
          "output_type": "execute_result"
        }
      ],
      "source": [
        "Diferencia3"
      ]
    },
    {
      "cell_type": "code",
      "execution_count": null,
      "id": "f69a3861-9509-408f-a70f-296cb04a2cdb",
      "metadata": {
        "id": "f69a3861-9509-408f-a70f-296cb04a2cdb",
        "outputId": "c10dcab1-cf42-40b7-bd2c-bc3dc32e3ba3"
      },
      "outputs": [
        {
          "data": {
            "text/plain": [
              "-10852.703744493392"
            ]
          },
          "execution_count": 67,
          "metadata": {},
          "output_type": "execute_result"
        }
      ],
      "source": [
        "Diferencia4"
      ]
    },
    {
      "cell_type": "code",
      "execution_count": null,
      "id": "f232effd-cdb6-4c98-bf51-9d318cd10bf5",
      "metadata": {
        "id": "f232effd-cdb6-4c98-bf51-9d318cd10bf5",
        "outputId": "e7ad8038-ac18-48eb-e0e2-70687779dd1e"
      },
      "outputs": [
        {
          "data": {
            "text/plain": [
              "22525.56058921212"
            ]
          },
          "execution_count": 62,
          "metadata": {},
          "output_type": "execute_result"
        }
      ],
      "source": [
        "#Imprimimos nuevamente la STD como base de la coomparación\n",
        "Desviacion_estandar_earn"
      ]
    },
    {
      "cell_type": "markdown",
      "id": "0186b9c0-19f6-4a5d-b2d6-26281869cfe0",
      "metadata": {
        "id": "0186b9c0-19f6-4a5d-b2d6-26281869cfe0"
      },
      "source": [
        "Caso prueba 1= efectivamente es correcto el resultado, se rechazo la Ho en favor de la H1.\n",
        "Es adecuado el resultado porque la media obtenida es diferente a la Ho\n",
        "\n",
        "Caso prueba 2= efectivamente es correcto el resultado, se rechazo la Ho en favor de la H1.\n",
        "Es adecuado el resultado porque la media obtenida es diferente a la Ho\n",
        "\n",
        "Caso prueba 3= no es correcto el resultado, no se debio aceptar la Ho porque la media no es igual a 25.000\n",
        "\n",
        "Caso prueba 2= efectivamente es correcto el resultado, se rechazo la Ho en favor de la H1.\n",
        "Es adecuado el resultado porque la media obtenida es menor a la Ho\n",
        "\n",
        "Pese a lo anterior, teniendo en cuenta que la desviacion es igual a +- 22525, las diferencias entre las medias hipoteticas y la media real se encuentran dentro de los rangos"
      ]
    },
    {
      "cell_type": "code",
      "execution_count": null,
      "id": "ed860550-96b4-4fa4-8393-9cefcb69f01e",
      "metadata": {
        "id": "ed860550-96b4-4fa4-8393-9cefcb69f01e",
        "outputId": "af2afc74-cc78-4b59-cd17-625ea4b9f6ba"
      },
      "outputs": [
        {
          "data": {
            "text/plain": [
              "11.568832599118949"
            ]
          },
          "execution_count": 74,
          "metadata": {},
          "output_type": "execute_result"
        }
      ],
      "source": [
        "#Vamos a coomparar los resultados con la variable height\n",
        "#Debemos tener en cuenta que para height, se rechazaron las cuatro Ho\n",
        "\n",
        "Diferencia1 = Mediapoblacion_height - 55\n",
        "Diferencia2 = Mediapoblacion_height - 68\n",
        "Diferencia3 = Mediapoblacion_height - 63\n",
        "Diferencia4 = Mediapoblacion_height - 70\n",
        "\n",
        "Diferencia1"
      ]
    },
    {
      "cell_type": "code",
      "execution_count": null,
      "id": "51917b3c-a9ac-4c79-90ef-b92eab5e3420",
      "metadata": {
        "id": "51917b3c-a9ac-4c79-90ef-b92eab5e3420",
        "outputId": "4dcbc81e-78dd-4712-99fb-87cff3843c1e"
      },
      "outputs": [
        {
          "data": {
            "text/plain": [
              "-1.4311674008810513"
            ]
          },
          "execution_count": 75,
          "metadata": {},
          "output_type": "execute_result"
        }
      ],
      "source": [
        "Diferencia2"
      ]
    },
    {
      "cell_type": "code",
      "execution_count": null,
      "id": "8a6ca8a1-3928-435d-8dec-17cc65f731ac",
      "metadata": {
        "id": "8a6ca8a1-3928-435d-8dec-17cc65f731ac",
        "outputId": "fc2afdea-f9e8-4ece-f057-4e98a6a145be"
      },
      "outputs": [
        {
          "data": {
            "text/plain": [
              "3.5688325991189487"
            ]
          },
          "execution_count": 76,
          "metadata": {},
          "output_type": "execute_result"
        }
      ],
      "source": [
        "Diferencia3"
      ]
    },
    {
      "cell_type": "code",
      "execution_count": null,
      "id": "fda072c1-be60-4d41-bd56-a07ac14512e3",
      "metadata": {
        "id": "fda072c1-be60-4d41-bd56-a07ac14512e3",
        "outputId": "26eee0b0-18da-419d-cb1a-04bcd011dd04"
      },
      "outputs": [
        {
          "data": {
            "text/plain": [
              "-3.4311674008810513"
            ]
          },
          "execution_count": 77,
          "metadata": {},
          "output_type": "execute_result"
        }
      ],
      "source": [
        "Diferencia4"
      ]
    },
    {
      "cell_type": "code",
      "execution_count": null,
      "id": "48e9653e-9c1b-4d00-964b-6dc3333f58bc",
      "metadata": {
        "id": "48e9653e-9c1b-4d00-964b-6dc3333f58bc",
        "outputId": "10ac9739-0d27-4e4e-cc81-b9ebc5a0b724"
      },
      "outputs": [
        {
          "data": {
            "text/plain": [
              "3.830767219735599"
            ]
          },
          "execution_count": 78,
          "metadata": {},
          "output_type": "execute_result"
        }
      ],
      "source": [
        "#Imprimimos nuevamente la STD como base de la coomparación\n",
        "Desviacion_estandar_height"
      ]
    },
    {
      "cell_type": "markdown",
      "id": "d3676c03-7832-46b2-a7d2-6f32ddb1ca4d",
      "metadata": {
        "id": "d3676c03-7832-46b2-a7d2-6f32ddb1ca4d"
      },
      "source": [
        "Para los cuatro casos, esta bien que se haya rechazado la Ho en favor de la alternativa.\n",
        "Para el caso 3, efectivamente la media es mayor a 63 como lo establece la H1.\n",
        "Para el caso 4, efectivamente la media es menor a 70 como lo establece la H1.\n",
        "Ninguna de las cuatro Ho establecen que la media es igual al resultado obtenido (66.56).\n",
        "Sin embargo, la std es +- 3.83, por lo que para el caso 2, el caso 3 y el caso 4, se encuentra dentro de los intervalos."
      ]
    },
    {
      "cell_type": "code",
      "execution_count": null,
      "id": "89b2d8be-f772-4efb-8cbe-b9e20d02d9aa",
      "metadata": {
        "id": "89b2d8be-f772-4efb-8cbe-b9e20d02d9aa",
        "outputId": "53e49703-8cb1-4a62-8150-3c0a9879f171"
      },
      "outputs": [
        {
          "data": {
            "text/plain": [
              "-1.065528634361236"
            ]
          },
          "execution_count": 80,
          "metadata": {},
          "output_type": "execute_result"
        }
      ],
      "source": [
        "#Vamos a coomparar los resultados con la variable age\n",
        "#Debemos tener en cuenta que para earn se acepto solamente la Ho numero 3 con un nivel de confiabilidad del 93%\n",
        "\n",
        "Diferencia1 = Mediapoblacion_age - 44\n",
        "Diferencia2 = Mediapoblacion_age - 56\n",
        "Diferencia3 = Mediapoblacion_age - 51\n",
        "Diferencia4 = Mediapoblacion_age - 62\n",
        "\n",
        "Diferencia1"
      ]
    },
    {
      "cell_type": "code",
      "execution_count": null,
      "id": "a734c929-110a-4de2-acbd-1d7a78e3cc25",
      "metadata": {
        "id": "a734c929-110a-4de2-acbd-1d7a78e3cc25",
        "outputId": "8324b3c9-2c67-45c9-f98b-13025999e9a7"
      },
      "outputs": [
        {
          "data": {
            "text/plain": [
              "-13.065528634361236"
            ]
          },
          "execution_count": 81,
          "metadata": {},
          "output_type": "execute_result"
        }
      ],
      "source": [
        "Diferencia2"
      ]
    },
    {
      "cell_type": "code",
      "execution_count": null,
      "id": "04676ac0-a548-4c7b-9e69-6190ca0b2931",
      "metadata": {
        "id": "04676ac0-a548-4c7b-9e69-6190ca0b2931",
        "outputId": "7f184481-b38a-499c-f517-e7853d83f612"
      },
      "outputs": [
        {
          "data": {
            "text/plain": [
              "-8.065528634361236"
            ]
          },
          "execution_count": 82,
          "metadata": {},
          "output_type": "execute_result"
        }
      ],
      "source": [
        "Diferencia3"
      ]
    },
    {
      "cell_type": "code",
      "execution_count": null,
      "id": "222385a6-7135-4b47-bf5c-87d056e2c510",
      "metadata": {
        "id": "222385a6-7135-4b47-bf5c-87d056e2c510",
        "outputId": "4a32b201-f308-4664-f9f3-e130911d1dd5"
      },
      "outputs": [
        {
          "data": {
            "text/plain": [
              "-19.065528634361236"
            ]
          },
          "execution_count": 83,
          "metadata": {},
          "output_type": "execute_result"
        }
      ],
      "source": [
        "Diferencia4"
      ]
    },
    {
      "cell_type": "code",
      "execution_count": null,
      "id": "c759111c-bc79-4cc5-94cd-06180002538b",
      "metadata": {
        "id": "c759111c-bc79-4cc5-94cd-06180002538b",
        "outputId": "3e6d94db-f105-4ead-c362-11a7d0ed689c"
      },
      "outputs": [
        {
          "data": {
            "text/plain": [
              "17.15694594337249"
            ]
          },
          "execution_count": 84,
          "metadata": {},
          "output_type": "execute_result"
        }
      ],
      "source": [
        "#Imprimimos nuevamente la STD como base de la coomparación\n",
        "Desviacion_estandar_age"
      ]
    },
    {
      "cell_type": "markdown",
      "id": "b985c487-d64e-46c3-8b26-b72b2b39ea5e",
      "metadata": {
        "id": "b985c487-d64e-46c3-8b26-b72b2b39ea5e"
      },
      "source": [
        "Para el caso 1, 2 y 4, esta bien que se haya rechazado la Ho en favor de la alternativa.\n",
        "Para el caso 3, se debio rechazar la Ho ya que la media obtenida equivale a 42.93 y la Ho dice que la media es igual a 51.\n",
        "Para el caso 3, la H1 dice que la media es mayor a 51, sin embargo, tampoco es cierto.\n",
        "Para el caso 4, la H1 nos dice que la media es menor a 62, lo cual es correcto.\n",
        "Sin embargo, la std es +- 17.15, por lo que para los 4 casos, se encuentra dentro de los intervalos."
      ]
    },
    {
      "cell_type": "code",
      "execution_count": null,
      "id": "0dc7596f-d464-4135-a8a0-2b25f06c5892",
      "metadata": {
        "id": "0dc7596f-d464-4135-a8a0-2b25f06c5892",
        "outputId": "3c51c5c3-cbf4-45c8-faa0-ec324410dbad"
      },
      "outputs": [
        {
          "name": "stdout",
          "output_type": "stream",
          "text": [
            "Intervalo de confianza del 95.0% para la proporción de hombres en el dataset considerando una muestra de 50 individuos es: \n",
            "(0.0, 0.0)\n"
          ]
        }
      ],
      "source": [
        "#Contar la cantidad de hombres en en el dataset\n",
        "num_hombres = df[df[\"male\"] == \"1\"].shape[0]\n",
        "\n",
        "#Proporción muestral de hombres en la muestra\n",
        "proporcion_muestral = num_hombres / n\n",
        "\n",
        "#Nivel de confianza\n",
        "confianza = 0.95\n",
        "\n",
        "intervalos = {}\n",
        "\n",
        "#Calcular el intervalo de confianza utilizando statsmodels\n",
        "intervalo_confianza = sm.stats.proportion_confint(num_hombres, n, alpha=1 - confianza)\n",
        "intervalos[f'{int(confianza * 100)}%'] = intervalo_confianza\n",
        "\n",
        "#Imprimir el resultado\n",
        "print(f\"Intervalo de confianza del {confianza * 100}% para la proporción de hombres en el dataset considerando una muestra de 50 individuos es: \")\n",
        "print(f\"({intervalo_confianza[0]}, {intervalo_confianza[1]})\")"
      ]
    },
    {
      "cell_type": "markdown",
      "id": "cfa4f60a-2f9d-4eb4-a3ca-91449ef2aa32",
      "metadata": {
        "id": "cfa4f60a-2f9d-4eb4-a3ca-91449ef2aa32"
      },
      "source": [
        "- Considerando el dataset como una muestra, verifica si el género (male=1 significa hombre) inuye sobre el sueldo earn de las personas."
      ]
    },
    {
      "cell_type": "markdown",
      "id": "21a05288-3068-48e9-8a0a-ee238e3de31d",
      "metadata": {
        "id": "21a05288-3068-48e9-8a0a-ee238e3de31d"
      },
      "source": [
        "Ho = No hay diferencia en el sueldo entre hombres y mujeres\n",
        "\n",
        "H1 = Si hay diferencia en el sueldo entre hombres y mujeres"
      ]
    },
    {
      "cell_type": "code",
      "execution_count": null,
      "id": "408fa9ec-b818-4f85-9061-46e5506c86de",
      "metadata": {
        "id": "408fa9ec-b818-4f85-9061-46e5506c86de",
        "outputId": "efd26e7d-fd9b-4a3e-bff4-5e372bb966fb"
      },
      "outputs": [
        {
          "name": "stdout",
          "output_type": "stream",
          "text": [
            "Valor t= 13.68318837519989\n",
            "Valor p= 1.2371946179054945e-40\n",
            "Se rechaza la Ho en favor de la H1 alternativa\n"
          ]
        }
      ],
      "source": [
        "#Verificar si el genero  influye sobre el sueldo de las personas\n",
        "\n",
        "#Se divide el dataset por genero\n",
        "hombres = df[df[\"male\"] == 1][\"earn\"]\n",
        "mujeres = df[df[\"male\"] == 0][\"earn\"]\n",
        "\n",
        "#Se realiza t-student para muestras independientes\n",
        "t_st, p_value = st.ttest_ind(hombres, mujeres)\n",
        "print(f\"Valor t= {t_st}\")\n",
        "print(f\"Valor p= {p_value}\")\n",
        "\n",
        "#Establecemos un nivel de significancia\n",
        "nivel_significancia = 0.05\n",
        "\n",
        "#Establecemos si se aceptará o no la Ho\n",
        "if p_value < nivel_significancia:\n",
        "    print(f\"Se rechaza la Ho en favor de la H1 alternativa\")\n",
        "else:\n",
        "    print(f\"No hay suficiente evidencia para rechazar la Ho\")"
      ]
    },
    {
      "cell_type": "markdown",
      "id": "d27ce490-8317-47b1-a04c-8c7b780d4491",
      "metadata": {
        "id": "d27ce490-8317-47b1-a04c-8c7b780d4491"
      },
      "source": [
        "De acuerdo a lo anterior y teniendo en cuenta que el valor p es menor al nivel de significancia que equivale a 0.05, entonces se rechaza la Ho de que no hay diferencia en el sueldo entre hombres y mujeres, por ende se acepta la H1 que establece que sí hay diferencia."
      ]
    },
    {
      "cell_type": "code",
      "execution_count": null,
      "id": "46ddf9f6-87dc-46d8-8cc3-e9b8999ac2a1",
      "metadata": {
        "id": "46ddf9f6-87dc-46d8-8cc3-e9b8999ac2a1"
      },
      "outputs": [],
      "source": []
    }
  ],
  "metadata": {
    "kernelspec": {
      "display_name": "Python 3 (ipykernel)",
      "language": "python",
      "name": "python3"
    },
    "language_info": {
      "codemirror_mode": {
        "name": "ipython",
        "version": 3
      },
      "file_extension": ".py",
      "mimetype": "text/x-python",
      "name": "python",
      "nbconvert_exporter": "python",
      "pygments_lexer": "ipython3",
      "version": "3.11.7"
    },
    "colab": {
      "provenance": [],
      "include_colab_link": true
    }
  },
  "nbformat": 4,
  "nbformat_minor": 5
}
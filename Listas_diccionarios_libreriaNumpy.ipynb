{
  "cells": [
    {
      "cell_type": "markdown",
      "metadata": {
        "id": "view-in-github",
        "colab_type": "text"
      },
      "source": [
        "<a href=\"https://colab.research.google.com/github/vanesamp07/Python/blob/main/Listas_diccionarios_libreriaNumpy.ipynb\" target=\"_parent\"><img src=\"https://colab.research.google.com/assets/colab-badge.svg\" alt=\"Open In Colab\"/></a>"
      ]
    },
    {
      "cell_type": "code",
      "execution_count": null,
      "id": "3f6cd97b-c0c5-436e-96cd-aaed1157ce16",
      "metadata": {
        "colab": {
          "base_uri": "https://localhost:8080/"
        },
        "id": "3f6cd97b-c0c5-436e-96cd-aaed1157ce16",
        "outputId": "64555324-d4b4-4904-88b9-6e5eed7fe57a"
      },
      "outputs": [
        {
          "output_type": "stream",
          "name": "stdout",
          "text": [
            "uva\n",
            "kiwi , uva , piña\n"
          ]
        }
      ],
      "source": [
        "lista = [\"manzana\", \"pera\", \"naranja\", \"plátano\", \"kiwi\", \"uva\", \"piña\", \"mango\", \"sandía\", \"melón\"] #lista\n",
        "print(lista[5]) #imprimimos el quinto elemento de la lista\n",
        "print(lista[4],\",\",lista[5],\",\",lista[6]) #imprimimos del cuarto al sexto elemento de la lista"
      ]
    },
    {
      "cell_type": "code",
      "execution_count": null,
      "id": "861e6e12-69fa-4725-9241-b422496cfddc",
      "metadata": {
        "id": "861e6e12-69fa-4725-9241-b422496cfddc"
      },
      "outputs": [],
      "source": [
        "lista.remove(\"plátano\") #elimimanos el elemento en la tercera posicion"
      ]
    },
    {
      "cell_type": "code",
      "execution_count": null,
      "id": "09c5cd9f-0bf4-4f6a-952f-6ff542e7d49f",
      "metadata": {
        "colab": {
          "base_uri": "https://localhost:8080/"
        },
        "id": "09c5cd9f-0bf4-4f6a-952f-6ff542e7d49f",
        "outputId": "441288d0-75b0-4d72-c38a-c403b9f45d82"
      },
      "outputs": [
        {
          "output_type": "stream",
          "name": "stdout",
          "text": [
            "['manzana', 'pera', 'naranja', 'kiwi', 'uva', 'piña', 'mango', 'sandía', 'melón']\n"
          ]
        }
      ],
      "source": [
        "print(lista) #imprimimos nuevamente la lista para asegurarnos de que el elemento se haya eliminado"
      ]
    },
    {
      "cell_type": "code",
      "execution_count": null,
      "id": "a154deb6-324d-4289-966e-089dc094e8af",
      "metadata": {
        "colab": {
          "base_uri": "https://localhost:8080/"
        },
        "id": "a154deb6-324d-4289-966e-089dc094e8af",
        "outputId": "49093694-5e2d-4e8a-ad2b-7c05e9f52ebc"
      },
      "outputs": [
        {
          "output_type": "stream",
          "name": "stdout",
          "text": [
            "['manzana', 'pera', 'naranja', 'kiwi', 'uva', 'piña', 'mango', 'sandía', 'melón', 'mandarina', 'ciruela']\n"
          ]
        }
      ],
      "source": [
        "lista.append(\"mandarina\") #agregamos el elemento mandarina a lista\n",
        "lista.append(\"ciruela\") #agregamos el elemento ciruela a lista\n",
        "print(lista) #imprimimos la lista para validar que se encuentren los nuevos elmentos"
      ]
    },
    {
      "cell_type": "code",
      "execution_count": null,
      "id": "b50f8da5-e51d-4627-9949-dd31cdc175d7",
      "metadata": {
        "id": "b50f8da5-e51d-4627-9949-dd31cdc175d7"
      },
      "outputs": [],
      "source": [
        "lista.sort() #organizamos los elementos alfabeticamente"
      ]
    },
    {
      "cell_type": "code",
      "execution_count": null,
      "id": "98607741-b2f9-42c9-b3a3-08b4743278a0",
      "metadata": {
        "colab": {
          "base_uri": "https://localhost:8080/"
        },
        "id": "98607741-b2f9-42c9-b3a3-08b4743278a0",
        "outputId": "682ec4dc-f589-4968-ed3d-a1885ccf1df1"
      },
      "outputs": [
        {
          "output_type": "stream",
          "name": "stdout",
          "text": [
            "['ciruela', 'kiwi', 'mandarina', 'mango', 'manzana', 'melón', 'naranja', 'pera', 'piña', 'sandía', 'uva']\n"
          ]
        }
      ],
      "source": [
        "print(lista) #imprimimos"
      ]
    },
    {
      "cell_type": "code",
      "execution_count": null,
      "id": "4d4ff9b2-9436-429d-a442-34dfe2c61b96",
      "metadata": {
        "id": "4d4ff9b2-9436-429d-a442-34dfe2c61b96"
      },
      "outputs": [],
      "source": [
        "lista1 = [\"uno\", \"dos\", \"tres\", \"cuatro\", \"cinco\", \"seis\", \"siete\", \"ocho\", \"nueve\", \"diez\"] #agregamos una nueva lista llamada lista1"
      ]
    },
    {
      "cell_type": "code",
      "execution_count": null,
      "id": "fc4984ad-c3f7-4653-ae97-2029050f8ac4",
      "metadata": {
        "id": "fc4984ad-c3f7-4653-ae97-2029050f8ac4"
      },
      "outputs": [],
      "source": [
        "diccionario1 = {\"uno\": \"manzana\", \"dos\": \"pera\", \"tres\": \"naranja\", \"cuatro\": \"plátano\", \"cinco\": \"kiwi\", \"seis\": \"uva\", \"siete\": \"piña\", \"ocho\": \"mango\", \"nueve\": \"sandía\", \"diez\": \"melón\"} #generamos un diccionario usando lista1 como llaves y lista como valores"
      ]
    },
    {
      "cell_type": "code",
      "execution_count": null,
      "id": "dcb5cb5a-3e67-4d3f-a2f2-4546707b1639",
      "metadata": {
        "colab": {
          "base_uri": "https://localhost:8080/"
        },
        "id": "dcb5cb5a-3e67-4d3f-a2f2-4546707b1639",
        "outputId": "45190a9e-921a-4f51-929a-cd20eab67e61"
      },
      "outputs": [
        {
          "output_type": "stream",
          "name": "stdout",
          "text": [
            "{'uno': 'manzana', 'dos': 'pera', 'tres': 'naranja', 'cuatro': 'plátano', 'cinco': 'kiwi', 'seis': 'uva', 'siete': 'piña', 'ocho': 'mango', 'nueve': 'sandía', 'diez': 'melón'}\n"
          ]
        }
      ],
      "source": [
        "print(diccionario1) #imprimimos el diccionario"
      ]
    },
    {
      "cell_type": "code",
      "execution_count": null,
      "id": "f33b640a-5a45-48e6-a94c-09c606d11763",
      "metadata": {
        "colab": {
          "base_uri": "https://localhost:8080/"
        },
        "id": "f33b640a-5a45-48e6-a94c-09c606d11763",
        "outputId": "0bed087d-7e38-4706-ab86-eaf22436d280"
      },
      "outputs": [
        {
          "output_type": "stream",
          "name": "stdout",
          "text": [
            "Requirement already satisfied: numpy in /usr/local/lib/python3.10/dist-packages (1.26.4)\n"
          ]
        }
      ],
      "source": [
        "pip install numpy #instalamos la libreria numpy"
      ]
    },
    {
      "cell_type": "code",
      "execution_count": null,
      "id": "a966ef55-5673-493e-b001-eff5673e0434",
      "metadata": {
        "id": "a966ef55-5673-493e-b001-eff5673e0434"
      },
      "outputs": [],
      "source": [
        "import numpy as np #importamos la libreria numpy con el alias np"
      ]
    },
    {
      "cell_type": "code",
      "execution_count": null,
      "id": "ff12e219-4e9c-46b5-9d0a-0cfd79bc86f6",
      "metadata": {
        "colab": {
          "base_uri": "https://localhost:8080/",
          "height": 287
        },
        "id": "ff12e219-4e9c-46b5-9d0a-0cfd79bc86f6",
        "outputId": "f1f6c4ce-b6b0-4428-9ec3-18f09cea0aca"
      },
      "outputs": [
        {
          "output_type": "error",
          "ename": "FileNotFoundError",
          "evalue": "alcohol_cerveza.csv not found.",
          "traceback": [
            "\u001b[0;31m---------------------------------------------------------------------------\u001b[0m",
            "\u001b[0;31mFileNotFoundError\u001b[0m                         Traceback (most recent call last)",
            "\u001b[0;32m<ipython-input-12-4e530212f6d4>\u001b[0m in \u001b[0;36m<cell line: 1>\u001b[0;34m()\u001b[0m\n\u001b[0;32m----> 1\u001b[0;31m \u001b[0marray\u001b[0m \u001b[0;34m=\u001b[0m \u001b[0mnp\u001b[0m\u001b[0;34m.\u001b[0m\u001b[0mloadtxt\u001b[0m\u001b[0;34m(\u001b[0m\u001b[0;34m\"alcohol_cerveza.csv\"\u001b[0m\u001b[0;34m,\u001b[0m \u001b[0mdelimiter\u001b[0m \u001b[0;34m=\u001b[0m \u001b[0;34m\",\"\u001b[0m\u001b[0;34m,\u001b[0m \u001b[0mskiprows\u001b[0m\u001b[0;34m=\u001b[0m\u001b[0;36m1\u001b[0m\u001b[0;34m,\u001b[0m \u001b[0mdtype\u001b[0m\u001b[0;34m=\u001b[0m\u001b[0mfloat\u001b[0m\u001b[0;34m)\u001b[0m \u001b[0;31m#cargamos los datos del archivo en el notebook\u001b[0m\u001b[0;34m\u001b[0m\u001b[0;34m\u001b[0m\u001b[0m\n\u001b[0m",
            "\u001b[0;32m/usr/local/lib/python3.10/dist-packages/numpy/lib/npyio.py\u001b[0m in \u001b[0;36mloadtxt\u001b[0;34m(fname, dtype, comments, delimiter, converters, skiprows, usecols, unpack, ndmin, encoding, max_rows, quotechar, like)\u001b[0m\n\u001b[1;32m   1371\u001b[0m         \u001b[0mdelimiter\u001b[0m \u001b[0;34m=\u001b[0m \u001b[0mdelimiter\u001b[0m\u001b[0;34m.\u001b[0m\u001b[0mdecode\u001b[0m\u001b[0;34m(\u001b[0m\u001b[0;34m'latin1'\u001b[0m\u001b[0;34m)\u001b[0m\u001b[0;34m\u001b[0m\u001b[0;34m\u001b[0m\u001b[0m\n\u001b[1;32m   1372\u001b[0m \u001b[0;34m\u001b[0m\u001b[0m\n\u001b[0;32m-> 1373\u001b[0;31m     arr = _read(fname, dtype=dtype, comment=comment, delimiter=delimiter,\n\u001b[0m\u001b[1;32m   1374\u001b[0m                 \u001b[0mconverters\u001b[0m\u001b[0;34m=\u001b[0m\u001b[0mconverters\u001b[0m\u001b[0;34m,\u001b[0m \u001b[0mskiplines\u001b[0m\u001b[0;34m=\u001b[0m\u001b[0mskiprows\u001b[0m\u001b[0;34m,\u001b[0m \u001b[0musecols\u001b[0m\u001b[0;34m=\u001b[0m\u001b[0musecols\u001b[0m\u001b[0;34m,\u001b[0m\u001b[0;34m\u001b[0m\u001b[0;34m\u001b[0m\u001b[0m\n\u001b[1;32m   1375\u001b[0m                 \u001b[0munpack\u001b[0m\u001b[0;34m=\u001b[0m\u001b[0munpack\u001b[0m\u001b[0;34m,\u001b[0m \u001b[0mndmin\u001b[0m\u001b[0;34m=\u001b[0m\u001b[0mndmin\u001b[0m\u001b[0;34m,\u001b[0m \u001b[0mencoding\u001b[0m\u001b[0;34m=\u001b[0m\u001b[0mencoding\u001b[0m\u001b[0;34m,\u001b[0m\u001b[0;34m\u001b[0m\u001b[0;34m\u001b[0m\u001b[0m\n",
            "\u001b[0;32m/usr/local/lib/python3.10/dist-packages/numpy/lib/npyio.py\u001b[0m in \u001b[0;36m_read\u001b[0;34m(fname, delimiter, comment, quote, imaginary_unit, usecols, skiplines, max_rows, converters, ndmin, unpack, dtype, encoding)\u001b[0m\n\u001b[1;32m    990\u001b[0m             \u001b[0mfname\u001b[0m \u001b[0;34m=\u001b[0m \u001b[0mos\u001b[0m\u001b[0;34m.\u001b[0m\u001b[0mfspath\u001b[0m\u001b[0;34m(\u001b[0m\u001b[0mfname\u001b[0m\u001b[0;34m)\u001b[0m\u001b[0;34m\u001b[0m\u001b[0;34m\u001b[0m\u001b[0m\n\u001b[1;32m    991\u001b[0m         \u001b[0;32mif\u001b[0m \u001b[0misinstance\u001b[0m\u001b[0;34m(\u001b[0m\u001b[0mfname\u001b[0m\u001b[0;34m,\u001b[0m \u001b[0mstr\u001b[0m\u001b[0;34m)\u001b[0m\u001b[0;34m:\u001b[0m\u001b[0;34m\u001b[0m\u001b[0;34m\u001b[0m\u001b[0m\n\u001b[0;32m--> 992\u001b[0;31m             \u001b[0mfh\u001b[0m \u001b[0;34m=\u001b[0m \u001b[0mnp\u001b[0m\u001b[0;34m.\u001b[0m\u001b[0mlib\u001b[0m\u001b[0;34m.\u001b[0m\u001b[0m_datasource\u001b[0m\u001b[0;34m.\u001b[0m\u001b[0mopen\u001b[0m\u001b[0;34m(\u001b[0m\u001b[0mfname\u001b[0m\u001b[0;34m,\u001b[0m \u001b[0;34m'rt'\u001b[0m\u001b[0;34m,\u001b[0m \u001b[0mencoding\u001b[0m\u001b[0;34m=\u001b[0m\u001b[0mencoding\u001b[0m\u001b[0;34m)\u001b[0m\u001b[0;34m\u001b[0m\u001b[0;34m\u001b[0m\u001b[0m\n\u001b[0m\u001b[1;32m    993\u001b[0m             \u001b[0;32mif\u001b[0m \u001b[0mencoding\u001b[0m \u001b[0;32mis\u001b[0m \u001b[0;32mNone\u001b[0m\u001b[0;34m:\u001b[0m\u001b[0;34m\u001b[0m\u001b[0;34m\u001b[0m\u001b[0m\n\u001b[1;32m    994\u001b[0m                 \u001b[0mencoding\u001b[0m \u001b[0;34m=\u001b[0m \u001b[0mgetattr\u001b[0m\u001b[0;34m(\u001b[0m\u001b[0mfh\u001b[0m\u001b[0;34m,\u001b[0m \u001b[0;34m'encoding'\u001b[0m\u001b[0;34m,\u001b[0m \u001b[0;34m'latin1'\u001b[0m\u001b[0;34m)\u001b[0m\u001b[0;34m\u001b[0m\u001b[0;34m\u001b[0m\u001b[0m\n",
            "\u001b[0;32m/usr/local/lib/python3.10/dist-packages/numpy/lib/_datasource.py\u001b[0m in \u001b[0;36mopen\u001b[0;34m(path, mode, destpath, encoding, newline)\u001b[0m\n\u001b[1;32m    191\u001b[0m \u001b[0;34m\u001b[0m\u001b[0m\n\u001b[1;32m    192\u001b[0m     \u001b[0mds\u001b[0m \u001b[0;34m=\u001b[0m \u001b[0mDataSource\u001b[0m\u001b[0;34m(\u001b[0m\u001b[0mdestpath\u001b[0m\u001b[0;34m)\u001b[0m\u001b[0;34m\u001b[0m\u001b[0;34m\u001b[0m\u001b[0m\n\u001b[0;32m--> 193\u001b[0;31m     \u001b[0;32mreturn\u001b[0m \u001b[0mds\u001b[0m\u001b[0;34m.\u001b[0m\u001b[0mopen\u001b[0m\u001b[0;34m(\u001b[0m\u001b[0mpath\u001b[0m\u001b[0;34m,\u001b[0m \u001b[0mmode\u001b[0m\u001b[0;34m,\u001b[0m \u001b[0mencoding\u001b[0m\u001b[0;34m=\u001b[0m\u001b[0mencoding\u001b[0m\u001b[0;34m,\u001b[0m \u001b[0mnewline\u001b[0m\u001b[0;34m=\u001b[0m\u001b[0mnewline\u001b[0m\u001b[0;34m)\u001b[0m\u001b[0;34m\u001b[0m\u001b[0;34m\u001b[0m\u001b[0m\n\u001b[0m\u001b[1;32m    194\u001b[0m \u001b[0;34m\u001b[0m\u001b[0m\n\u001b[1;32m    195\u001b[0m \u001b[0;34m\u001b[0m\u001b[0m\n",
            "\u001b[0;32m/usr/local/lib/python3.10/dist-packages/numpy/lib/_datasource.py\u001b[0m in \u001b[0;36mopen\u001b[0;34m(self, path, mode, encoding, newline)\u001b[0m\n\u001b[1;32m    531\u001b[0m                                       encoding=encoding, newline=newline)\n\u001b[1;32m    532\u001b[0m         \u001b[0;32melse\u001b[0m\u001b[0;34m:\u001b[0m\u001b[0;34m\u001b[0m\u001b[0;34m\u001b[0m\u001b[0m\n\u001b[0;32m--> 533\u001b[0;31m             \u001b[0;32mraise\u001b[0m \u001b[0mFileNotFoundError\u001b[0m\u001b[0;34m(\u001b[0m\u001b[0;34mf\"{path} not found.\"\u001b[0m\u001b[0;34m)\u001b[0m\u001b[0;34m\u001b[0m\u001b[0;34m\u001b[0m\u001b[0m\n\u001b[0m\u001b[1;32m    534\u001b[0m \u001b[0;34m\u001b[0m\u001b[0m\n\u001b[1;32m    535\u001b[0m \u001b[0;34m\u001b[0m\u001b[0m\n",
            "\u001b[0;31mFileNotFoundError\u001b[0m: alcohol_cerveza.csv not found."
          ]
        }
      ],
      "source": [
        "array = np.loadtxt(\"alcohol_cerveza.csv\", delimiter = \",\", skiprows=1, dtype=float) #cargamos los datos del archivo en el notebook"
      ]
    },
    {
      "cell_type": "code",
      "execution_count": null,
      "id": "b293a15e-850b-4d73-9d82-5ead31a94a55",
      "metadata": {
        "id": "b293a15e-850b-4d73-9d82-5ead31a94a55"
      },
      "outputs": [],
      "source": [
        "print(array) #imprimimos la variable array"
      ]
    },
    {
      "cell_type": "code",
      "execution_count": null,
      "id": "17668538-9d6c-4528-8008-4d58e3b2d1fd",
      "metadata": {
        "id": "17668538-9d6c-4528-8008-4d58e3b2d1fd"
      },
      "outputs": [],
      "source": [
        "media = np.mean(array) #guardamos el promedio en la variable mean\n",
        "desviacion = np.std(array) #guardamos la desviacion estandar en la variable desviacion\n",
        "LIC = media - (3*desviacion) #calculamos el limite inferior\n",
        "LSC = media + (3*desviacion) #calculamos el limite superior"
      ]
    },
    {
      "cell_type": "code",
      "execution_count": null,
      "id": "0b02eccb-9bf2-48c8-931b-e96980cba044",
      "metadata": {
        "id": "0b02eccb-9bf2-48c8-931b-e96980cba044"
      },
      "outputs": [],
      "source": [
        "print(media) #imprimimos la media\n",
        "print(desviacion) #imprimimos la desviacion\n",
        "print(LIC) #imprimimos el limite inferior\n",
        "print(LSC) #imprimimos el limite superior"
      ]
    },
    {
      "cell_type": "code",
      "execution_count": null,
      "id": "2ea6bac0-8cf6-4158-9ada-2b015c6618ee",
      "metadata": {
        "id": "2ea6bac0-8cf6-4158-9ada-2b015c6618ee"
      },
      "outputs": [],
      "source": [
        "valores_fuera_de_limites = array[np.logical_or(array < LIC, array > LSC)] #definimos la variable valores_fuera_de_limites y los guardamos\n",
        "print(\"Valores fuera de los límites de control:\", valores_fuera_de_limites) #imprimimos los valores"
      ]
    }
  ],
  "metadata": {
    "kernelspec": {
      "display_name": "Python 3 (ipykernel)",
      "language": "python",
      "name": "python3"
    },
    "language_info": {
      "codemirror_mode": {
        "name": "ipython",
        "version": 3
      },
      "file_extension": ".py",
      "mimetype": "text/x-python",
      "name": "python",
      "nbconvert_exporter": "python",
      "pygments_lexer": "ipython3",
      "version": "3.11.7"
    },
    "colab": {
      "provenance": [],
      "include_colab_link": true
    }
  },
  "nbformat": 4,
  "nbformat_minor": 5
}